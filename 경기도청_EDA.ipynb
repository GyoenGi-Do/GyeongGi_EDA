{
  "nbformat": 4,
  "nbformat_minor": 0,
  "metadata": {
    "colab": {
      "provenance": [],
      "machine_shape": "hm",
      "gpuType": "V28"
    },
    "kernelspec": {
      "name": "python3",
      "display_name": "Python 3"
    },
    "language_info": {
      "name": "python"
    },
    "accelerator": "TPU"
  },
  "cells": [
    {
      "cell_type": "markdown",
      "source": [
        "# 한글폰트 설치 - 설치 후 세션 재시작 필요"
      ],
      "metadata": {
        "id": "sR2rw_IauivJ"
      }
    },
    {
      "cell_type": "code",
      "source": [
        "!sudo apt-get install -y fonts-nanum\n",
        "!sudo fc-cache -fv\n",
        "!rm ~/.cache/matplotlib -rf\n",
        "!pip install shapely\n",
        "!pip install joblib\n",
        "!pip install geopandas\n",
        "!pip install folium mapclassify\n"
      ],
      "metadata": {
        "id": "AKSHy1HQuhwP"
      },
      "execution_count": null,
      "outputs": []
    },
    {
      "cell_type": "markdown",
      "source": [
        "# 라이브러리 로드"
      ],
      "metadata": {
        "id": "SgFnWfgFug2a"
      }
    },
    {
      "cell_type": "code",
      "source": [
        "import pandas as pd\n",
        "from matplotlib.ticker import ScalarFormatter\n",
        "import seaborn as sns\n",
        "from google.colab import drive\n",
        "drive.mount('/content/drive')\n",
        "\n",
        "import warnings\n",
        "warnings.filterwarnings('ignore')\n",
        "\n",
        "\n",
        "import pandas as pd\n",
        "import numpy as np\n",
        "import matplotlib.font_manager\n",
        "font_manager = matplotlib.font_manager.findSystemFonts(fontpaths=None, fontext='ttf')\n",
        "import matplotlib.pyplot as plt\n",
        "plt.rc('font', family='NanumGothic')\n",
        "import seaborn as sns\n",
        "import folium\n",
        "import geopandas as gpd\n",
        "from shapely.wkt import loads\n",
        "# from shapely import wkt\n",
        "from fiona.crs import from_string\n",
        "import math\n",
        "from folium.plugins import AntPath\n",
        "import warnings\n",
        "warnings.filterwarnings('ignore')\n",
        "\n",
        "# from adjustText import adjust_text"
      ],
      "metadata": {
        "id": "T-hY6Kz3Dwd6"
      },
      "execution_count": null,
      "outputs": []
    },
    {
      "cell_type": "markdown",
      "source": [
        "# 시각화 함수"
      ],
      "metadata": {
        "id": "uOKvVDVWw7h8"
      }
    },
    {
      "cell_type": "markdown",
      "source": [
        "## 지도 시각화\n"
      ],
      "metadata": {
        "id": "ZpzW2CfXSQRe"
      }
    },
    {
      "cell_type": "code",
      "source": [
        "def map(df, key, value, legend_name='test', tootip=None):\n",
        "  # Folium 지도 생성\n",
        "  style = {'fillColor': '#00000000', 'color': '#00000000'}\n",
        "  map_heatmap = folium.Map(location=[37.4, 127.5], zoom_start=10)\n",
        "\n",
        "  cp = folium.Choropleth(\n",
        "    geo_data=df, # 경계선 좌표값이 담긴 데이터\n",
        "    data=df, # Series or DataFrame 넣으면 된다\n",
        "    columns=[key, value], # DataFrame의 어떤 columns을 넣을지\n",
        "    key_on=f'feature.properties.{key}',\n",
        "    line_color = 'black',\n",
        "    fill_color='YlOrRd',\n",
        "    fill_opacity=0.5, # 색 투명도\n",
        "    line_opacity=0.5, # 선 투명도\n",
        "    legend_name=legend_name # 범례\n",
        "    ).add_to(map_heatmap)\n",
        "\n",
        "  if tootip != None:\n",
        "    folium.GeoJson(\n",
        "    df,\n",
        "    tooltip=folium.GeoJsonTooltip(fields=tootip),\n",
        "    style_function=lambda x: style\n",
        "    ).add_to(map_heatmap)\n",
        "\n",
        "  # 지도 표시\n",
        "  return display(map_heatmap)"
      ],
      "metadata": {
        "id": "fXJwECoZOSG0"
      },
      "execution_count": null,
      "outputs": []
    },
    {
      "cell_type": "code",
      "source": [
        "def map_3(visual_o, visual_d):\n",
        "\n",
        "  def calculate_rotation(start_point, end_point):\n",
        "    dx = end_point[0] - start_point[0]\n",
        "    dy = end_point[1] - start_point[1]\n",
        "    angle = math.atan2(dy, dx)  # 라디안 단위의 각도\n",
        "    angle_degrees = math.degrees(angle)  # 도 단위로 변환\n",
        "    return angle_degrees\n",
        "\n",
        "  # 맵 생성\n",
        "  m = folium.Map(location=[37.5665, 126.9780], zoom_start=10)\n",
        "\n",
        "  # # 출발지와 도착지 좌표\n",
        "  start_point = list(visual_o.loc[top_1, 'geometry'].centroid.coords)[0][::-1]\n",
        "  end_point = list(visual_d.loc[top_1, 'geometry'].centroid.coords)[0][::-1]\n",
        "\n",
        "  # 회전 각도 계산\n",
        "  rotation = calculate_rotation(start_point, end_point)\n",
        "\n",
        "  cp = folium.Choropleth(\n",
        "    geo_data=visual_o, # 경계선 좌표값이 담긴 데이터\n",
        "    data=visual_o, # Series or DataFrame 넣으면 된다\n",
        "    columns=['O_CTY_CD', 'CNT'], # DataFrame의 어떤 columns을 넣을지\n",
        "    key_on=f'feature.properties.O_CTY_CD',\n",
        "    line_color = 'black',\n",
        "    fill_color='YlOrRd',\n",
        "    fill_opacity=0.5, # 색 투명도\n",
        "    line_opacity=0.5, # 선 투명도\n",
        "    legend_name='유출입' # 범례\n",
        "    ).add_to(m)\n",
        "\n",
        "  folium.GeoJson(\n",
        "  visual_o,\n",
        "  tooltip=folium.GeoJsonTooltip(fields= ['O_CTY_NM', 'CNT'])\n",
        "  ).add_to(m)\n",
        "\n",
        "  for child in cp._children:\n",
        "    if child.startswith(\"color_map\"):\n",
        "        del cp._children[child]\n",
        "\n",
        "  cp = folium.Choropleth(\n",
        "    geo_data=visual_d, # 경계선 좌표값이 담긴 데이터\n",
        "    data=visual_d, # Series or DataFrame 넣으면 된다\n",
        "    columns=['D_CTY_CD', 'CNT'], # DataFrame의 어떤 columns을 넣을지\n",
        "    key_on=f'feature.properties.D_CTY_CD',\n",
        "    line_color = 'black',\n",
        "    fill_color='YlOrRd',\n",
        "    fill_opacity=0.5, # 색 투명도\n",
        "    line_opacity=0.5, # 선 투명도\n",
        "    # legend_name='유출입' # 범례\n",
        "    ).add_to(m)\n",
        "\n",
        "  folium.GeoJson(\n",
        "  visual_d,\n",
        "  tooltip=folium.GeoJsonTooltip(fields= ['D_CTY_NM', 'CNT'])\n",
        "  ).add_to(m)\n",
        "\n",
        "  for child in cp._children:\n",
        "    if child.startswith(\"color_map\"):\n",
        "      del cp._children[child]\n",
        "\n",
        "  # RegularPolygonMarker 추가 (색상 검은색으로 설정)\n",
        "  folium.RegularPolygonMarker(location=end_point, number_of_sides=3, radius=15, rotation=rotation-90, color='black', fill_color='black').add_to(m)\n",
        "\n",
        "  # AntPath로 라인의 방향성 나타내기 (선 색상 검은색으로 설정)\n",
        "  ant_path = AntPath(locations=[start_point, end_point], dash_array=[10, 20], delay=1000, weight=6, color='black')\n",
        "  ant_path.add_to(m)\n",
        "\n",
        "  # m.get_root().html.add_child('<script>document.getElementsByClassName(\"leaflet-bottom leaflet-left\")[0].style.display = \"none\";</script>')\n",
        "\n",
        "\n",
        "  # 맵 표시\n",
        "  display(m)\n"
      ],
      "metadata": {
        "id": "twLMV4vtOqah"
      },
      "execution_count": null,
      "outputs": []
    },
    {
      "cell_type": "markdown",
      "source": [
        "## 바그래프 시각화"
      ],
      "metadata": {
        "id": "Gvum0Iw9w9Te"
      }
    },
    {
      "cell_type": "code",
      "source": [
        "def create_barplot(data, x, y, title=None, xlabel=None, ylabel=None, legend=None):\n",
        "  plt.figure(figsize=(12,6))\n",
        "\n",
        "  if title:\n",
        "      plt.title(title, fontsize = 17)\n",
        "  if xlabel:\n",
        "      plt.xlabel(xlabel, fontsize=15)\n",
        "  if ylabel:\n",
        "      plt.ylabel(ylabel, fontsize=15)\n",
        "  if legend:\n",
        "    plt.legend(loc='upper right')\n",
        "\n",
        "  ax = sns.barplot(data=data, x=x, y=y, hue=legend, errorbar=None)\n",
        "\n",
        "  plt.ticklabel_format(axis='y',useOffset=False, style='plain')\n",
        "\n",
        "  max_y = data[y].max()  # y 열의 최댓값 계산\n",
        "  plt.ylim(0, max_y * 1.3)  # 최댓값의 30%를 여유 공간으로 추가\n",
        "\n",
        "  plt.show()"
      ],
      "metadata": {
        "id": "1B6dNtAow55o"
      },
      "execution_count": null,
      "outputs": []
    },
    {
      "cell_type": "markdown",
      "source": [
        "## 라인그래프 시각화"
      ],
      "metadata": {
        "id": "VFpkfFlCxCME"
      }
    },
    {
      "cell_type": "code",
      "source": [
        "def create_lineplot(data, x, y, title=None, xlabel=None, ylabel=None, legend=None):\n",
        "  plt.figure(figsize=(14,7))\n",
        "\n",
        "  if title:\n",
        "      plt.title(title, fontsize = 17)\n",
        "  if xlabel:\n",
        "      plt.xlabel(xlabel, fontsize=15)\n",
        "  if ylabel:\n",
        "      plt.ylabel(ylabel, fontsize=15)\n",
        "  if legend:\n",
        "    plt.legend(loc='upper right')\n",
        "\n",
        "  sns.lineplot(data=data, x=x, y=y, hue=legend)\n",
        "\n",
        "  plt.xticks(data[x])\n",
        "  plt.ticklabel_format(axis='y',useOffset=False, style='plain')\n",
        "\n",
        "  max_y = data[y].max()  # y 열의 최댓값 계산\n",
        "  plt.ylim(0, max_y * 1.3)  # 최댓값의 30%를 여유 공간으로 추가\n",
        "\n",
        "  plt.show()"
      ],
      "metadata": {
        "id": "vDjXmoZ7w6IQ"
      },
      "execution_count": null,
      "outputs": []
    },
    {
      "cell_type": "markdown",
      "source": [
        "# 시군구별 유동인구 시각화"
      ],
      "metadata": {
        "id": "YwXsOD-1vo8A"
      }
    },
    {
      "cell_type": "code",
      "source": [
        "cty_shp = pd.read_csv('/content/drive/MyDrive/시군구 경계/TBSHP_LH_CTY_202404081545.csv', encoding='UTF-8')\n",
        "cty_shp['SGG_CD'] = cty_shp['SGG_CD'].astype('str')\n",
        "cty_shp['GEOMETRY'] = cty_shp['GEOMETRY'].astype('str')\n",
        "cty_shp['geometry'] = cty_shp['GEOMETRY'].apply(lambda wkt: loads(wkt))\n",
        "cty_shp = gpd.GeoDataFrame(cty_shp, geometry = 'geometry').set_crs(\"EPSG:5181\")\n",
        "cty_shp = cty_shp.drop(columns = ['GEOMETRY'])\n",
        "cty_shp = cty_shp[['SGG_CD', 'geometry']]\n",
        "cty_shp = cty_shp.to_crs(\"EPSG:4326\")"
      ],
      "metadata": {
        "id": "Rjuyv8QjWMKb"
      },
      "execution_count": null,
      "outputs": []
    },
    {
      "cell_type": "code",
      "source": [
        "wdata = pd.read_csv('/content/drive/MyDrive/GG_SGG_FLOWPOP.csv')\n",
        "data['year_mm'] = data['ETL_YMD'].astype(str).str.slice(start=0, stop=6)\n",
        "data['M_10_CNT_age'] = data['M_10_CNT'] +  data['M_15_CNT']\n",
        "data['M_20_CNT_age'] = data['M_20_CNT'] +  data['M_25_CNT']\n",
        "data['M_30_CNT_age'] = data['M_30_CNT'] +  data['M_35_CNT']\n",
        "data['M_40_CNT_age'] = data['M_40_CNT'] +  data['M_45_CNT']\n",
        "data['M_50_CNT_age'] = data['M_50_CNT'] +  data['M_55_CNT']\n",
        "data['M_60_CNT_age'] = data['M_60_CNT'] +  data['M_65_CNT']\n",
        "data['M_70_CNT_age'] = data['M_70_CNT']\n",
        "data['W_10_CNT_age'] = data['W_10_CNT'] +  data['W_15_CNT']\n",
        "data['W_20_CNT_age'] = data['W_20_CNT'] +  data['W_25_CNT']\n",
        "data['W_30_CNT_age'] = data['W_30_CNT'] +  data['W_35_CNT']\n",
        "data['W_40_CNT_age'] = data['W_40_CNT'] +  data['W_45_CNT']\n",
        "data['W_50_CNT_age'] = data['W_50_CNT'] +  data['W_55_CNT']\n",
        "data['W_60_CNT_age'] = data['W_60_CNT'] +  data['W_65_CNT']\n",
        "data['W_70_CNT_age'] = data['W_70_CNT']\n",
        "data['M_CNT_age'] = data['M_10_CNT_age'] + data['M_20_CNT_age'] + data['M_30_CNT_age'] + data['M_40_CNT_age'] + data['M_50_CNT_age'] + data['M_60_CNT_age'] + data['M_70_CNT_age']\n",
        "data['W_CNT_age'] = data['W_10_CNT_age'] + data['W_20_CNT_age'] + data['W_30_CNT_age'] + data['W_40_CNT_age'] + data['W_50_CNT_age'] + data['W_60_CNT_age'] + data['W_70_CNT_age']\n",
        "data['total'] = data['M_CNT_age'] + data['W_CNT_age']\n",
        "data.loc[data['CTY_CD'].isin([41194, 41192, 41196]), 'CTY_CD'] = 41190\n",
        "data.loc[data['CTY_NM'].isin(['부천시 소사구', '부천시 원미구', '부천시 오정구']), 'CTY_NM'] = '부천시'"
      ],
      "metadata": {
        "id": "v0xcmF4UWMMx"
      },
      "execution_count": null,
      "outputs": []
    },
    {
      "cell_type": "code",
      "source": [
        "group_data = data[['year_mm', 'CTY_CD', 'CTY_NM', 'total']]\n",
        "group_data = group_data.groupby(by=['year_mm', 'CTY_CD', 'CTY_NM'])['total'].sum().reset_index()\n",
        "group_data['CTY_CD'] = group_data['CTY_CD'].astype(str)\n",
        "concat_data = pd.merge(group_data, cty_shp, left_on = 'CTY_CD', right_on = 'SGG_CD', how = 'left')\n",
        "concat_data = gpd.GeoDataFrame(concat_data, geometry='geometry')\n",
        "concat_data = concat_data[~concat_data['SGG_CD'].isnull()]"
      ],
      "metadata": {
        "id": "H_RVwI4_WMPZ"
      },
      "execution_count": null,
      "outputs": []
    },
    {
      "cell_type": "code",
      "source": [
        "concat_01 = concat_data[concat_data['year_mm'] == '202401']\n",
        "map(concat_01, 'CTY_CD', 'total', '유동인구', tootip = ['CTY_NM', 'total'])"
      ],
      "metadata": {
        "id": "eJYKd4u-WnLH"
      },
      "execution_count": null,
      "outputs": []
    },
    {
      "cell_type": "code",
      "source": [
        "concat_02 = concat_data[concat_data['year_mm'] == '202402']\n",
        "map(concat_02, 'CTY_CD', 'total', '유동인구', tootip = ['CTY_NM', 'total'])"
      ],
      "metadata": {
        "id": "JaOZhheXWnNs"
      },
      "execution_count": null,
      "outputs": []
    },
    {
      "cell_type": "markdown",
      "source": [
        "# 시군구 유동인구 데이터 정제"
      ],
      "metadata": {
        "id": "sMgHWOsiyEGS"
      }
    },
    {
      "cell_type": "code",
      "source": [
        "# data = df.copy()\n",
        "data['year'] = data['ETL_YMD'].astype(str).str.slice(start=0, stop=4)\n",
        "data['mm'] = data['ETL_YMD'].astype(str).str.slice(start=4, stop=6)\n",
        "convert_list = ['M_10_CNT' ,'M_15_CNT' ,'M_20_CNT' ,'M_25_CNT' ,'M_30_CNT' ,'M_35_CNT' ,'M_40_CNT' ,'M_45_CNT' ,'M_50_CNT' ,'M_55_CNT' ,'M_60_CNT' ,'M_65_CNT' ,'M_70_CNT' ,'W_10_CNT' ,'W_15_CNT' ,'W_20_CNT' ,'W_25_CNT' ,'W_30_CNT' ,'W_35_CNT' ,'W_40_CNT' ,'W_45_CNT' ,'W_50_CNT' ,'W_55_CNT' ,'W_60_CNT' ,'W_65_CNT' ,'W_70_CNT']\n",
        "for colum_name in convert_list:\n",
        "  data[colum_name] = data[colum_name].round().astype(int)"
      ],
      "metadata": {
        "id": "DVLGadB-wu0T"
      },
      "execution_count": null,
      "outputs": []
    },
    {
      "cell_type": "code",
      "source": [
        "data['M_10_CNT_age'] = data['M_10_CNT'] +  data['M_15_CNT']\n",
        "data['M_20_CNT_age'] = data['M_20_CNT'] +  data['M_25_CNT']\n",
        "data['M_30_CNT_age'] = data['M_30_CNT'] +  data['M_35_CNT']\n",
        "data['M_40_CNT_age'] = data['M_40_CNT'] +  data['M_45_CNT']\n",
        "data['M_50_CNT_age'] = data['M_50_CNT'] +  data['M_55_CNT']\n",
        "data['M_60_CNT_age'] = data['M_60_CNT'] +  data['M_65_CNT']\n",
        "data['M_70_CNT_age'] = data['M_70_CNT']\n",
        "data['W_10_CNT_age'] = data['W_10_CNT'] +  data['W_15_CNT']\n",
        "data['W_20_CNT_age'] = data['W_20_CNT'] +  data['W_25_CNT']\n",
        "data['W_30_CNT_age'] = data['W_30_CNT'] +  data['W_35_CNT']\n",
        "data['W_40_CNT_age'] = data['W_40_CNT'] +  data['W_45_CNT']\n",
        "data['W_50_CNT_age'] = data['W_50_CNT'] +  data['W_55_CNT']\n",
        "data['W_60_CNT_age'] = data['W_60_CNT'] +  data['W_65_CNT']\n",
        "data['W_70_CNT_age'] = data['W_70_CNT']\n",
        "data['M_CNT_age'] = data['M_10_CNT_age'] + data['M_20_CNT_age'] + data['M_30_CNT_age'] + data['M_40_CNT_age'] + data['M_50_CNT_age'] + data['M_60_CNT_age'] + data['M_70_CNT_age']\n",
        "data['W_CNT_age'] = data['W_10_CNT_age'] + data['W_20_CNT_age'] + data['W_30_CNT_age'] + data['W_40_CNT_age'] + data['W_50_CNT_age'] + data['W_60_CNT_age'] + data['W_70_CNT_age']\n",
        "data['year_mm'] = data['year'] + data['mm']"
      ],
      "metadata": {
        "id": "CtVTA_j1wu2j"
      },
      "execution_count": null,
      "outputs": []
    },
    {
      "cell_type": "markdown",
      "source": [
        "# 유동인구가 가장 많은 시군구(Top 5) 연령별·성별 유동인구\n"
      ],
      "metadata": {
        "id": "9R2oMktwyInJ"
      }
    },
    {
      "cell_type": "code",
      "source": [
        "melt_data = data[['year_mm', 'CTY_NM', 'M_10_CNT_age', 'M_20_CNT_age', 'M_30_CNT_age', 'M_40_CNT_age', 'M_50_CNT_age', 'M_60_CNT_age', 'M_70_CNT_age', 'W_10_CNT_age', 'W_20_CNT_age', 'W_30_CNT_age', 'W_40_CNT_age', 'W_50_CNT_age', 'W_60_CNT_age', 'W_70_CNT_age']]\n",
        "melt_df = pd.melt(melt_data, id_vars=['year_mm', 'CTY_NM'], var_name=['temp'], value_name='Value')\n",
        "year_mm_list = melt_df['year_mm'].sort_values().drop_duplicates().to_list()\n",
        "\n",
        "year_mm_si_dic = {}\n",
        "for year_mm in year_mm_list:\n",
        "  temp = melt_df[melt_df['year_mm'] == year_mm]\n",
        "  temp = temp.groupby(by=['year_mm', 'CTY_NM'])['Value'].sum().reset_index()\n",
        "  temp = temp.sort_values(by='Value', ascending=False)\n",
        "  temp = temp[:5]\n",
        "  temp_list = temp['CTY_NM'].to_list()\n",
        "  year_mm_si_dic[year_mm] = temp_list\n",
        "# year_mm_si_dic"
      ],
      "metadata": {
        "id": "3w_6rsPWwu60"
      },
      "execution_count": null,
      "outputs": []
    },
    {
      "cell_type": "code",
      "source": [
        "concat_data = pd.DataFrame()\n",
        "for key, si_list in year_mm_si_dic.items():\n",
        "  temp_df = data[data['year_mm'] == key]\n",
        "  temp_df = temp_df[temp_df['CTY_NM'].isin(si_list)]\n",
        "  concat_data = pd.concat([concat_data, temp_df])"
      ],
      "metadata": {
        "id": "rPWxXaTNwu9I"
      },
      "execution_count": null,
      "outputs": []
    },
    {
      "cell_type": "code",
      "source": [
        "melt_data = concat_data[['year_mm', 'CTY_NM', 'M_10_CNT_age', 'M_20_CNT_age', 'M_30_CNT_age', 'M_40_CNT_age', 'M_50_CNT_age', 'M_60_CNT_age', 'M_70_CNT_age', 'W_10_CNT_age', 'W_20_CNT_age', 'W_30_CNT_age', 'W_40_CNT_age', 'W_50_CNT_age', 'W_60_CNT_age', 'W_70_CNT_age']]\n",
        "melt_df = pd.melt(melt_data, id_vars=['year_mm', 'CTY_NM'], var_name=['temp'], value_name='Value')\n",
        "melt_df['gender'] = melt_df['temp'].str.split('_').str[0]\n",
        "melt_df['age'] = melt_df['temp'].str.split('_').str[1].astype(int)"
      ],
      "metadata": {
        "id": "cGp5kDmowu_X"
      },
      "execution_count": null,
      "outputs": []
    },
    {
      "cell_type": "code",
      "source": [
        "group_data = melt_df.groupby(['year_mm', 'CTY_NM', 'age', 'gender'])['Value'].sum().reset_index()\n",
        "\n",
        "sort_df = pd.DataFrame()\n",
        "for key_2, si_list in year_mm_si_dic.items():\n",
        "  temp = group_data[group_data['year_mm'] == key_2]\n",
        "  temp = temp.sort_values(by=['CTY_NM', 'age'], key=lambda x: x.map({v: i for i, v in enumerate(si_list)}))\n",
        "  sort_df = pd.concat([sort_df, temp])\n",
        "sort_df"
      ],
      "metadata": {
        "id": "PGXVwy-RwvBs"
      },
      "execution_count": null,
      "outputs": []
    },
    {
      "cell_type": "code",
      "source": [
        "for key, si_list in year_mm_si_dic.items():\n",
        "  visual_data = sort_df[sort_df['year_mm'] == key]\n",
        "  for si in si_list:\n",
        "    visual_si_data = visual_data[visual_data['CTY_NM'] == si]\n",
        "    create_barplot(visual_si_data, x='age', y='Value', title=f'{key} {si}·연령대별 유동인구', xlabel='연령대', ylabel='유동인구', legend='gender')"
      ],
      "metadata": {
        "id": "zo0ss_SowvEG"
      },
      "execution_count": null,
      "outputs": []
    },
    {
      "cell_type": "markdown",
      "source": [
        "# 유동인구가 가장 많은 시군구(TOP 5) 시간대별·성별 유동인구"
      ],
      "metadata": {
        "id": "1cCgPB6Qybsl"
      }
    },
    {
      "cell_type": "code",
      "source": [
        "melt_data = concat_data[['year_mm', 'TIME_CD', 'CTY_NM', 'M_10_CNT_age', 'M_20_CNT_age', 'M_30_CNT_age', 'M_40_CNT_age', 'M_50_CNT_age', 'M_60_CNT_age', 'M_70_CNT_age', 'W_10_CNT_age', 'W_20_CNT_age', 'W_30_CNT_age', 'W_40_CNT_age', 'W_50_CNT_age', 'W_60_CNT_age', 'W_70_CNT_age']]\n",
        "melt_df = pd.melt(melt_data, id_vars=['year_mm','TIME_CD', 'CTY_NM'], var_name=['temp'], value_name='Value')\n",
        "melt_df['gender'] = melt_df['temp'].str.split('_').str[0]\n",
        "\n",
        "group_data = melt_df.groupby(['year_mm', 'TIME_CD', 'CTY_NM', 'gender'])['Value'].sum().reset_index()\n",
        "\n",
        "sort_df = pd.DataFrame()\n",
        "for key_2, si_list in year_mm_si_dic.items():\n",
        "  temp = group_data[group_data['year_mm'] == key_2]\n",
        "  temp = temp.sort_values(by=['CTY_NM', 'TIME_CD'], key=lambda x: x.map({v: i for i, v in enumerate(si_list)}))\n",
        "  sort_df = pd.concat([sort_df, temp])\n",
        "sort_df"
      ],
      "metadata": {
        "id": "PXJ6NhK6wvGb"
      },
      "execution_count": null,
      "outputs": []
    },
    {
      "cell_type": "code",
      "source": [
        "for key, si_list in year_mm_si_dic.items():\n",
        "  visual_data = sort_df[sort_df['year_mm'] == key]\n",
        "  for si in si_list:\n",
        "    visual_si_data = visual_data[visual_data['CTY_NM'] == si]\n",
        "    create_lineplot(visual_si_data, x='TIME_CD', y='Value', title=f'{key} {si}·시간대별 유동인구', xlabel='시간대', ylabel='유동인구', legend='gender')"
      ],
      "metadata": {
        "id": "DwbVyMCxyj6v"
      },
      "execution_count": null,
      "outputs": []
    },
    {
      "cell_type": "markdown",
      "source": [
        "# 1월 시군구별 내국인 및 외국인 유동인구수"
      ],
      "metadata": {
        "id": "RgVLlLMz01xU"
      }
    },
    {
      "cell_type": "code",
      "source": [
        "sum_df = data.groupby(['CTY_CD', 'year_mm', 'FORN_GB'])['total'].sum().reset_index()\n",
        "sum_df['CTY_CD'] = sum_df['CTY_CD'].astype(str)\n",
        "concat_data = pd.merge(sum_df, cty_shp, left_on = 'CTY_CD', right_on = 'SGG_CD', how = 'left')\n",
        "concat_data_01 = concat_data[concat_data['year_mm'] == '202401']\n",
        "\n",
        "concat_data_01_in = concat_data_01[concat_data_01['FORN_GB'] == '내국인']\n",
        "concat_data_01_in = concat_data_01_in.reset_index(drop=1)\n",
        "concat_data_01_in = gpd.GeoDataFrame(concat_data_01_in, geometry=concat_data_01_in['geometry'], crs=\"EPSG:4326\")\n",
        "map(concat_data_01_in, 'CTY_CD', 'total', '유동인구', tootip = ['total'])"
      ],
      "metadata": {
        "id": "xuACKHJZa_fp"
      },
      "execution_count": null,
      "outputs": []
    },
    {
      "cell_type": "code",
      "source": [
        "concat_data_01_out = concat_data_01[concat_data_01['FORN_GB'] == '외국인']\n",
        "concat_data_01_out = concat_data_01_out.reset_index(drop=1)\n",
        "concat_data_01_out = gpd.GeoDataFrame(concat_data_01_out, geometry=concat_data_01_out['geometry'], crs=\"EPSG:4326\")\n",
        "map(concat_data_01_out, 'CTY_CD', 'total', '유동인구', tootip = ['total'])"
      ],
      "metadata": {
        "id": "01uegOO1knyR"
      },
      "execution_count": null,
      "outputs": []
    },
    {
      "cell_type": "markdown",
      "source": [
        "# 2월 시군구별 내국인 및 외국인 유동인구수"
      ],
      "metadata": {
        "id": "2W4TXcKNmH_I"
      }
    },
    {
      "cell_type": "code",
      "source": [
        "concat_data_02 = concat_data[concat_data['year_mm'] == '202402']\n",
        "\n",
        "concat_data_02_in = concat_data_02[concat_data_02['FORN_GB'] == '내국인']\n",
        "concat_data_02_in = concat_data_02_in.reset_index(drop=1)\n",
        "concat_data_02_in = gpd.GeoDataFrame(concat_data_02_in, geometry=concat_data_02_in['geometry'], crs=\"EPSG:4326\")\n",
        "map(concat_data_02_in, 'CTY_CD', 'total', '유동인구', tootip = ['total'])"
      ],
      "metadata": {
        "id": "Tg5C2fufkPt8"
      },
      "execution_count": null,
      "outputs": []
    },
    {
      "cell_type": "code",
      "source": [
        "concat_data_02_out = concat_data_02[concat_data_02['FORN_GB'] == '외국인']\n",
        "concat_data_02_out = concat_data_02_out.reset_index(drop=1)\n",
        "concat_data_02_out = gpd.GeoDataFrame(concat_data_02_out, geometry=concat_data_02_out['geometry'], crs=\"EPSG:4326\")\n",
        "map(concat_data_02_out, 'CTY_CD', 'total', '유동인구', tootip = ['total'])"
      ],
      "metadata": {
        "id": "TBodGdAeliSU"
      },
      "execution_count": null,
      "outputs": []
    },
    {
      "cell_type": "markdown",
      "source": [
        "# 행정동별 유동인구 시각화"
      ],
      "metadata": {
        "id": "EEtxTYND02Yi"
      }
    },
    {
      "cell_type": "code",
      "source": [
        "# 행정동별 유동인구 데이터\n",
        "df_admi = pd.read_csv('/content/drive/MyDrive/GG_ADMI_FLOWPOP.csv')\n",
        "df_admi['ADMI_CD'] = df_admi['ADMI_CD'].astype(str)\n",
        "df_admi['ETL_YMD'] = df_admi['ETL_YMD'].astype(str)\n",
        "df_admi['ymd'] = df_admi['ETL_YMD'].str[:6]\n",
        "df_admi['name'] = df_admi['CTY_NM'] + ' ' + df_admi['ADMI_NM']"
      ],
      "metadata": {
        "id": "fGmXCEbuU-Qv"
      },
      "execution_count": null,
      "outputs": []
    },
    {
      "cell_type": "code",
      "source": [
        "df_admi['M_10_CNT_age'] = df_admi['M_10_CNT'] +  df_admi['M_15_CNT']\n",
        "df_admi['M_20_CNT_age'] = df_admi['M_20_CNT'] +  df_admi['M_25_CNT']\n",
        "df_admi['M_30_CNT_age'] = df_admi['M_30_CNT'] +  df_admi['M_35_CNT']\n",
        "df_admi['M_40_CNT_age'] = df_admi['M_40_CNT'] +  df_admi['M_45_CNT']\n",
        "df_admi['M_50_CNT_age'] = df_admi['M_50_CNT'] +  df_admi['M_55_CNT']\n",
        "df_admi['M_60_CNT_age'] = df_admi['M_60_CNT'] +  df_admi['M_65_CNT']\n",
        "df_admi['M_70_CNT_age'] = df_admi['M_70_CNT']\n",
        "df_admi['W_10_CNT_age'] = df_admi['W_10_CNT'] +  df_admi['W_15_CNT']\n",
        "df_admi['W_20_CNT_age'] = df_admi['W_20_CNT'] +  df_admi['W_25_CNT']\n",
        "df_admi['W_30_CNT_age'] = df_admi['W_30_CNT'] +  df_admi['W_35_CNT']\n",
        "df_admi['W_40_CNT_age'] = df_admi['W_40_CNT'] +  df_admi['W_45_CNT']\n",
        "df_admi['W_50_CNT_age'] = df_admi['W_50_CNT'] +  df_admi['W_55_CNT']\n",
        "df_admi['W_60_CNT_age'] = df_admi['W_60_CNT'] +  df_admi['W_65_CNT']\n",
        "df_admi['W_70_CNT_age'] = df_admi['W_70_CNT']\n",
        "df_admi['M_CNT_age'] = df_admi['M_10_CNT_age'] + df_admi['M_20_CNT_age'] + df_admi['M_30_CNT_age'] + df_admi['M_40_CNT_age'] + df_admi['M_50_CNT_age'] + df_admi['M_60_CNT_age'] + df_admi['M_70_CNT_age']\n",
        "df_admi['W_CNT_age'] = df_admi['W_10_CNT_age'] + df_admi['W_20_CNT_age'] + df_admi['W_30_CNT_age'] + df_admi['W_40_CNT_age'] + df_admi['W_50_CNT_age'] + df_admi['W_60_CNT_age'] + df_admi['W_70_CNT_age']\n",
        "df_admi['total'] = df_admi['M_CNT_age'] + df_admi['W_CNT_age']\n",
        "df_admi['name'] = df_admi['CTY_NM'] + ' ' + df_admi['ADMI_NM']"
      ],
      "metadata": {
        "id": "4B2fL6PyVBOX"
      },
      "execution_count": null,
      "outputs": []
    },
    {
      "cell_type": "code",
      "source": [
        "# 행정동별 유동인구 데이터\n",
        "sum_df = df_admi.groupby(['name', 'ADMI_CD', 'ymd'])['total'].sum().reset_index()\n",
        "\n",
        "cty_tmp_01 = sum_df[sum_df['ymd'] == '202401']\n",
        "cty_tmp_01 = cty_tmp_01[['name', 'ADMI_CD', 'total', 'ymd']]\n",
        "\n",
        "cty_tmp_02 = sum_df[sum_df['ymd'] == '202402']\n",
        "cty_tmp_02 = cty_tmp_02[['name', 'ADMI_CD', 'total', 'ymd']]\n"
      ],
      "metadata": {
        "id": "4IxibU8q34yI"
      },
      "execution_count": null,
      "outputs": []
    },
    {
      "cell_type": "code",
      "source": [
        "# 202401 행정동별 총 유동인구수\n",
        "cty_tmp_01 = cty_tmp_01.sort_values(by='total', ascending=False)\n",
        "cty_tmp_01.head()"
      ],
      "metadata": {
        "id": "lkzQVIL67HGB"
      },
      "execution_count": null,
      "outputs": []
    },
    {
      "cell_type": "code",
      "source": [
        "# 202402 행정동별 총 유동인구수\n",
        "cty_tmp_02 = cty_tmp_02.sort_values(by='total', ascending=False)\n",
        "cty_tmp_02.head()"
      ],
      "metadata": {
        "id": "NA3Q-bzEzqFa"
      },
      "execution_count": null,
      "outputs": []
    },
    {
      "cell_type": "markdown",
      "source": [
        "# 행정동 유동인구 데이터 정제"
      ],
      "metadata": {
        "id": "W0tN8uwd0L_l"
      }
    },
    {
      "cell_type": "code",
      "source": [
        "dong_data = df_admi.copy()\n",
        "dong_data['year'] = dong_data['ETL_YMD'].astype(str).str.slice(start=0, stop=4)\n",
        "dong_data['mm'] = dong_data['ETL_YMD'].astype(str).str.slice(start=4, stop=6)\n",
        "dong_data['year_mm'] = dong_data['year'] + dong_data['mm']\n",
        "dong_data['admi'] = dong_data['CTY_NM'] + ' ' + dong_data['ADMI_NM']"
      ],
      "metadata": {
        "id": "Ben_Rg2F0EEh"
      },
      "execution_count": null,
      "outputs": []
    },
    {
      "cell_type": "markdown",
      "source": [
        "# 유동인구가 가장 많은 행정동(Top 5) 연령별·성별 유동인구\n"
      ],
      "metadata": {
        "id": "c822ni0d0U_j"
      }
    },
    {
      "cell_type": "code",
      "source": [
        "melt_data = dong_data[['year_mm', 'admi', 'total']]\n",
        "\n",
        "group_data = melt_data.groupby(['year_mm', 'admi'])['total'].sum().reset_index()\n",
        "group_data.head()\n",
        "year_mm_list = melt_data['year_mm'].drop_duplicates().sort_values().to_list()\n",
        "\n",
        "year_mm_admi_dic = {}\n",
        "for year_mm in year_mm_list:\n",
        "  temp = melt_data[melt_data['year_mm'] == year_mm]\n",
        "  temp = temp.groupby(by=['year_mm', 'admi'])['total'].sum().reset_index()\n",
        "  temp = temp.sort_values(by='total', ascending=False)\n",
        "  temp = temp[:5]\n",
        "  temp_list = temp['admi'].to_list()\n",
        "  year_mm_admi_dic[year_mm] = temp_list\n",
        "# year_mm_admi_dic"
      ],
      "metadata": {
        "id": "n_onf4130EGx"
      },
      "execution_count": null,
      "outputs": []
    },
    {
      "cell_type": "code",
      "source": [
        "concat_data = pd.DataFrame()\n",
        "for key, si_list in year_mm_admi_dic.items():\n",
        "  temp_df = dong_data[dong_data['year_mm'] == key]\n",
        "  temp_df = temp_df[temp_df['admi'].isin(si_list)]\n",
        "  concat_data = pd.concat([concat_data, temp_df])"
      ],
      "metadata": {
        "id": "SDBJh6nv0EJN"
      },
      "execution_count": null,
      "outputs": []
    },
    {
      "cell_type": "code",
      "source": [
        "melt_data = concat_data[['year_mm', 'admi', 'M_10_CNT_age', 'M_20_CNT_age', 'M_30_CNT_age', 'M_40_CNT_age', 'M_50_CNT_age', 'M_60_CNT_age', 'M_70_CNT_age', 'W_10_CNT_age', 'W_20_CNT_age', 'W_30_CNT_age', 'W_40_CNT_age', 'W_50_CNT_age', 'W_60_CNT_age', 'W_70_CNT_age']]\n",
        "melt_df = pd.melt(melt_data, id_vars=['year_mm', 'admi'], var_name=['temp'], value_name='Value')\n",
        "melt_df['gender'] = melt_df['temp'].str.split('_').str[0]\n",
        "melt_df['age'] = melt_df['temp'].str.split('_').str[1].astype(int)"
      ],
      "metadata": {
        "id": "Si59glwM0ELd"
      },
      "execution_count": null,
      "outputs": []
    },
    {
      "cell_type": "code",
      "source": [
        "group_data = melt_df.groupby(['year_mm', 'admi', 'age', 'gender'])['Value'].sum().reset_index()\n",
        "\n",
        "sort_df = pd.DataFrame()\n",
        "for key_2, si_list in year_mm_admi_dic.items():\n",
        "  temp = group_data[group_data['year_mm'] == key_2]\n",
        "  temp = temp.sort_values(by=['admi', 'age'], key=lambda x: x.map({v: i for i, v in enumerate(si_list)}))\n",
        "  sort_df = pd.concat([sort_df, temp])\n",
        "sort_df"
      ],
      "metadata": {
        "id": "pndn2ZZ0zqaX"
      },
      "execution_count": null,
      "outputs": []
    },
    {
      "cell_type": "code",
      "source": [
        "for key, si_list in year_mm_admi_dic.items():\n",
        "  visual_data = sort_df[sort_df['year_mm'] == key]\n",
        "  for si in si_list:\n",
        "    visual_si_data = visual_data[visual_data['admi'] == si]\n",
        "    create_barplot(visual_si_data, x='age', y='Value', title=f'{key} {si}·연령대별 유동인구', xlabel='연령대', ylabel='유동인구', legend='gender')"
      ],
      "metadata": {
        "id": "DDdYcrbI0iY9"
      },
      "execution_count": null,
      "outputs": []
    },
    {
      "cell_type": "markdown",
      "source": [
        "# 유동인구가 가장 많은 행정동(TOP 5) 시간대별·성별 유동인구"
      ],
      "metadata": {
        "id": "t4bB52Dn1WnG"
      }
    },
    {
      "cell_type": "code",
      "source": [
        "melt_data = concat_data[['year_mm', 'TIME_CD', 'admi', 'M_10_CNT_age', 'M_20_CNT_age', 'M_30_CNT_age', 'M_40_CNT_age', 'M_50_CNT_age', 'M_60_CNT_age', 'M_70_CNT_age', 'W_10_CNT_age', 'W_20_CNT_age', 'W_30_CNT_age', 'W_40_CNT_age', 'W_50_CNT_age', 'W_60_CNT_age', 'W_70_CNT_age']]\n",
        "melt_df = pd.melt(melt_data, id_vars=['year_mm', 'TIME_CD', 'admi'], var_name=['temp'], value_name='Value')\n",
        "melt_df['gender'] = melt_df['temp'].str.split('_').str[0]\n",
        "\n",
        "group_data = melt_df.groupby(['year_mm', 'TIME_CD', 'admi', 'gender'])['Value'].sum().reset_index()\n",
        "\n",
        "sort_df = pd.DataFrame()\n",
        "for key_2, si_list in year_mm_admi_dic.items():\n",
        "  temp = group_data[group_data['year_mm'] == key_2]\n",
        "  temp = temp.sort_values(by=['admi', 'TIME_CD'], key=lambda x: x.map({v: i for i, v in enumerate(si_list)}))\n",
        "  sort_df = pd.concat([sort_df, temp])\n",
        "sort_df\n"
      ],
      "metadata": {
        "id": "4NszHLcS1W3C"
      },
      "execution_count": null,
      "outputs": []
    },
    {
      "cell_type": "code",
      "source": [
        "for key, si_list in year_mm_admi_dic.items():\n",
        "  visual_data = sort_df[sort_df['year_mm'] == key]\n",
        "  for si in si_list:\n",
        "    visual_si_data = visual_data[visual_data['admi'] == si]\n",
        "    create_lineplot(visual_si_data, x='TIME_CD', y='Value', title=f'{key} {si}·시간대별 유동인구', xlabel='시간대', ylabel='유동인구', legend='gender')"
      ],
      "metadata": {
        "id": "iKCSwkbm1W5O"
      },
      "execution_count": null,
      "outputs": []
    },
    {
      "cell_type": "markdown",
      "source": [
        "# 시군구별 유입 방문목적별 체류시간\n"
      ],
      "metadata": {
        "id": "BACZ458DGwwE"
      }
    },
    {
      "cell_type": "code",
      "source": [
        "sgg_time_income_data = pd.read_csv('./drive/MyDrive/GG_TRANS_SEXAGE_DURATION_SGG_INFLOW.csv')\n",
        "sgg_time_income_data['DURATION'] = sgg_time_income_data['DURATION'].astype(float)\n",
        "sgg_time_income_data"
      ],
      "metadata": {
        "id": "8DoyhyRBGw25"
      },
      "execution_count": null,
      "outputs": []
    },
    {
      "cell_type": "code",
      "source": [
        "year_mm_list = sgg_time_income_data['ETL_YM'].sort_values().drop_duplicates().to_list()\n",
        "year_mm_si_dic = {}\n",
        "for year_mm in year_mm_list:\n",
        "  temp = sgg_time_income_data[sgg_time_income_data['ETL_YM'] == year_mm]\n",
        "  temp = temp.groupby(by=['ETL_YM', 'D_CTY_NM'])['CNT'].sum().reset_index()\n",
        "  temp = temp.sort_values(by='CNT', ascending=False)\n",
        "  temp = temp[:5]\n",
        "  temp_list = temp['D_CTY_NM'].to_list()\n",
        "  year_mm_si_dic[year_mm] = temp_list"
      ],
      "metadata": {
        "id": "jZpz37N1Gw54"
      },
      "execution_count": null,
      "outputs": []
    },
    {
      "cell_type": "code",
      "source": [
        "concat_data = pd.DataFrame()\n",
        "for key, si_list in year_mm_si_dic.items():\n",
        "  temp_df = sgg_time_income_data[sgg_time_income_data['ETL_YM'] == key]\n",
        "  temp_df = temp_df[temp_df['D_CTY_NM'].isin(si_list)]\n",
        "  concat_data = pd.concat([concat_data, temp_df])\n",
        "\n",
        "concat_data['time'] = ''\n",
        "concat_data.loc[concat_data['DURATION'] < 60, 'time'] = '1시간 미만'\n",
        "concat_data.loc[(concat_data['DURATION'] >= 60) & (concat_data['DURATION'] < 120), 'time'] = '1시간 이상'\n",
        "concat_data.loc[(concat_data['DURATION'] >= 120) & (concat_data['DURATION'] < 180), 'time'] = '2시간 이상'\n",
        "concat_data.loc[concat_data['DURATION'] >= 180, 'time'] = '3시간 이상'"
      ],
      "metadata": {
        "id": "bb67J-xDGw80"
      },
      "execution_count": null,
      "outputs": []
    },
    {
      "cell_type": "code",
      "source": [
        "concat_data"
      ],
      "metadata": {
        "id": "HBWHFcXxrbO7"
      },
      "execution_count": null,
      "outputs": []
    },
    {
      "cell_type": "markdown",
      "source": [
        "# 행정동별 국적별 유동인구 확인"
      ],
      "metadata": {
        "id": "e5pa2-R_2NPY"
      }
    },
    {
      "cell_type": "code",
      "source": [
        "# 국적별 총 유동인구수 데이터\n",
        "\n",
        "cty_forng_01 = df_admi[(df_admi['ymd'] == '202401') & (df_admi['FORN_GB'] == '내국인')]\n",
        "cty_fornb_02 = df_admi[(df_admi['ymd'] == '202401') & (df_admi['FORN_GB'] == '외국인')]\n",
        "\n",
        "cty_forn_01 = df_admi[(df_admi['ymd'] == '202402') & (df_admi['FORN_GB'] == '내국인')]\n",
        "cty_forn_02 = df_admi[(df_admi['ymd'] == '202402') & (df_admi['FORN_GB'] == '외국인')]"
      ],
      "metadata": {
        "id": "qEYCEN8g1W7c"
      },
      "execution_count": null,
      "outputs": []
    },
    {
      "cell_type": "code",
      "source": [
        "cty_forng_01 = cty_forng_01.groupby(by=['name', 'FORN_GB', 'ymd'])['total'].sum().reset_index()\n",
        "cty_fornb_02 = cty_fornb_02.groupby(by=['name', 'FORN_GB', 'ymd'])['total'].sum().reset_index()\n",
        "cty_forn_01 = cty_forn_01.groupby(by=['name', 'FORN_GB', 'ymd'])['total'].sum().reset_index()\n",
        "cty_forn_02 = cty_forn_02.groupby(by=['name', 'FORN_GB', 'ymd'])['total'].sum().reset_index()"
      ],
      "metadata": {
        "id": "K24xCRI9XZ8n"
      },
      "execution_count": null,
      "outputs": []
    },
    {
      "cell_type": "code",
      "source": [
        "# 202401 행정동별 내국인 유동인구수\n",
        "cty_forng_01.head().sort_values(by='total', ascending=False)"
      ],
      "metadata": {
        "id": "I02-4mjR1W9r"
      },
      "execution_count": null,
      "outputs": []
    },
    {
      "cell_type": "code",
      "source": [
        "# 202402 행정동별 내국인 유동인구수\n",
        "cty_forn_01.head().sort_values(by='total', ascending=False)"
      ],
      "metadata": {
        "id": "v7h9dVRW2UMF"
      },
      "execution_count": null,
      "outputs": []
    },
    {
      "cell_type": "code",
      "source": [
        "# 202401 행정동별 외국인 유동인구수\n",
        "cty_fornb_02.head().sort_values(by='total', ascending=False)"
      ],
      "metadata": {
        "id": "IHuLCYvP1XAI"
      },
      "execution_count": null,
      "outputs": []
    },
    {
      "cell_type": "code",
      "source": [
        "# 202402 행정동별 내국인 유동인구수\n",
        "cty_forn_02.head().sort_values(by='total', ascending=False)"
      ],
      "metadata": {
        "id": "-a8JwJLi1XCZ"
      },
      "execution_count": null,
      "outputs": []
    },
    {
      "cell_type": "markdown",
      "source": [
        "# 시군구별 유입 생활이동인구"
      ],
      "metadata": {
        "id": "AcJK324y2x3O"
      }
    },
    {
      "cell_type": "code",
      "source": [
        "# 시군구별 유입 생활이동인구\n",
        "df_inflow = pd.read_csv('/content/drive/MyDrive/GG_TRANS_SEXAGE_SGG_INFLOW.csv')\n",
        "\n",
        "# 부천시 시군구 경계가 업데이트 되지 않은 관계로 3개 시군구 통계내서 활용\n",
        "df_inflow.loc[df_inflow['D_CTY_CD'].isin([41194, 41192, 41196]), 'D_CTY_CD'] = 41190\n",
        "df_inflow.loc[df_inflow['D_CTY_NM'].isin(['부천시 소사구', '부천시 원미구', '부천시 오정구']), 'D_CTY_NM'] = '부천시'\n",
        "df_inflow['D_CTY_CD'] = df_inflow['D_CTY_CD'].astype('str')\n",
        "\n",
        "#opendw 데이터(시군구 경계)\n",
        "cty_shp = pd.read_csv('/content/drive/MyDrive/시군구 경계/TBSHP_LH_CTY_202404081545.csv', encoding='UTF-8')\n",
        "cty_shp['SGG_CD'] = cty_shp['SGG_CD'].astype('str')\n",
        "cty_shp['GEOMETRY'] = cty_shp['GEOMETRY'].astype('str')\n",
        "cty_shp['geometry'] = cty_shp['GEOMETRY'].apply(lambda wkt: loads(wkt))\n",
        "cty_shp = gpd.GeoDataFrame(cty_shp, geometry = 'geometry').set_crs(\"EPSG:5181\")\n",
        "cty_shp = cty_shp.drop(columns = ['GEOMETRY'])\n",
        "cty_shp = cty_shp[['SGG_CD', 'geometry']]\n",
        "cty_shp = cty_shp.to_crs(\"EPSG:4326\")"
      ],
      "metadata": {
        "id": "u2SASkc_2xPj"
      },
      "execution_count": null,
      "outputs": []
    },
    {
      "cell_type": "code",
      "source": [
        "df_inflow['year_mm'] = df_inflow['ETL_YM']\n",
        "df_inflow.loc[df_inflow['D_CTY_CD'].isin([41194, 41192, 41196]), 'D_CTY_CD'] = 41190\n",
        "df_inflow.loc[df_inflow['D_CTY_CD'].isin(['부천시 소사구', '부천시 원미구', '부천시 오정구']), 'CTY_NM'] = '부천시'"
      ],
      "metadata": {
        "id": "FodGzHEKYhPe"
      },
      "execution_count": null,
      "outputs": []
    },
    {
      "cell_type": "code",
      "source": [
        "grouped = df_inflow.groupby(['D_CTY_CD', 'D_CTY_NM', 'year_mm'])['CNT'].sum().reset_index()\n",
        "grouped"
      ],
      "metadata": {
        "id": "ih6M_3X0ZLCT"
      },
      "execution_count": null,
      "outputs": []
    },
    {
      "cell_type": "code",
      "source": [
        "concat_data = pd.merge(grouped, cty_shp, left_on = 'D_CTY_CD', right_on = 'SGG_CD', how = 'left')\n",
        "concat_data = gpd.GeoDataFrame(concat_data, geometry='geometry')\n",
        "# concat_data"
      ],
      "metadata": {
        "id": "Fahj4LYwZpMY"
      },
      "execution_count": null,
      "outputs": []
    },
    {
      "cell_type": "code",
      "source": [
        "cty_tmp_01 = concat_data[concat_data['year_mm'] == 202401]\n",
        "map(cty_tmp_01, 'D_CTY_CD', 'CNT', '유입 생활이동인구', tootip = ['D_CTY_NM', 'CNT'])"
      ],
      "metadata": {
        "id": "F2zTRZ3sZ5UZ"
      },
      "execution_count": null,
      "outputs": []
    },
    {
      "cell_type": "code",
      "source": [
        "cty_tmp_02 = concat_data[concat_data['year_mm'] == 202402]\n",
        "map(cty_tmp_02, 'D_CTY_CD', 'CNT', '유입 생활이동인구', tootip = ['D_CTY_NM', 'CNT'])"
      ],
      "metadata": {
        "id": "ZWfcViAnZ5Ye"
      },
      "execution_count": null,
      "outputs": []
    },
    {
      "cell_type": "markdown",
      "source": [
        "# 시군구별(TOP 5) 유입 이동수단별 생활이동인구"
      ],
      "metadata": {
        "id": "8PPQNZgx2nxm"
      }
    },
    {
      "cell_type": "code",
      "source": [
        "sudan_mapping = {0: '차량',\n",
        "                 1: '노선버스',\n",
        "                 2: '지하철',\n",
        "                 3: '도보',\n",
        "                 4: '고속버스',\n",
        "                 5: '기차',\n",
        "                 6: '항공',\n",
        "                 7: '기타'}"
      ],
      "metadata": {
        "id": "M5186s5b1XEl"
      },
      "execution_count": null,
      "outputs": []
    },
    {
      "cell_type": "code",
      "source": [
        "sgg_sudan_income_data = pd.read_csv('./drive/MyDrive/GG_TRANS_SEXAGE_SGG_INFLOW.csv')\n",
        "sgg_sudan_income_data['TRANS_GB'] = sgg_sudan_income_data['TRANS_GB'].map(sudan_mapping)"
      ],
      "metadata": {
        "id": "gkG4iJUXqToh"
      },
      "execution_count": null,
      "outputs": []
    },
    {
      "cell_type": "code",
      "source": [
        "year_mm_list = sgg_sudan_income_data['ETL_YM'].sort_values().drop_duplicates().to_list()\n",
        "\n",
        "year_mm_si_dic = {}\n",
        "for year_mm in year_mm_list:\n",
        "  temp = sgg_sudan_income_data[sgg_sudan_income_data['ETL_YM'] == year_mm]\n",
        "  temp = temp.groupby(by=['ETL_YM', 'D_CTY_NM'])['CNT'].sum().reset_index()\n",
        "  temp = temp.sort_values(by='CNT', ascending=False)\n",
        "  temp = temp[:5]\n",
        "  temp_list = temp['D_CTY_NM'].to_list()\n",
        "  year_mm_si_dic[year_mm] = temp_list\n",
        "# year_mm_si_dic"
      ],
      "metadata": {
        "id": "9tZfkkaZ3Bkr"
      },
      "execution_count": null,
      "outputs": []
    },
    {
      "cell_type": "code",
      "source": [
        "concat_data = pd.DataFrame()\n",
        "for key, si_list in year_mm_si_dic.items():\n",
        "  temp_df = sgg_sudan_income_data[sgg_sudan_income_data['ETL_YM'] == key]\n",
        "  temp_df = temp_df[temp_df['D_CTY_NM'].isin(si_list)]\n",
        "  concat_data = pd.concat([concat_data, temp_df])\n",
        "# concat_data.head()"
      ],
      "metadata": {
        "id": "XfPq3aVf3BnI"
      },
      "execution_count": null,
      "outputs": []
    },
    {
      "cell_type": "code",
      "source": [
        "group_data = concat_data.groupby(['ETL_YM', 'D_CTY_NM', 'TRANS_GB'])['CNT'].sum().reset_index()\n",
        "group_data.head()\n",
        "\n",
        "sort_df = pd.DataFrame()\n",
        "for key_2, si_list in year_mm_si_dic.items():\n",
        "  temp = group_data[group_data['ETL_YM'] == key_2]\n",
        "  temp = temp.sort_values(by=['D_CTY_NM', 'TRANS_GB'], key=lambda x: x.map({v: i for i, v in enumerate(si_list)}))\n",
        "  sort_df = pd.concat([sort_df, temp])\n",
        "sort_df"
      ],
      "metadata": {
        "id": "kTCTKqnI3Bpb"
      },
      "execution_count": null,
      "outputs": []
    },
    {
      "cell_type": "code",
      "source": [
        "for key, si_list in year_mm_si_dic.items():\n",
        "  visual_data = sort_df[sort_df['ETL_YM'] == key]\n",
        "  for si in si_list:\n",
        "    visual_si_data = visual_data[visual_data['D_CTY_NM'] == si]\n",
        "    create_barplot(visual_si_data, x='TRANS_GB', y='CNT', title=f'{key} {si}·이동수단별 유입 생활이동인구', xlabel='이동수단', ylabel='생활이동인구')"
      ],
      "metadata": {
        "id": "6BqD_piw3BsL"
      },
      "execution_count": null,
      "outputs": []
    },
    {
      "cell_type": "markdown",
      "source": [
        "# 시군구별(TOP 5) 유입 이동목적별 생활이동인구"
      ],
      "metadata": {
        "id": "KiR5oWWH3FPA"
      }
    },
    {
      "cell_type": "code",
      "source": [
        "mokjuk_mapping = {0: '귀가',\n",
        "                 1: '출근',\n",
        "                 2: '등교',\n",
        "                 3: '쇼핑',\n",
        "                 4: '관광',\n",
        "                 5: '병원',\n",
        "                 6: '기타'\n",
        "                 }"
      ],
      "metadata": {
        "id": "ikftc8pA3BuK"
      },
      "execution_count": null,
      "outputs": []
    },
    {
      "cell_type": "code",
      "source": [
        "sgg_mokjuk_income_data = pd.read_csv('./drive/MyDrive/GG_PURPOSE_SEXAGE_SGG_INFLOW.csv')\n",
        "sgg_mokjuk_income_data['PURPOSE'] = sgg_mokjuk_income_data['PURPOSE'].map(mokjuk_mapping)"
      ],
      "metadata": {
        "id": "8D9iQVxY3Bwu"
      },
      "execution_count": null,
      "outputs": []
    },
    {
      "cell_type": "code",
      "source": [
        "year_mm_list = sgg_mokjuk_income_data['ETL_YM'].sort_values().drop_duplicates().to_list()\n",
        "\n",
        "year_mm_si_dic = {}\n",
        "for year_mm in year_mm_list:\n",
        "  temp = sgg_mokjuk_income_data[sgg_mokjuk_income_data['ETL_YM'] == year_mm]\n",
        "  temp = temp.groupby(by=['ETL_YM', 'D_CTY_NM'])['CNT'].sum().reset_index()\n",
        "  temp = temp.sort_values(by='CNT', ascending=False)\n",
        "  temp = temp[:5]\n",
        "  temp_list = temp['D_CTY_NM'].to_list()\n",
        "  year_mm_si_dic[year_mm] = temp_list\n",
        "# year_mm_si_dic"
      ],
      "metadata": {
        "id": "PF2OT8rW3OGk"
      },
      "execution_count": null,
      "outputs": []
    },
    {
      "cell_type": "code",
      "source": [
        "concat_data = pd.DataFrame()\n",
        "for key, si_list in year_mm_si_dic.items():\n",
        "  temp_df = sgg_mokjuk_income_data[sgg_mokjuk_income_data['ETL_YM'] == key]\n",
        "  temp_df = temp_df[temp_df['D_CTY_NM'].isin(si_list)]\n",
        "  concat_data = pd.concat([concat_data, temp_df])\n",
        "# concat_data.head()"
      ],
      "metadata": {
        "id": "0_vaGg8g3OJQ"
      },
      "execution_count": null,
      "outputs": []
    },
    {
      "cell_type": "code",
      "source": [
        "group_data = concat_data.groupby(['ETL_YM', 'D_CTY_NM', 'PURPOSE'])['CNT'].sum().reset_index()\n",
        "\n",
        "sort_df = pd.DataFrame()\n",
        "for key_2, si_list in year_mm_si_dic.items():\n",
        "  temp = group_data[group_data['ETL_YM'] == key_2]\n",
        "  temp = temp.sort_values(by=['D_CTY_NM', 'PURPOSE'], key=lambda x: x.map({v: i for i, v in enumerate(si_list)}))\n",
        "  sort_df = pd.concat([sort_df, temp])\n",
        "\n",
        "sort_df"
      ],
      "metadata": {
        "id": "Zlgvbsmv3OLs"
      },
      "execution_count": null,
      "outputs": []
    },
    {
      "cell_type": "code",
      "source": [
        "for key, si_list in year_mm_si_dic.items():\n",
        "  visual_data = sort_df[sort_df['ETL_YM'] == key]\n",
        "  for si in si_list:\n",
        "    visual_si_data = visual_data[visual_data['D_CTY_NM'] == si]\n",
        "    create_barplot(visual_si_data, x='PURPOSE', y='CNT', title=f'{key} {si}·이동목적별 유입 생활이동인구', xlabel='이동목적', ylabel='생활이동인구')"
      ],
      "metadata": {
        "id": "ml_hJwHq3OOD"
      },
      "execution_count": null,
      "outputs": []
    },
    {
      "cell_type": "markdown",
      "source": [
        "# 시군구별(TOP 5) 유입 이동수단·목적 생활이동인구"
      ],
      "metadata": {
        "id": "wL5KtObOedbt"
      }
    },
    {
      "cell_type": "code",
      "source": [
        "sgg_mokjuk_sudam_income_data = pd.read_csv('./drive/MyDrive/GG_PURPOSE_TRANS_SEXAGE_DURATION_ADMI_INFLOW.csv')"
      ],
      "metadata": {
        "id": "_UX4ndW5edl_"
      },
      "execution_count": null,
      "outputs": []
    },
    {
      "cell_type": "code",
      "source": [
        "sgg_mokjuk_sudam_income_data['sgg'] = sgg_mokjuk_sudam_income_data['D_ADMI_CD'].astype(str).str.slice(0, 5)"
      ],
      "metadata": {
        "id": "gBln7tFaZSaS"
      },
      "execution_count": null,
      "outputs": []
    },
    {
      "cell_type": "code",
      "source": [
        "sgg_mokjuk_sudam_income_group_data = sgg_mokjuk_sudam_income_data.groupby([\"D_CTY_NM\", \"PURPOSE\", \"TRANS_GB\", \"sgg\"])['CNT'].sum().reset_index()\n",
        "sgg_mokjuk_sudam_income_group_data['PURPOSE'] = sgg_mokjuk_sudam_income_group_data['PURPOSE'].map(mokjuk_mapping)\n",
        "sgg_mokjuk_sudam_income_group_data['TRANS_GB'] = sgg_mokjuk_sudam_income_group_data['TRANS_GB'].map(sudan_mapping)"
      ],
      "metadata": {
        "id": "OX8Cp_Cmaz5h"
      },
      "execution_count": null,
      "outputs": []
    },
    {
      "cell_type": "code",
      "source": [
        "temp = sgg_mokjuk_sudam_income_group_data.groupby(['D_CTY_NM'])['CNT'].sum().reset_index()\n",
        "temp = temp.sort_values(by='CNT', ascending=False)\n",
        "temp = temp[:5]\n",
        "top_5_list = temp['D_CTY_NM'].to_list()\n",
        "top_5_list"
      ],
      "metadata": {
        "id": "1rtUIijJiMn_"
      },
      "execution_count": null,
      "outputs": []
    },
    {
      "cell_type": "code",
      "source": [
        "temp = sgg_mokjuk_sudam_income_group_data.copy()\n",
        "sudan_list = sgg_mokjuk_sudam_income_group_data['TRANS_GB'].drop_duplicates().to_list()\n",
        "mokjuk_list = sgg_mokjuk_sudam_income_group_data['PURPOSE'].drop_duplicates().to_list()\n",
        "si_list = sgg_mokjuk_sudam_income_group_data['D_CTY_NM'].drop_duplicates().to_list()\n",
        "\n",
        "print(len(sgg_mokjuk_sudam_income_group_data))\n",
        "\n",
        "for si in si_list:\n",
        "  for sudan in sudan_list:\n",
        "    temp_data = sgg_mokjuk_sudam_income_group_data[(sgg_mokjuk_sudam_income_group_data['D_CTY_NM'] == si) & (sgg_mokjuk_sudam_income_group_data['TRANS_GB'] == sudan)]\n",
        "    for mokjuk in mokjuk_list:\n",
        "      if mokjuk not in temp_data['PURPOSE'].to_list():\n",
        "        sgg_mokjuk_sudam_income_group_data = pd.concat([sgg_mokjuk_sudam_income_group_data,\n",
        "                                                        pd.DataFrame({'D_CTY_NM': [si],\n",
        "                                                                      'TRANS_GB': [sudan],\n",
        "                                                                      'PURPOSE': [mokjuk],\n",
        "                                                                      'CNT': [0]}\n",
        "                                                                     )],ignore_index=True)\n",
        "\n",
        "print(len(sgg_mokjuk_sudam_income_group_data))\n"
      ],
      "metadata": {
        "id": "VwGDUDHKeJQw"
      },
      "execution_count": null,
      "outputs": []
    },
    {
      "cell_type": "code",
      "source": [
        "sgg_mokjuk_sudam_income_group_data"
      ],
      "metadata": {
        "id": "27y8H265lsD1"
      },
      "execution_count": null,
      "outputs": []
    },
    {
      "cell_type": "code",
      "source": [
        "for sigungu in top_5_list:\n",
        "  top_data = sgg_mokjuk_sudam_income_group_data[sgg_mokjuk_sudam_income_group_data['D_CTY_NM'] == sigungu]\n",
        "  sudan_group_data = top_data.groupby(['TRANS_GB'])['CNT'].sum().reset_index()\n",
        "  sudan_mokjuk_group_data = top_data.groupby(['TRANS_GB', 'PURPOSE'])['CNT'].sum().reset_index()\n",
        "\n",
        "  ax1 = sns.set_style(style=None, rc=None )\n",
        "\n",
        "  fig, ax1 = plt.subplots(figsize=(12,6))\n",
        "  sns.barplot(data = sudan_group_data, x='TRANS_GB', y='CNT', alpha=0.5, ax=ax1)\n",
        "\n",
        "  # ax2 = ax1.twinx()\n",
        "  sns.lineplot(data = sudan_mokjuk_group_data, x='TRANS_GB', y='CNT', hue='PURPOSE', marker='o', ax=ax1)\n",
        "\n",
        "  # y축의 지수 제거\n",
        "  ax1.ticklabel_format(axis='y',useOffset=False, style='plain')\n",
        "\n",
        "  max_y = sudan_group_data['CNT'].max()  # y 열의 최댓값 계산\n",
        "\n",
        "  plt.title(f'{sigungu}·이동수단·이동목적별 유입 생활이동인구', fontsize=16)\n",
        "  plt.legend(loc='upper right')\n",
        "\n",
        "  plt.ylim(0, max_y * 1.3)  # 최댓값의 30%를 여유 공간으로 추가\n",
        "  plt.show()"
      ],
      "metadata": {
        "id": "SyzDvEGdi0Yr"
      },
      "execution_count": null,
      "outputs": []
    },
    {
      "cell_type": "code",
      "source": [],
      "metadata": {
        "id": "jgLWfwZued2Z"
      },
      "execution_count": null,
      "outputs": []
    },
    {
      "cell_type": "markdown",
      "source": [
        "# 시군구별(TOP 5) 유입 성·연령별 생활이동인구"
      ],
      "metadata": {
        "id": "bU0c_4P73aaS"
      }
    },
    {
      "cell_type": "code",
      "source": [
        "group_data = concat_data.groupby(['ETL_YM', 'D_CTY_NM', 'SEX_CD', 'AGE_GRP'])['CNT'].sum().reset_index()\n",
        "group_data.head()\n",
        "\n",
        "sort_df = pd.DataFrame()\n",
        "for key_2, si_list in year_mm_si_dic.items():\n",
        "  temp = group_data[group_data['ETL_YM'] == key_2]\n",
        "  temp = temp.sort_values(by=['D_CTY_NM', 'AGE_GRP', 'SEX_CD'], key=lambda x: x.map({v: i for i, v in enumerate(si_list)}))\n",
        "  sort_df = pd.concat([sort_df, temp])\n",
        "\n",
        "sort_df = sort_df[sort_df['AGE_GRP'] <= 7]\n",
        "sort_df['AGE_GRP'] = sort_df['AGE_GRP']*10\n",
        "sort_df"
      ],
      "metadata": {
        "id": "SZU0C3GO3Yz7"
      },
      "execution_count": null,
      "outputs": []
    },
    {
      "cell_type": "code",
      "source": [
        "for key, si_list in year_mm_si_dic.items():\n",
        "  visual_data = sort_df[sort_df['ETL_YM'] == key]\n",
        "  for si in si_list:\n",
        "    visual_si_data = visual_data[visual_data['D_CTY_NM'] == si]\n",
        "    create_barplot(visual_si_data, x='AGE_GRP', y='CNT', title=f'{key} {si}·연령대별·성별 유입 생활이동인구', xlabel='연령대', ylabel='생활이동인구',  legend='SEX_CD')\n"
      ],
      "metadata": {
        "id": "sx4V2_LF3By2"
      },
      "execution_count": null,
      "outputs": []
    },
    {
      "cell_type": "markdown",
      "source": [
        "# 시군구별(TOP 5) 유입 시간대별 생활이동인구"
      ],
      "metadata": {
        "id": "dtmy8GkV3j1i"
      }
    },
    {
      "cell_type": "code",
      "source": [
        "group_data = concat_data.groupby(['ETL_YM', 'D_CTY_NM', 'SEX_CD', 'D_TIME_CD'])['CNT'].sum().reset_index()\n",
        "group_data.head()\n",
        "\n",
        "sort_df = pd.DataFrame()\n",
        "for key_2, si_list in year_mm_si_dic.items():\n",
        "  temp = group_data[group_data['ETL_YM'] == key_2]\n",
        "  temp = temp.sort_values(by=['D_CTY_NM', 'SEX_CD', 'D_TIME_CD'], key=lambda x: x.map({v: i for i, v in enumerate(si_list)}))\n",
        "  sort_df = pd.concat([sort_df, temp])\n",
        "sort_df"
      ],
      "metadata": {
        "id": "qOY6X0mc3j9p"
      },
      "execution_count": null,
      "outputs": []
    },
    {
      "cell_type": "code",
      "source": [
        "for key, si_list in year_mm_si_dic.items():\n",
        "  visual_data = sort_df[sort_df['ETL_YM'] == key]\n",
        "  for si in si_list:\n",
        "    visual_si_data = visual_data[visual_data['D_CTY_NM'] == si]\n",
        "    create_lineplot(visual_si_data, x='D_TIME_CD', y='CNT', title=f'{key} {si}·시간대별·성별 유입 생활이동인구', xlabel='시간대', ylabel='생활이동인구',  legend='SEX_CD')"
      ],
      "metadata": {
        "id": "66MGYeBI3j_7"
      },
      "execution_count": null,
      "outputs": []
    },
    {
      "cell_type": "markdown",
      "source": [
        "# 시군구별(TOP 5) 유입 방문목적·체류시간별 생활이동인구"
      ],
      "metadata": {
        "id": "7E8IqZaXRDqU"
      }
    },
    {
      "cell_type": "code",
      "source": [
        "sgg_time_income_data = pd.read_csv('./drive/MyDrive/GG_PURPOSE_SEXAGE_DURATION_SGG_INFLOW.csv')"
      ],
      "metadata": {
        "id": "lH2QAvCfRD0s"
      },
      "execution_count": null,
      "outputs": []
    },
    {
      "cell_type": "code",
      "source": [
        "sgg_time_income_data['DURATION'] = sgg_time_income_data['DURATION'].astype(float)\n",
        "sgg_time_income_data['PURPOSE'] = sgg_time_income_data['PURPOSE'].map(mokjuk_mapping)\n",
        "sgg_time_income_data"
      ],
      "metadata": {
        "id": "p0KnGIdoRD3K"
      },
      "execution_count": null,
      "outputs": []
    },
    {
      "cell_type": "code",
      "source": [
        "year_mm_list = sgg_time_income_data['ETL_YM'].sort_values().drop_duplicates().to_list()\n",
        "year_mm_si_dic = {}\n",
        "for year_mm in year_mm_list:\n",
        "  temp = sgg_time_income_data[sgg_time_income_data['ETL_YM'] == year_mm]\n",
        "  temp = temp.groupby(by=['ETL_YM', 'D_CTY_NM'])['CNT'].sum().reset_index()\n",
        "  temp = temp.sort_values(by='CNT', ascending=False)\n",
        "  temp = temp[:5]\n",
        "  temp_list = temp['D_CTY_NM'].to_list()\n",
        "  year_mm_si_dic[year_mm] = temp_list\n",
        "# year_mm_si_dic"
      ],
      "metadata": {
        "id": "ETgydPmSRD5y"
      },
      "execution_count": null,
      "outputs": []
    },
    {
      "cell_type": "code",
      "source": [
        "concat_data = pd.DataFrame()\n",
        "for key, si_list in year_mm_si_dic.items():\n",
        "  temp_df = sgg_time_income_data[sgg_time_income_data['ETL_YM'] == key]\n",
        "  temp_df = temp_df[temp_df['D_CTY_NM'].isin(si_list)]\n",
        "  concat_data = pd.concat([concat_data, temp_df])\n",
        "\n",
        "concat_data['time'] = ''\n",
        "concat_data.loc[concat_data['DURATION'] < 60, 'time'] = '1시간 미만'\n",
        "concat_data.loc[(concat_data['DURATION'] >= 60) & (concat_data['DURATION'] < 120), 'time'] = '1시간 이상'\n",
        "concat_data.loc[(concat_data['DURATION'] >= 120) & (concat_data['DURATION'] < 180), 'time'] = '2시간 이상'\n",
        "concat_data.loc[concat_data['DURATION'] >= 180, 'time'] = '3시간 이상'\n",
        "# concat_data.head()"
      ],
      "metadata": {
        "id": "ccttsaa5RD8N"
      },
      "execution_count": null,
      "outputs": []
    },
    {
      "cell_type": "code",
      "source": [
        "group_data = concat_data.groupby(['ETL_YM', 'D_CTY_NM', 'PURPOSE', 'time'])['CNT'].sum().reset_index()\n",
        "# group_data"
      ],
      "metadata": {
        "id": "-AqwxXs_RD-j"
      },
      "execution_count": null,
      "outputs": []
    },
    {
      "cell_type": "code",
      "source": [
        "sort_df = pd.DataFrame()\n",
        "for key_2, si_list in year_mm_si_dic.items():\n",
        "  temp = group_data[group_data['ETL_YM'] == key_2]\n",
        "  temp = temp.sort_values(by=['D_CTY_NM', 'time'], key=lambda x: x.map({v: i for i, v in enumerate(si_list)}))\n",
        "  sort_df = pd.concat([sort_df, temp])\n",
        "sort_df"
      ],
      "metadata": {
        "id": "ISykkbtsREBB"
      },
      "execution_count": null,
      "outputs": []
    },
    {
      "cell_type": "code",
      "source": [
        "purpose_list = sort_df['PURPOSE'].drop_duplicates().to_list()\n",
        "for key, si_list in year_mm_si_dic.items():\n",
        "  visual_data = sort_df[sort_df['ETL_YM'] == key]\n",
        "  for si in si_list:\n",
        "    visual_si_data = visual_data[visual_data['D_CTY_NM'] == si]\n",
        "    for purpose in purpose_list:\n",
        "      visual_purpose_data = visual_si_data[visual_si_data['PURPOSE'] == purpose]\n",
        "      check_list = visual_purpose_data['PURPOSE'].drop_duplicates().to_list()\n",
        "      if purpose in check_list:\n",
        "        create_barplot(visual_purpose_data, x='time', y='CNT', title=f'{key} {si} {purpose} 목적·체류시간별 유입 생활이동인구', xlabel='체류시간', ylabel='생활이동인구')"
      ],
      "metadata": {
        "id": "_Yu-NYL0TP5-"
      },
      "execution_count": null,
      "outputs": []
    },
    {
      "cell_type": "markdown",
      "source": [
        "# 시군구별 유출 생활이동인구"
      ],
      "metadata": {
        "id": "d2-_8jPB4JDX"
      }
    },
    {
      "cell_type": "code",
      "source": [
        "# 시군구별 유출 생활이동인구\n",
        "df_outflow = pd.read_csv('/content/drive/MyDrive/GG_TRANS_SEXAGE_SGG_OUTFLOW.csv')\n",
        "\n",
        "# 부천시 시군구 경계가 업데이트 되지 않은 관계로 3개 시군구 통계내서 활용\n",
        "df_outflow.loc[df_outflow['O_CTY_CD'].isin([41194, 41192, 41196]), 'O_CTY_CD'] = 41190\n",
        "df_outflow.loc[df_outflow['O_CTY_NM'].isin(['부천시 소사구', '부천시 원미구', '부천시 오정구']), 'O_CTY_NM'] = '부천시'\n",
        "df_outflow['O_CTY_CD'] = df_outflow['O_CTY_CD'].astype('str')\n",
        "df_outflow['year_mm'] = df_outflow['ETL_YM']\n",
        "\n",
        "grouped = df_outflow.groupby(['O_CTY_CD', 'O_CTY_NM', 'year_mm'])['CNT'].sum().reset_index()\n",
        "\n",
        "cty_outflow = pd.merge(grouped, cty_shp, left_on = 'O_CTY_CD', right_on = 'SGG_CD', how = 'left')\n",
        "cty_outflow = gpd.GeoDataFrame(cty_outflow, geometry='geometry')\n",
        "cty_outflow = cty_outflow[['year_mm', 'O_CTY_CD', 'O_CTY_NM', 'CNT', 'geometry']]\n",
        "\n",
        "# 202401, 202402 총 유출 생활인구수 데이터\n",
        "cty_tmp_03 = cty_outflow[cty_outflow['year_mm'] == 202401]\n",
        "cty_tmp_03 = cty_tmp_03[['O_CTY_CD', 'O_CTY_NM', 'CNT', 'year_mm', 'geometry']]\n",
        "cty_tmp_04 = cty_outflow[cty_outflow['year_mm'] == 202402]\n",
        "cty_tmp_04 = cty_tmp_04[['O_CTY_CD', 'O_CTY_NM', 'CNT', 'year_mm', 'geometry']]"
      ],
      "metadata": {
        "id": "FbKUknQNbyOn"
      },
      "execution_count": null,
      "outputs": []
    },
    {
      "cell_type": "markdown",
      "source": [],
      "metadata": {
        "id": "-XLeE20AwIGk"
      }
    },
    {
      "cell_type": "code",
      "source": [
        "map(cty_tmp_03, 'O_CTY_CD', 'CNT', '유출 생활이동인구', tootip = ['O_CTY_NM', 'CNT'])"
      ],
      "metadata": {
        "id": "ETwfNJAB4JMG"
      },
      "execution_count": null,
      "outputs": []
    },
    {
      "cell_type": "markdown",
      "source": [],
      "metadata": {
        "id": "rY7VvIvQwH5E"
      }
    },
    {
      "cell_type": "markdown",
      "source": [],
      "metadata": {
        "id": "Lp8e2psgwHi1"
      }
    },
    {
      "cell_type": "code",
      "source": [
        "map(cty_tmp_04, 'O_CTY_CD', 'CNT', '유출 생활이동인구', tootip = ['O_CTY_NM', 'CNT'])"
      ],
      "metadata": {
        "id": "XYwVEQqM4JOr"
      },
      "execution_count": null,
      "outputs": []
    },
    {
      "cell_type": "markdown",
      "source": [
        "# 시군구별(TOP 5) 유출 이동수단별 생활이동인구"
      ],
      "metadata": {
        "id": "8kipTKIP39B5"
      }
    },
    {
      "cell_type": "code",
      "source": [
        "sgg_sudan_outcome_data = pd.read_csv('./drive/MyDrive/GG_TRANS_SEXAGE_SGG_OUTFLOW.csv')\n",
        "sgg_sudan_outcome_data['TRANS_GB'] = sgg_sudan_outcome_data['TRANS_GB'].map(sudan_mapping)\n",
        "# sgg_sudan_outcome_data"
      ],
      "metadata": {
        "id": "JH8D7jqg33mA"
      },
      "execution_count": null,
      "outputs": []
    },
    {
      "cell_type": "code",
      "source": [
        "year_mm_list = sgg_sudan_outcome_data['ETL_YM'].sort_values().drop_duplicates().to_list()\n",
        "year_mm_si_dic = {}\n",
        "for year_mm in year_mm_list:\n",
        "  temp = sgg_sudan_outcome_data[sgg_sudan_outcome_data['ETL_YM'] == year_mm]\n",
        "  temp = temp.groupby(by=['ETL_YM', 'O_CTY_NM'])['CNT'].sum().reset_index()\n",
        "  temp = temp.sort_values(by='CNT', ascending=False)\n",
        "  temp = temp[:5]\n",
        "  temp_list = temp['O_CTY_NM'].to_list()\n",
        "  year_mm_si_dic[year_mm] = temp_list\n",
        "# year_mm_si_dic"
      ],
      "metadata": {
        "id": "nLNzfmhf33oO"
      },
      "execution_count": null,
      "outputs": []
    },
    {
      "cell_type": "code",
      "source": [
        "concat_data = pd.DataFrame()\n",
        "for key, si_list in year_mm_si_dic.items():\n",
        "  temp_df = sgg_sudan_outcome_data[sgg_sudan_outcome_data['ETL_YM'] == key]\n",
        "  temp_df = temp_df[temp_df['O_CTY_NM'].isin(si_list)]\n",
        "  concat_data = pd.concat([concat_data, temp_df])\n",
        "# concat_data.head()"
      ],
      "metadata": {
        "id": "nCF-Y2sJ4EHh"
      },
      "execution_count": null,
      "outputs": []
    },
    {
      "cell_type": "code",
      "source": [
        "group_data = concat_data.groupby(['ETL_YM', 'O_CTY_NM', 'TRANS_GB'])['CNT'].sum().reset_index()\n",
        "# group_data.head()"
      ],
      "metadata": {
        "id": "zzoxDQ3J33qf"
      },
      "execution_count": null,
      "outputs": []
    },
    {
      "cell_type": "code",
      "source": [
        "sort_df = pd.DataFrame()\n",
        "for key_2, si_list in year_mm_si_dic.items():\n",
        "  temp = group_data[group_data['ETL_YM'] == key_2]\n",
        "  temp = temp.sort_values(by=['O_CTY_NM', 'TRANS_GB'], key=lambda x: x.map({v: i for i, v in enumerate(si_list)}))\n",
        "  sort_df = pd.concat([sort_df, temp])\n",
        "sort_df"
      ],
      "metadata": {
        "id": "_y7Dj-rs3kJq"
      },
      "execution_count": null,
      "outputs": []
    },
    {
      "cell_type": "code",
      "source": [
        "for key, si_list in year_mm_si_dic.items():\n",
        "  visual_data = sort_df[sort_df['ETL_YM'] == key]\n",
        "  for si in si_list:\n",
        "    visual_si_data = visual_data[visual_data['O_CTY_NM'] == si]\n",
        "    create_barplot(visual_si_data, x='TRANS_GB', y='CNT', title=f'{key} {si}·이동수단별 유출 생활이동인구', xlabel='이동수단', ylabel='생활이동인구')"
      ],
      "metadata": {
        "id": "vbNVmPK14GT7"
      },
      "execution_count": null,
      "outputs": []
    },
    {
      "cell_type": "markdown",
      "source": [
        "# 시군구별(TOP 5) 유출 이동목적별 생활이동인구"
      ],
      "metadata": {
        "id": "fF8_q2oL4NuT"
      }
    },
    {
      "cell_type": "code",
      "source": [
        "sgg_mokjuk_outcome_data = pd.read_csv('./drive/MyDrive/GG_PURPOSE_SEXAGE_SGG_OUTFLOW.csv')\n",
        "sgg_mokjuk_outcome_data['PURPOSE'] = sgg_mokjuk_outcome_data['PURPOSE'].map(mokjuk_mapping)\n",
        "sgg_mokjuk_outcome_data"
      ],
      "metadata": {
        "id": "GMmtPDQ74GWO"
      },
      "execution_count": null,
      "outputs": []
    },
    {
      "cell_type": "code",
      "source": [
        "year_mm_list = sgg_mokjuk_outcome_data['ETL_YM'].sort_values().drop_duplicates().to_list()\n",
        "\n",
        "year_mm_si_dic = {}\n",
        "for year_mm in year_mm_list:\n",
        "  temp = sgg_mokjuk_outcome_data[sgg_mokjuk_outcome_data['ETL_YM'] == year_mm]\n",
        "  temp = temp.groupby(by=['ETL_YM', 'O_CTY_NM'])['CNT'].sum().reset_index()\n",
        "  temp = temp.sort_values(by='CNT', ascending=False)\n",
        "  temp = temp[:5]\n",
        "  temp_list = temp['O_CTY_NM'].to_list()\n",
        "  year_mm_si_dic[year_mm] = temp_list\n",
        "# year_mm_si_dic"
      ],
      "metadata": {
        "id": "bFWPdpZV4GYn"
      },
      "execution_count": null,
      "outputs": []
    },
    {
      "cell_type": "code",
      "source": [
        "concat_data = pd.DataFrame()\n",
        "for key, si_list in year_mm_si_dic.items():\n",
        "  temp_df = sgg_mokjuk_outcome_data[sgg_mokjuk_outcome_data['ETL_YM'] == key]\n",
        "  temp_df = temp_df[temp_df['O_CTY_NM'].isin(si_list)]\n",
        "  concat_data = pd.concat([concat_data, temp_df])\n",
        "# concat_data.head()"
      ],
      "metadata": {
        "id": "JI296xse4GbK"
      },
      "execution_count": null,
      "outputs": []
    },
    {
      "cell_type": "code",
      "source": [
        "group_data = concat_data.groupby(['ETL_YM', 'O_CTY_NM', 'PURPOSE'])['CNT'].sum().reset_index()\n",
        "# group_data.head()"
      ],
      "metadata": {
        "id": "NDCOYj_j4Gdy"
      },
      "execution_count": null,
      "outputs": []
    },
    {
      "cell_type": "code",
      "source": [
        "sort_df = pd.DataFrame()\n",
        "for key_2, si_list in year_mm_si_dic.items():\n",
        "  temp = group_data[group_data['ETL_YM'] == key_2]\n",
        "  temp = temp.sort_values(by=['O_CTY_NM', 'PURPOSE'], key=lambda x: x.map({v: i for i, v in enumerate(si_list)}))\n",
        "  sort_df = pd.concat([sort_df, temp])\n",
        "sort_df"
      ],
      "metadata": {
        "id": "nGhyRP624Ggi"
      },
      "execution_count": null,
      "outputs": []
    },
    {
      "cell_type": "code",
      "source": [
        "for key, si_list in year_mm_si_dic.items():\n",
        "  visual_data = sort_df[sort_df['ETL_YM'] == key]\n",
        "  for si in si_list:\n",
        "    visual_si_data = visual_data[visual_data['O_CTY_NM'] == si]\n",
        "    create_barplot(visual_si_data, x='PURPOSE', y='CNT', title=f'{key} {si}·이동목적별 유출 생활이동인구', xlabel='이동목적', ylabel='생활이동인구')"
      ],
      "metadata": {
        "id": "u-dIq55G4S91"
      },
      "execution_count": null,
      "outputs": []
    },
    {
      "cell_type": "markdown",
      "source": [
        "# 시군구별(TOP 5) 유출 이동수단·목적 생활이동인구"
      ],
      "metadata": {
        "id": "GaX0fSndafRc"
      }
    },
    {
      "cell_type": "code",
      "source": [
        "sgg_mokjuk_sudam_outcome_data = pd.read_csv('./drive/MyDrive/GG_PURPOSE_TRANS_SEXAGE_DURATION_ADMI_OUTFLOW.csv')\n",
        "sgg_mokjuk_sudam_outcome_data['sgg'] = sgg_mokjuk_sudam_outcome_data['O_ADMI_CD'].astype(str).str.slice(0, 5)"
      ],
      "metadata": {
        "id": "qmOBHnDcafb0"
      },
      "execution_count": null,
      "outputs": []
    },
    {
      "cell_type": "code",
      "source": [
        "sgg_mokjuk_sudam_outcome_group_data = sgg_mokjuk_sudam_outcome_data.groupby([\"O_CTY_NM\", \"PURPOSE\", \"TRANS_GB\", \"sgg\"])['CNT'].sum().reset_index()\n",
        "sgg_mokjuk_sudam_outcome_group_data['PURPOSE'] = sgg_mokjuk_sudam_outcome_group_data['PURPOSE'].map(mokjuk_mapping)\n",
        "sgg_mokjuk_sudam_outcome_group_data['TRANS_GB'] = sgg_mokjuk_sudam_outcome_group_data['TRANS_GB'].map(sudan_mapping)\n",
        "sgg_mokjuk_sudam_outcome_group_data"
      ],
      "metadata": {
        "id": "clZCci-1afeS"
      },
      "execution_count": null,
      "outputs": []
    },
    {
      "cell_type": "code",
      "source": [
        "temp = sgg_mokjuk_sudam_outcome_group_data.groupby(['O_CTY_NM'])['CNT'].sum().reset_index()\n",
        "temp = temp.sort_values(by='CNT', ascending=False)\n",
        "temp = temp[:5]\n",
        "top_5_list = temp['O_CTY_NM'].to_list()\n",
        "top_5_list"
      ],
      "metadata": {
        "id": "LXIjOuRtafgv"
      },
      "execution_count": null,
      "outputs": []
    },
    {
      "cell_type": "code",
      "source": [
        "temp = sgg_mokjuk_sudam_outcome_group_data.copy()\n",
        "sudan_list = sgg_mokjuk_sudam_outcome_group_data['TRANS_GB'].drop_duplicates().to_list()\n",
        "mokjuk_list = sgg_mokjuk_sudam_outcome_group_data['PURPOSE'].drop_duplicates().to_list()\n",
        "si_list = sgg_mokjuk_sudam_outcome_group_data['O_CTY_NM'].drop_duplicates().to_list()\n",
        "\n",
        "print(len(sgg_mokjuk_sudam_outcome_group_data))\n",
        "\n",
        "for si in si_list:\n",
        "  for sudan in sudan_list:\n",
        "    temp_data = sgg_mokjuk_sudam_outcome_group_data[(sgg_mokjuk_sudam_outcome_group_data['O_CTY_NM'] == si) & (sgg_mokjuk_sudam_outcome_group_data['TRANS_GB'] == sudan)]\n",
        "    for mokjuk in mokjuk_list:\n",
        "      if mokjuk not in temp_data['PURPOSE'].to_list():\n",
        "        sgg_mokjuk_sudam_outcome_group_data = pd.concat([sgg_mokjuk_sudam_outcome_group_data,\n",
        "                                                        pd.DataFrame({'O_CTY_NM': [si],\n",
        "                                                                      'TRANS_GB': [sudan],\n",
        "                                                                      'PURPOSE': [mokjuk],\n",
        "                                                                      'CNT': [0]}\n",
        "                                                                     )],ignore_index=True)\n",
        "\n",
        "print(len(sgg_mokjuk_sudam_outcome_group_data))\n"
      ],
      "metadata": {
        "id": "TJ7CN-7GpL-E"
      },
      "execution_count": null,
      "outputs": []
    },
    {
      "cell_type": "code",
      "source": [
        "for sigungu in top_5_list:\n",
        "  top_data = sgg_mokjuk_sudam_outcome_group_data[sgg_mokjuk_sudam_outcome_group_data['O_CTY_NM'] == sigungu]\n",
        "  sudan_group_data = top_data.groupby(['TRANS_GB'])['CNT'].sum().reset_index()\n",
        "  sudan_mokjuk_group_data = top_data.groupby(['TRANS_GB', 'PURPOSE'])['CNT'].sum().reset_index()\n",
        "\n",
        "  ax1 = sns.set_style(style=None, rc=None )\n",
        "\n",
        "  fig, ax1 = plt.subplots(figsize=(12,6))\n",
        "  sns.barplot(data = sudan_group_data, x='TRANS_GB', y='CNT', alpha=0.5, ax=ax1)\n",
        "\n",
        "  # ax2 = ax1.twinx()\n",
        "  sns.lineplot(data = sudan_mokjuk_group_data, x='TRANS_GB', y='CNT', hue='PURPOSE', marker='o', ax=ax1)\n",
        "\n",
        "  # y축의 지수 제거\n",
        "  ax1.ticklabel_format(axis='y',useOffset=False, style='plain')\n",
        "  # ax1.yaxis.set_major_formatter(ScalarFormatter(useMathText=True))\n",
        "  # ax2.yaxis.set_major_formatter(ScalarFormatter(useMathText=True))\n",
        "\n",
        "  max_1 = sudan_group_data['CNT'].max()  # y 열의 최댓값 계산\n",
        "  max_2 = sudan_mokjuk_group_data['CNT'].max()  # y 열의 최댓값 계산\n",
        "\n",
        "  max_y = max(max_1, max_2)\n",
        "\n",
        "  plt.title(f'{sigungu}·이동수단·이동목적별 유출 생활이동인구', fontsize=16)\n",
        "  plt.legend(loc='upper right')\n",
        "\n",
        "  # plt.ylim(0, max_y * 1.3)  # 최댓값의 30%를 여유 공간으로 추가\n",
        "  plt.show()"
      ],
      "metadata": {
        "id": "Q45pvpvOcMox"
      },
      "execution_count": null,
      "outputs": []
    },
    {
      "cell_type": "code",
      "source": [],
      "metadata": {
        "id": "bXxP-aHvq0DE"
      },
      "execution_count": null,
      "outputs": []
    },
    {
      "cell_type": "markdown",
      "source": [
        "# 시군구별(TOP 5) 유출 성·연령별 생활이동인구"
      ],
      "metadata": {
        "id": "PETtYWUM4U4G"
      }
    },
    {
      "cell_type": "code",
      "source": [
        "group_data = concat_data.groupby(['ETL_YM', 'O_CTY_NM', 'SEX_CD', 'AGE_GRP'])['CNT'].sum().reset_index()\n",
        "# group_data.head()"
      ],
      "metadata": {
        "id": "5LqzGcoP4S_1"
      },
      "execution_count": null,
      "outputs": []
    },
    {
      "cell_type": "code",
      "source": [
        "sort_df = pd.DataFrame()\n",
        "for key_2, si_list in year_mm_si_dic.items():\n",
        "  temp = group_data[group_data['ETL_YM'] == key_2]\n",
        "  temp = temp.sort_values(by=['O_CTY_NM', 'AGE_GRP', 'SEX_CD'], key=lambda x: x.map({v: i for i, v in enumerate(si_list)}))\n",
        "  sort_df = pd.concat([sort_df, temp])\n",
        "\n",
        "sort_df = sort_df[sort_df['AGE_GRP'] <= 7]\n",
        "sort_df['AGE_GRP'] = sort_df['AGE_GRP']*10\n",
        "sort_df"
      ],
      "metadata": {
        "id": "PIyhGHjX4TEs"
      },
      "execution_count": null,
      "outputs": []
    },
    {
      "cell_type": "code",
      "source": [
        "for key, si_list in year_mm_si_dic.items():\n",
        "  visual_data = sort_df[sort_df['ETL_YM'] == key]\n",
        "  for si in si_list:\n",
        "    visual_si_data = visual_data[visual_data['O_CTY_NM'] == si]\n",
        "    create_barplot(visual_si_data, x='AGE_GRP', y='CNT', title=f'{key} {si}·연령대별·성별 유출 생활이동인구', xlabel='연령대', ylabel='생활이동인구',  legend='SEX_CD')"
      ],
      "metadata": {
        "id": "Fk1pEcLm4THG"
      },
      "execution_count": null,
      "outputs": []
    },
    {
      "cell_type": "markdown",
      "source": [
        "# 시군구별(TOP 5) 유출 시간대별 생활이동인구"
      ],
      "metadata": {
        "id": "YX4suZws4efM"
      }
    },
    {
      "cell_type": "code",
      "source": [
        "group_data = concat_data.groupby(['ETL_YM', 'O_CTY_NM', 'SEX_CD', 'O_TIME_CD'])['CNT'].sum().reset_index()\n",
        "# group_data.head()"
      ],
      "metadata": {
        "id": "aGMeo9Yo4emR"
      },
      "execution_count": null,
      "outputs": []
    },
    {
      "cell_type": "code",
      "source": [
        "sort_df = pd.DataFrame()\n",
        "for key_2, si_list in year_mm_si_dic.items():\n",
        "  temp = group_data[group_data['ETL_YM'] == key_2]\n",
        "  temp = temp.sort_values(by=['O_CTY_NM', 'SEX_CD', 'O_TIME_CD'], key=lambda x: x.map({v: i for i, v in enumerate(si_list)}))\n",
        "  sort_df = pd.concat([sort_df, temp])\n",
        "sort_df"
      ],
      "metadata": {
        "id": "8JbNL7w24eq2"
      },
      "execution_count": null,
      "outputs": []
    },
    {
      "cell_type": "code",
      "source": [
        "for key, si_list in year_mm_si_dic.items():\n",
        "  visual_data = sort_df[sort_df['ETL_YM'] == key]\n",
        "  for si in si_list:\n",
        "    visual_si_data = visual_data[visual_data['O_CTY_NM'] == si]\n",
        "    create_lineplot(visual_si_data, x='O_TIME_CD', y='CNT', title=f'{key} {si}·시간대별·성별 유출 생활이동인구', xlabel='시간대', ylabel='생활이동인구',  legend='SEX_CD')"
      ],
      "metadata": {
        "id": "LCV2v5Z84etM"
      },
      "execution_count": null,
      "outputs": []
    },
    {
      "cell_type": "markdown",
      "source": [
        "# 수원시 영통구(경기도청)의 유입/유출 등시선 지도"
      ],
      "metadata": {
        "id": "77-vC1G9Zr0y"
      }
    },
    {
      "cell_type": "markdown",
      "source": [
        "## 시군구"
      ],
      "metadata": {
        "id": "Z744-eN5sVqD"
      }
    },
    {
      "cell_type": "markdown",
      "source": [
        "### 유입"
      ],
      "metadata": {
        "id": "Zlo0Szuoarpw"
      }
    },
    {
      "cell_type": "code",
      "source": [
        "data = pd.read_csv('/content/drive/MyDrive/GG_PURPOSE_TRANS_SEXAGE_SGG_OD.csv')\n",
        "data"
      ],
      "metadata": {
        "id": "P__zLVt-Z8R1"
      },
      "execution_count": null,
      "outputs": []
    },
    {
      "cell_type": "code",
      "source": [
        "data.loc[data['O_CTY_CD'].isin([41194, 41192, 41196]), 'O_CTY_CD'] = 41190\n",
        "data.loc[data['O_CTY_NM'].isin(['부천시 소사구', '부천시 원미구', '부천시 오정구']), 'O_CTY_NM'] = '부천시'\n",
        "\n",
        "\n",
        "data.loc[data['D_CTY_CD'].isin([41194, 41192, 41196]), 'D_CTY_CD'] = 41190\n",
        "data.loc[data['D_CTY_NM'].isin(['부천시 소사구', '부천시 원미구', '부천시 오정구']), 'D_CTY_NM'] = '부천시'"
      ],
      "metadata": {
        "id": "UeiiGN-jZ8UX"
      },
      "execution_count": null,
      "outputs": []
    },
    {
      "cell_type": "code",
      "source": [
        "data['O_CTY_CD'] = data['O_CTY_CD'].astype(str).str.split('.').str[0]\n",
        "data['D_CTY_CD'] = data['D_CTY_CD'].astype(str).str.split('.').str[0]"
      ],
      "metadata": {
        "id": "ToOzjsP-Z8XP"
      },
      "execution_count": null,
      "outputs": []
    },
    {
      "cell_type": "code",
      "source": [
        "suwon_data = data[data['D_CTY_NM'] == '수원시 영통구']"
      ],
      "metadata": {
        "id": "akYqmjRlaPuy"
      },
      "execution_count": null,
      "outputs": []
    },
    {
      "cell_type": "code",
      "source": [
        "group_suwon_data = suwon_data.groupby(by=['O_CTY_CD', 'O_CTY_NM'])['CNT'].sum().reset_index()\n",
        "group_suwon_data = group_suwon_data.sort_values(by='CNT', ascending=False)\n",
        "group_suwon_data = group_suwon_data[group_suwon_data['O_CTY_NM'] != '수원시 영통구']"
      ],
      "metadata": {
        "id": "Ku7fLckOaPxG"
      },
      "execution_count": null,
      "outputs": []
    },
    {
      "cell_type": "code",
      "source": [
        "cty_shp"
      ],
      "metadata": {
        "id": "oWcw-jbdhM-S"
      },
      "execution_count": null,
      "outputs": []
    },
    {
      "cell_type": "code",
      "source": [
        "cty_tmp = pd.merge(group_suwon_data, cty_shp, left_on = 'O_CTY_CD', right_on = 'SGG_CD', how = 'left')\n",
        "cty_tmp = gpd.GeoDataFrame(cty_tmp, geometry='geometry')\n",
        "cty_tmp['o_sido'] = cty_tmp['O_CTY_CD'].str.slice(0, 2)\n",
        "cty_tmp = cty_tmp[cty_tmp['o_sido'] == '41']"
      ],
      "metadata": {
        "id": "1cMTlilcaWcp"
      },
      "execution_count": null,
      "outputs": []
    },
    {
      "cell_type": "code",
      "source": [
        "quantiles_column_A = cty_tmp['CNT'].quantile([0.25, 0.5, 0.75])\n",
        "# quantiles_column_A = cty_tmp['CNT'].quantile([0.2, 0.4, 0.6, 0.8])\n",
        "print(quantiles_column_A)\n",
        "# print(quantiles_column_A[0.25])"
      ],
      "metadata": {
        "id": "_n4z_VSdaWfa"
      },
      "execution_count": null,
      "outputs": []
    },
    {
      "cell_type": "code",
      "source": [
        "cty_tmp['value'] = ''\n",
        "cty_tmp.loc[cty_tmp['CNT']<= quantiles_column_A[0.25], 'value'] = 0.25\n",
        "cty_tmp.loc[(cty_tmp['CNT'] > quantiles_column_A[0.25]) & (cty_tmp['CNT'] <= quantiles_column_A[0.5]), 'value'] = 0.5\n",
        "cty_tmp.loc[(cty_tmp['CNT'] > quantiles_column_A[0.5]) & (cty_tmp['CNT'] <= quantiles_column_A[0.75]), 'value'] = 0.75\n",
        "cty_tmp.loc[cty_tmp['CNT'] > quantiles_column_A[0.75], 'value'] = 1\n",
        "\n",
        "# 추후에 행정동 부분에서 사용\n",
        "in_many_sgg_list = cty_tmp.loc[cty_tmp['value'] == 1, 'O_CTY_NM'].to_list()\n",
        "in_many_sgg_list"
      ],
      "metadata": {
        "id": "Q7XqoiX8aWoO"
      },
      "execution_count": null,
      "outputs": []
    },
    {
      "cell_type": "code",
      "source": [
        "cty_tmp.explore(column=\"value\", categorical=True, cmap='YlOrRd')"
      ],
      "metadata": {
        "id": "kRdaiNE6aPzn"
      },
      "execution_count": null,
      "outputs": []
    },
    {
      "cell_type": "code",
      "source": [],
      "metadata": {
        "id": "wQhMcE1xFk-A"
      },
      "execution_count": null,
      "outputs": []
    },
    {
      "cell_type": "markdown",
      "source": [
        "### 유출"
      ],
      "metadata": {
        "id": "RymGPuFag8aN"
      }
    },
    {
      "cell_type": "code",
      "source": [
        "suwon_data_out = data[data['O_CTY_NM'] == '수원시 영통구']"
      ],
      "metadata": {
        "id": "jHxd7ZzWaoZL"
      },
      "execution_count": null,
      "outputs": []
    },
    {
      "cell_type": "code",
      "source": [
        "group_suwon_out_data = suwon_data_out.groupby(by=['D_CTY_CD', 'D_CTY_NM'])['CNT'].sum().reset_index()\n",
        "group_suwon_out_data = group_suwon_out_data.sort_values(by='CNT', ascending=False)\n",
        "group_suwon_out_data = group_suwon_out_data[group_suwon_out_data['D_CTY_NM'] != '수원시 영통구']"
      ],
      "metadata": {
        "id": "YnR529kxaoby"
      },
      "execution_count": null,
      "outputs": []
    },
    {
      "cell_type": "code",
      "source": [
        "cty_tmp = pd.merge(group_suwon_out_data, cty_shp, left_on = 'D_CTY_CD', right_on = 'SGG_CD', how = 'left')\n",
        "cty_tmp = gpd.GeoDataFrame(cty_tmp, geometry='geometry')\n",
        "cty_tmp['d_sido'] = cty_tmp['D_CTY_CD'].str.slice(0, 2)\n",
        "cty_tmp = cty_tmp[cty_tmp['d_sido'] == '41']"
      ],
      "metadata": {
        "id": "Iueb5I0ChXgn"
      },
      "execution_count": null,
      "outputs": []
    },
    {
      "cell_type": "code",
      "source": [
        "quantiles_column_A = cty_tmp['CNT'].quantile([0.25, 0.5, 0.75])\n",
        "print(quantiles_column_A)"
      ],
      "metadata": {
        "id": "iU2Od_-uhXi8"
      },
      "execution_count": null,
      "outputs": []
    },
    {
      "cell_type": "code",
      "source": [
        "cty_tmp['value'] = ''\n",
        "cty_tmp.loc[cty_tmp['CNT']<= quantiles_column_A[0.25], 'value'] = 0.25\n",
        "cty_tmp.loc[(cty_tmp['CNT'] > quantiles_column_A[0.25]) & (cty_tmp['CNT'] <= quantiles_column_A[0.5]), 'value'] = 0.5\n",
        "cty_tmp.loc[(cty_tmp['CNT'] > quantiles_column_A[0.5]) & (cty_tmp['CNT'] <= quantiles_column_A[0.75]), 'value'] = 0.75\n",
        "cty_tmp.loc[cty_tmp['CNT'] > quantiles_column_A[0.75], 'value'] = 1\n",
        "\n",
        "out_many_sgg_list = cty_tmp.loc[cty_tmp['value'] == 1, 'D_CTY_NM'].to_list()\n",
        "out_many_sgg_list"
      ],
      "metadata": {
        "id": "TkYPFFdFhXl4"
      },
      "execution_count": null,
      "outputs": []
    },
    {
      "cell_type": "code",
      "source": [
        "cty_tmp.explore(column=\"value\", categorical=True, cmap='YlOrRd')"
      ],
      "metadata": {
        "id": "v5iYSDVyhXqT"
      },
      "execution_count": null,
      "outputs": []
    },
    {
      "cell_type": "markdown",
      "source": [
        "### 유입/유출이 가장 많이 일어난 시군구 확인(Top 5)"
      ],
      "metadata": {
        "id": "vsZXkX1sdJY4"
      }
    },
    {
      "cell_type": "code",
      "source": [
        "group_data = data.groupby(['O_CTY_CD', 'D_CTY_CD', 'O_CTY_NM', 'D_CTY_NM'])['CNT'].sum().reset_index()\n",
        "group_data = group_data.sort_values(by='CNT', ascending=False)\n",
        "group_data = group_data[group_data['O_CTY_NM'] != group_data['D_CTY_NM']]"
      ],
      "metadata": {
        "id": "BuLubRwFhXtH"
      },
      "execution_count": null,
      "outputs": []
    },
    {
      "cell_type": "code",
      "source": [
        "cty_tmp = pd.merge(group_data, cty_shp, left_on = 'O_CTY_CD', right_on = 'SGG_CD', how = 'left')\n",
        "change_column_names = {'geometry': 'o_geometry'}\n",
        "cty_tmp = cty_tmp.rename(columns=change_column_names)"
      ],
      "metadata": {
        "id": "UPGxgxE1dLtE"
      },
      "execution_count": null,
      "outputs": []
    },
    {
      "cell_type": "code",
      "source": [
        "cty_tmp = pd.merge(cty_tmp, cty_shp, left_on = 'D_CTY_CD', right_on = 'SGG_CD', how = 'left')\n",
        "change_column_names = {'geometry': 'd_geometry'}\n",
        "cty_tmp = cty_tmp.rename(columns=change_column_names)\n",
        "top_5 = cty_tmp[:5]"
      ],
      "metadata": {
        "id": "4DoY5YA2dLv3"
      },
      "execution_count": null,
      "outputs": []
    },
    {
      "cell_type": "code",
      "source": [
        "top_5"
      ],
      "metadata": {
        "id": "3zbsWOH01I9z"
      },
      "execution_count": null,
      "outputs": []
    },
    {
      "cell_type": "code",
      "source": [
        "top_1 = 0\n",
        "\n",
        "visual_o = top_5[['O_CTY_CD', 'O_CTY_NM', 'o_geometry', 'CNT']]\n",
        "change_column_names = {'o_geometry': 'geometry'}\n",
        "visual_o = visual_o.rename(columns=change_column_names)\n",
        "visual_o = visual_o.iloc[[top_1]]\n",
        "visual_o = gpd.GeoDataFrame(visual_o, geometry='geometry')\n",
        "\n",
        "visual_d = top_5[['D_CTY_CD', 'D_CTY_NM', 'd_geometry', 'CNT']]\n",
        "change_column_names = {'d_geometry': 'geometry'}\n",
        "visual_d = visual_d.rename(columns=change_column_names)\n",
        "visual_d = visual_d.iloc[[top_1]]\n",
        "visual_d = gpd.GeoDataFrame(visual_d, geometry='geometry')\n",
        "\n",
        "map_3(visual_o, visual_d)"
      ],
      "metadata": {
        "id": "guGlS7xsdL1Q"
      },
      "execution_count": null,
      "outputs": []
    },
    {
      "cell_type": "code",
      "source": [
        "top_1 = 1\n",
        "\n",
        "visual_o = top_5[['O_CTY_CD', 'O_CTY_NM', 'o_geometry', 'CNT']]\n",
        "change_column_names = {'o_geometry': 'geometry'}\n",
        "visual_o = visual_o.rename(columns=change_column_names)\n",
        "visual_o = visual_o.iloc[[top_1]]\n",
        "visual_o = gpd.GeoDataFrame(visual_o, geometry='geometry')\n",
        "\n",
        "visual_d = top_5[['D_CTY_CD', 'D_CTY_NM', 'd_geometry', 'CNT']]\n",
        "change_column_names = {'d_geometry': 'geometry'}\n",
        "visual_d = visual_d.rename(columns=change_column_names)\n",
        "visual_d = visual_d.iloc[[top_1]]\n",
        "visual_d = gpd.GeoDataFrame(visual_d, geometry='geometry')\n",
        "\n",
        "map_3(visual_o, visual_d)"
      ],
      "metadata": {
        "id": "5kdjMZ53dL4G"
      },
      "execution_count": null,
      "outputs": []
    },
    {
      "cell_type": "code",
      "source": [
        "top_1 = 2\n",
        "\n",
        "visual_o = top_5[['O_CTY_CD', 'O_CTY_NM', 'o_geometry', 'CNT']]\n",
        "change_column_names = {'o_geometry': 'geometry'}\n",
        "visual_o = visual_o.rename(columns=change_column_names)\n",
        "visual_o = visual_o.iloc[[top_1]]\n",
        "visual_o = gpd.GeoDataFrame(visual_o, geometry='geometry')\n",
        "\n",
        "visual_d = top_5[['D_CTY_CD', 'D_CTY_NM', 'd_geometry', 'CNT']]\n",
        "change_column_names = {'d_geometry': 'geometry'}\n",
        "visual_d = visual_d.rename(columns=change_column_names)\n",
        "visual_d = visual_d.iloc[[top_1]]\n",
        "visual_d = gpd.GeoDataFrame(visual_d, geometry='geometry')\n",
        "\n",
        "map_3(visual_o, visual_d)"
      ],
      "metadata": {
        "id": "XSPGZDjhdL6u"
      },
      "execution_count": null,
      "outputs": []
    },
    {
      "cell_type": "code",
      "source": [
        "top_1 = 3\n",
        "\n",
        "visual_o = top_5[['O_CTY_CD', 'O_CTY_NM', 'o_geometry', 'CNT']]\n",
        "change_column_names = {'o_geometry': 'geometry'}\n",
        "visual_o = visual_o.rename(columns=change_column_names)\n",
        "visual_o = visual_o.iloc[[top_1]]\n",
        "visual_o = gpd.GeoDataFrame(visual_o, geometry='geometry')\n",
        "\n",
        "visual_d = top_5[['D_CTY_CD', 'D_CTY_NM', 'd_geometry', 'CNT']]\n",
        "change_column_names = {'d_geometry': 'geometry'}\n",
        "visual_d = visual_d.rename(columns=change_column_names)\n",
        "visual_d = visual_d.iloc[[top_1]]\n",
        "visual_d = gpd.GeoDataFrame(visual_d, geometry='geometry')\n",
        "\n",
        "map_3(visual_o, visual_d)"
      ],
      "metadata": {
        "id": "R6U7j_GqdL9u"
      },
      "execution_count": null,
      "outputs": []
    },
    {
      "cell_type": "code",
      "source": [
        "top_1 = 4\n",
        "\n",
        "visual_o = top_5[['O_CTY_CD', 'O_CTY_NM', 'o_geometry', 'CNT']]\n",
        "change_column_names = {'o_geometry': 'geometry'}\n",
        "visual_o = visual_o.rename(columns=change_column_names)\n",
        "visual_o = visual_o.iloc[[top_1]]\n",
        "visual_o = gpd.GeoDataFrame(visual_o, geometry='geometry')\n",
        "\n",
        "visual_d = top_5[['D_CTY_CD', 'D_CTY_NM', 'd_geometry', 'CNT']]\n",
        "change_column_names = {'d_geometry': 'geometry'}\n",
        "visual_d = visual_d.rename(columns=change_column_names)\n",
        "visual_d = visual_d.iloc[[top_1]]\n",
        "visual_d = gpd.GeoDataFrame(visual_d, geometry='geometry')\n",
        "\n",
        "map_3(visual_o, visual_d)"
      ],
      "metadata": {
        "id": "edYkZoKXdMAi"
      },
      "execution_count": null,
      "outputs": []
    },
    {
      "cell_type": "markdown",
      "source": [
        "## 행정동"
      ],
      "metadata": {
        "id": "80pTMpWztC9x"
      }
    },
    {
      "cell_type": "markdown",
      "source": [
        "### 유입"
      ],
      "metadata": {
        "id": "EuzO02nttFi2"
      }
    },
    {
      "cell_type": "code",
      "source": [
        "data = pd.read_csv('/content/drive/MyDrive/GG_TRANS_SEXAGE_ADMI_OD.csv')"
      ],
      "metadata": {
        "id": "dkYoGkHytFsw"
      },
      "execution_count": null,
      "outputs": []
    },
    {
      "cell_type": "code",
      "source": [
        "from pyproj import CRS\n",
        "\n",
        "katech_proj_string = \"\"\"\n",
        "    +proj=tmerc +lat_0=38 +lon_0=128 +k=0.9999 +x_0=400000 +y_0=600000\n",
        "    +ellps=bessel +units=m +no_defs +towgs84=-115.80,474.99,674.11,1.16,-2.31,-1.63,6.43\n",
        "    \"\"\"\n",
        "\n",
        "# Proj 문자열을 CRS 객체로 변환\n",
        "katech_crs = CRS.from_proj4(katech_proj_string)\n",
        "\n",
        "cty_shp = pd.read_csv('/content/drive/MyDrive/행정동 경계/TBSHP_ADMI_20240104_202404090850.csv', encoding='UTF-8')\n",
        "cty_shp['ADMI_CD'] = cty_shp['ADMI_CD'].astype('str')\n",
        "cty_shp['GEOMETRY'] = cty_shp['GEOMETRY'].astype('str')\n",
        "cty_shp['geometry'] = cty_shp['GEOMETRY'].apply(lambda wkt: loads(wkt))\n",
        "# cty_shp = gpd.GeoDataFrame(cty_shp, geometry = 'geometry').set_crs(\"EPSG:5181\")\n",
        "cty_shp = gpd.GeoDataFrame(cty_shp, geometry = 'geometry').set_crs(katech_crs)\n",
        "cty_shp = cty_shp.drop(columns = ['GEOMETRY'])\n",
        "cty_shp = cty_shp[['ADMI_CD', 'geometry']]\n",
        "cty_shp = cty_shp.to_crs(\"EPSG:4326\")\n",
        "cty_shp"
      ],
      "metadata": {
        "id": "fRE1LFEP8p-x"
      },
      "execution_count": null,
      "outputs": []
    },
    {
      "cell_type": "code",
      "source": [
        "# data.loc[data['O_CTY_CD'].isin([41194, 41192, 41196]), 'O_CTY_CD'] = 41190\n",
        "data.loc[data['O_CTY_NM'].isin(['부천시 소사구', '부천시 원미구', '부천시 오정구']), 'O_CTY_NM'] = '부천시'"
      ],
      "metadata": {
        "id": "4KA-fmhztFvA"
      },
      "execution_count": null,
      "outputs": []
    },
    {
      "cell_type": "code",
      "source": [
        "many_in_data = data[data['O_CTY_NM'].isin(in_many_sgg_list)]\n",
        "many_in_data = many_in_data[(many_in_data['O_MEGA_NM'] == '경기도') & (many_in_data['D_MEGA_NM'] == '경기도')]"
      ],
      "metadata": {
        "id": "5yIA0KjLtUpb"
      },
      "execution_count": null,
      "outputs": []
    },
    {
      "cell_type": "code",
      "source": [
        "many_in_group_data = many_in_data[(many_in_data['D_CTY_NM'] == '수원시 영통구') & (many_in_data['D_ADMI_NM'] == '광교1동')]\n",
        "many_in_group_data = many_in_group_data.groupby([\"O_ADMI_CD\", \"O_CTY_NM\", \"O_ADMI_NM\"])['CNT'].sum().reset_index()\n",
        "many_in_group_data['O_ADMI_CD'] = many_in_group_data['O_ADMI_CD'].astype(str).str.split('.').str[0]\n",
        "many_in_group_data = many_in_group_data.sort_values(by='CNT', ascending=False)\n",
        "many_in_group_data['admi'] = many_in_group_data['O_CTY_NM'] + ' ' + many_in_group_data['O_ADMI_NM']\n",
        "many_in_group_data"
      ],
      "metadata": {
        "id": "zW3j7giHtUsA"
      },
      "execution_count": null,
      "outputs": []
    },
    {
      "cell_type": "code",
      "source": [
        "cty_tmp = pd.merge(many_in_group_data, cty_shp, left_on = 'O_ADMI_CD', right_on = 'ADMI_CD', how = 'left')\n",
        "cty_tmp = gpd.GeoDataFrame(cty_tmp, geometry='geometry')\n",
        "cty_tmp"
      ],
      "metadata": {
        "id": "PCfmSrJjtUuN"
      },
      "execution_count": null,
      "outputs": []
    },
    {
      "cell_type": "code",
      "source": [
        "quantiles_column_A = cty_tmp['CNT'].quantile([0.25, 0.5, 0.75])\n",
        "print(quantiles_column_A)"
      ],
      "metadata": {
        "id": "gOUz6SvbtUw0"
      },
      "execution_count": null,
      "outputs": []
    },
    {
      "cell_type": "code",
      "source": [
        "cty_tmp['value'] = ''\n",
        "cty_tmp.loc[cty_tmp['CNT']<= quantiles_column_A[0.25], 'value'] = 0.25\n",
        "cty_tmp.loc[(cty_tmp['CNT'] > quantiles_column_A[0.25]) & (cty_tmp['CNT'] <= quantiles_column_A[0.5]), 'value'] = 0.5\n",
        "cty_tmp.loc[(cty_tmp['CNT'] > quantiles_column_A[0.5]) & (cty_tmp['CNT'] <= quantiles_column_A[0.75]), 'value'] = 0.75\n",
        "cty_tmp.loc[cty_tmp['CNT'] > quantiles_column_A[0.75], 'value'] = 1"
      ],
      "metadata": {
        "id": "Uj-Am1iGtUzY"
      },
      "execution_count": null,
      "outputs": []
    },
    {
      "cell_type": "code",
      "source": [
        "cty_tmp.explore(column=\"value\", categorical=True, cmap='YlOrRd')"
      ],
      "metadata": {
        "id": "e0F4EXeqtU13"
      },
      "execution_count": null,
      "outputs": []
    },
    {
      "cell_type": "code",
      "source": [],
      "metadata": {
        "id": "I4ZSmIlVoaOG"
      },
      "execution_count": null,
      "outputs": []
    },
    {
      "cell_type": "markdown",
      "source": [
        "### 유출"
      ],
      "metadata": {
        "id": "Wi5nljiPeGJu"
      }
    },
    {
      "cell_type": "code",
      "source": [
        "many_out_data = data[data['D_CTY_NM'].isin(out_many_sgg_list)]\n",
        "many_out_data = many_out_data[(many_out_data['O_MEGA_NM'] == '경기도') & (many_out_data['D_MEGA_NM'] == '경기도')]\n",
        "many_out_data"
      ],
      "metadata": {
        "id": "d4apta6e9kk3"
      },
      "execution_count": null,
      "outputs": []
    },
    {
      "cell_type": "code",
      "source": [
        "many_out_group_data = many_out_data[(many_out_data['O_CTY_NM'] == '수원시 영통구') & (many_out_data['O_ADMI_NM'] == '광교1동')]\n",
        "many_out_group_data = many_out_group_data.groupby([\"D_ADMI_CD\", \"D_CTY_NM\", \"D_ADMI_NM\"])['CNT'].sum().reset_index()\n",
        "many_out_group_data['D_ADMI_CD'] = many_out_group_data['D_ADMI_CD'].astype(str).str.split('.').str[0]\n",
        "many_out_group_data = many_out_group_data.sort_values(by='CNT', ascending=False)\n",
        "many_out_group_data['admi'] = many_out_group_data['D_CTY_NM'] + ' ' + many_out_group_data['D_ADMI_NM']\n",
        "many_out_group_data"
      ],
      "metadata": {
        "id": "kyGr6wYJ9knT"
      },
      "execution_count": null,
      "outputs": []
    },
    {
      "cell_type": "code",
      "source": [
        "cty_tmp = pd.merge(many_out_group_data, cty_shp, left_on = 'D_ADMI_CD', right_on = 'ADMI_CD', how = 'left')\n",
        "cty_tmp = gpd.GeoDataFrame(cty_tmp, geometry='geometry')\n",
        "cty_tmp"
      ],
      "metadata": {
        "id": "_hRgO2UUjHFO"
      },
      "execution_count": null,
      "outputs": []
    },
    {
      "cell_type": "code",
      "source": [
        "quantiles_column_A = cty_tmp['CNT'].quantile([0.25, 0.5, 0.75])\n",
        "print(quantiles_column_A)"
      ],
      "metadata": {
        "id": "US9yn7b3jHNM"
      },
      "execution_count": null,
      "outputs": []
    },
    {
      "cell_type": "code",
      "source": [
        "cty_tmp['value'] = ''\n",
        "cty_tmp.loc[cty_tmp['CNT']<= quantiles_column_A[0.25], 'value'] = 0.25\n",
        "cty_tmp.loc[(cty_tmp['CNT'] > quantiles_column_A[0.25]) & (cty_tmp['CNT'] <= quantiles_column_A[0.5]), 'value'] = 0.5\n",
        "cty_tmp.loc[(cty_tmp['CNT'] > quantiles_column_A[0.5]) & (cty_tmp['CNT'] <= quantiles_column_A[0.75]), 'value'] = 0.75\n",
        "cty_tmp.loc[cty_tmp['CNT'] > quantiles_column_A[0.75], 'value'] = 1"
      ],
      "metadata": {
        "id": "Pra2NVx8jHPt"
      },
      "execution_count": null,
      "outputs": []
    },
    {
      "cell_type": "code",
      "source": [
        "cty_tmp.explore(column=\"value\", categorical=True, cmap='YlOrRd')"
      ],
      "metadata": {
        "id": "0YhIAUSljHRy"
      },
      "execution_count": null,
      "outputs": []
    },
    {
      "cell_type": "markdown",
      "source": [
        "# 시군구별(TOP 5) 요일별 탄소배출량"
      ],
      "metadata": {
        "id": "Uqn-QVsq4rzF"
      }
    },
    {
      "cell_type": "code",
      "source": [
        "carbon_data = pd.read_csv('./drive/MyDrive/GG_TRANS_CARBON_SGG_OUTFLOW.csv')"
      ],
      "metadata": {
        "id": "qBdWUuYf4evr"
      },
      "execution_count": null,
      "outputs": []
    },
    {
      "cell_type": "code",
      "source": [
        "sudan_mapping = {0: '차량',\n",
        "                 1: '노선버스',\n",
        "                 2: '지하철',\n",
        "                 3: '도보',\n",
        "                 4: '고속버스',\n",
        "                 5: '기차',\n",
        "                 6: '항공',\n",
        "                 7: '기타'}\n",
        "carbon_data['TRANS_GB'] = carbon_data['TRANS_GB'].map(sudan_mapping)\n",
        "carbon_data"
      ],
      "metadata": {
        "id": "5nJ27RahssAd"
      },
      "execution_count": null,
      "outputs": []
    },
    {
      "cell_type": "code",
      "source": [
        "group = carbon_data[(carbon_data['O_CTY_NM'] == '포천시') & (carbon_data['TRANS_GB'] == '차량')]\n",
        "group.reset_index(drop = True)"
      ],
      "metadata": {
        "id": "dlsqjgXjvUb9"
      },
      "execution_count": null,
      "outputs": []
    },
    {
      "cell_type": "code",
      "source": [
        "grouped = group.groupby('O_CTY_NM')['TRANS_GB'].count().reset_index() #.unstack(fill_value=0)\n",
        "grouped"
      ],
      "metadata": {
        "id": "y4xZ9ImLunoP"
      },
      "execution_count": null,
      "outputs": []
    },
    {
      "cell_type": "code",
      "source": [
        "carbon_data.loc[carbon_data['O_CTY_CD'].isin([41194, 41192, 41196]), 'O_CTY_CD'] = 41190\n",
        "carbon_data.loc[carbon_data['O_CTY_NM'].isin(['부천시 소사구', '부천시 원미구', '부천시 오정구']), 'O_CTY_NM'] = '부천시'\n",
        "carbon_data['O_CTY_CD'] = carbon_data['O_CTY_CD'].astype('str')"
      ],
      "metadata": {
        "id": "gZjkZxWamosN"
      },
      "execution_count": null,
      "outputs": []
    },
    {
      "cell_type": "code",
      "source": [
        "carbon_data['sort_value'] = ''\n",
        "carbon_data.loc[carbon_data['DOW'] == '월', 'sort_value'] = 1\n",
        "carbon_data.loc[carbon_data['DOW'] == '화', 'sort_value'] = 2\n",
        "carbon_data.loc[carbon_data['DOW'] == '수', 'sort_value'] = 3\n",
        "carbon_data.loc[carbon_data['DOW'] == '목', 'sort_value'] = 4\n",
        "carbon_data.loc[carbon_data['DOW'] == '금', 'sort_value'] = 5\n",
        "carbon_data.loc[carbon_data['DOW'] == '토', 'sort_value'] = 6\n",
        "carbon_data.loc[carbon_data['DOW'] == '일', 'sort_value'] = 7\n",
        "# carbon_data.tail()"
      ],
      "metadata": {
        "id": "61o9fekD4eyD"
      },
      "execution_count": null,
      "outputs": []
    },
    {
      "cell_type": "code",
      "source": [
        "carbon_group = carbon_data.groupby(['ETL_YM', 'O_CTY_NM', 'DOW', 'sort_value'])['CARBON_EMISSIONS'].sum().reset_index()\n",
        "carbon_group = carbon_group.sort_values(by='sort_value')\n",
        "# carbon_group.head()"
      ],
      "metadata": {
        "id": "duEBm3CX4e0l"
      },
      "execution_count": null,
      "outputs": []
    },
    {
      "cell_type": "code",
      "source": [
        "found_top5 = carbon_data.groupby(['O_CTY_NM'])['CARBON_EMISSIONS'].sum().reset_index()\n",
        "found_top5 = found_top5.sort_values(by=['CARBON_EMISSIONS'], ascending=False)\n",
        "found_top5 = found_top5[:5]\n",
        "found_top5_si_list = found_top5['O_CTY_NM'].to_list()\n",
        "carbon_top5_data = carbon_group[carbon_group['O_CTY_NM'].isin(found_top5_si_list)]\n",
        "date_list = carbon_top5_data['ETL_YM'].drop_duplicates().sort_values().to_list()"
      ],
      "metadata": {
        "id": "S512AnCx4e5O"
      },
      "execution_count": null,
      "outputs": []
    },
    {
      "cell_type": "code",
      "source": [
        "for date in date_list:\n",
        "  carbon_date_data = carbon_top5_data[carbon_top5_data['ETL_YM'] == date]\n",
        "  for si in found_top5_si_list:\n",
        "    carbon_group_si = carbon_date_data[carbon_date_data['O_CTY_NM'] == si]\n",
        "    create_lineplot(carbon_group_si, x='DOW', y='CARBON_EMISSIONS', title=f'{date} {si} 요일별 탄소배출량', xlabel='요일', ylabel='탄소배출량')"
      ],
      "metadata": {
        "id": "k9s3_oHW4e7m"
      },
      "execution_count": null,
      "outputs": []
    },
    {
      "cell_type": "code",
      "source": [],
      "metadata": {
        "id": "cTeFWI16wAeV"
      },
      "execution_count": null,
      "outputs": []
    },
    {
      "cell_type": "markdown",
      "source": [
        "# 시군구별 요일별 탄소배출량 지도시각화"
      ],
      "metadata": {
        "id": "ZBI4TJ5Rmg4B"
      }
    },
    {
      "cell_type": "code",
      "source": [
        "cty_shp = pd.read_csv('/content/drive/MyDrive/시군구 경계/TBSHP_LH_CTY_202404081545.csv', encoding='UTF-8')\n",
        "cty_shp['SGG_CD'] = cty_shp['SGG_CD'].astype('str')\n",
        "cty_shp['GEOMETRY'] = cty_shp['GEOMETRY'].astype('str')\n",
        "cty_shp['geometry'] = cty_shp['GEOMETRY'].apply(lambda wkt: loads(wkt))\n",
        "cty_shp = gpd.GeoDataFrame(cty_shp, geometry = 'geometry').set_crs(\"EPSG:5181\")\n",
        "cty_shp = cty_shp.drop(columns = ['GEOMETRY'])\n",
        "cty_shp = cty_shp[['SGG_CD', 'geometry']]\n",
        "cty_shp = cty_shp.to_crs(\"EPSG:4326\")"
      ],
      "metadata": {
        "id": "7prgIiHOpe0N"
      },
      "execution_count": null,
      "outputs": []
    },
    {
      "cell_type": "code",
      "source": [
        "group_data = carbon_data.groupby(by=['O_CTY_CD', 'O_CTY_NM', 'DOW'])['CARBON_EMISSIONS'].sum().reset_index()\n",
        "group_data = group_data.sort_values(by='CARBON_EMISSIONS', ascending=False)\n",
        "group_data['O_CTY_CD'] = group_data['O_CTY_CD'].astype(str)"
      ],
      "metadata": {
        "id": "clEbnX6jmnyD"
      },
      "execution_count": null,
      "outputs": []
    },
    {
      "cell_type": "code",
      "source": [
        "cty_merge = pd.merge(group_data, cty_shp, left_on = 'O_CTY_CD', right_on = 'SGG_CD', how = 'left')\n",
        "cty_merge = gpd.GeoDataFrame(cty_merge, geometry='geometry')\n",
        "cty_merge"
      ],
      "metadata": {
        "id": "VIt9sHSdnrJR"
      },
      "execution_count": null,
      "outputs": []
    },
    {
      "cell_type": "code",
      "source": [
        "week_data = cty_merge[cty_merge['DOW'] == '월']\n",
        "map(week_data, 'O_CTY_NM', 'CARBON_EMISSIONS', legend_name='월요일 탄소배출량')"
      ],
      "metadata": {
        "id": "kXdivh77nz-x"
      },
      "execution_count": null,
      "outputs": []
    },
    {
      "cell_type": "code",
      "source": [
        "week_data = cty_merge[cty_merge['DOW'] == '화']\n",
        "map(week_data, 'O_CTY_NM', 'CARBON_EMISSIONS', legend_name='화요일 탄소배출량')"
      ],
      "metadata": {
        "id": "_hNfc532p-DB"
      },
      "execution_count": null,
      "outputs": []
    },
    {
      "cell_type": "code",
      "source": [
        "week_data = cty_merge[cty_merge['DOW'] == '수']\n",
        "map(week_data, 'O_CTY_NM', 'CARBON_EMISSIONS', legend_name='수요일 탄소배출량')"
      ],
      "metadata": {
        "id": "C3OdGe3fqIaY"
      },
      "execution_count": null,
      "outputs": []
    },
    {
      "cell_type": "code",
      "source": [
        "week_data = cty_merge[cty_merge['DOW'] == '목']\n",
        "map(week_data, 'O_CTY_NM', 'CARBON_EMISSIONS', legend_name='목요일 탄소배출량')"
      ],
      "metadata": {
        "id": "JjAT3U5KqIjV"
      },
      "execution_count": null,
      "outputs": []
    },
    {
      "cell_type": "code",
      "source": [
        "week_data = cty_merge[cty_merge['DOW'] == '금']\n",
        "map(week_data, 'O_CTY_NM', 'CARBON_EMISSIONS', legend_name='금요일 탄소배출량')"
      ],
      "metadata": {
        "id": "WRcya5nyqIsD"
      },
      "execution_count": null,
      "outputs": []
    },
    {
      "cell_type": "code",
      "source": [
        "week_data = cty_merge[cty_merge['DOW'] == '토']\n",
        "map(week_data, 'O_CTY_NM', 'CARBON_EMISSIONS', legend_name='토요일 탄소배출량')"
      ],
      "metadata": {
        "id": "RugxsNioqI0T"
      },
      "execution_count": null,
      "outputs": []
    },
    {
      "cell_type": "code",
      "source": [
        "week_data = cty_merge[cty_merge['DOW'] == '일']\n",
        "map(week_data, 'O_CTY_NM', 'CARBON_EMISSIONS', legend_name='일요일 탄소배출량')"
      ],
      "metadata": {
        "id": "UFRM32DDqI8m"
      },
      "execution_count": null,
      "outputs": []
    },
    {
      "cell_type": "code",
      "source": [],
      "metadata": {
        "id": "aY5lj6JkqWEz"
      },
      "execution_count": null,
      "outputs": []
    },
    {
      "cell_type": "markdown",
      "source": [
        "# 카드매출"
      ],
      "metadata": {
        "id": "eafGclS5AsG_"
      }
    },
    {
      "cell_type": "markdown",
      "source": [
        "## 시간대별 카드사 업종별 매출액 평균"
      ],
      "metadata": {
        "id": "fFgPVtj4Ae0H"
      }
    },
    {
      "cell_type": "code",
      "source": [
        "sale_df = pd.read_csv('/content/drive/MyDrive/data/nice데이터/카드데이터/cluster_gyeonggi_agrde_2401.csv', encoding = 'euc-kr') # 성,연령별 카드매출 데이터 load\n",
        "cty_shp = pd.read_csv('/content/drive/MyDrive/시군구 경계/TBSHP_LH_CTY_202404081545.csv') # 시군구 경계 load\n",
        "admi_shp = pd.read_csv('/content/drive/MyDrive/행정동 경계/TBSHP_ADMI_20240104_202405030948.csv') # 행정동 경계 load\n",
        "top = 3 # 상위 3개"
      ],
      "metadata": {
        "id": "HeN4lkz1AvqX"
      },
      "execution_count": null,
      "outputs": []
    },
    {
      "cell_type": "code",
      "source": [
        "time_dic = {\n",
        "\t1 : \"00:00 ~ 06:59\",\n",
        "\t2 : \"07:00 ~ 08:59\",\n",
        "\t3 : \"09:00 ~ 10:59\",\n",
        "\t4 : \"11:00 ~ 12:59\",\n",
        "\t5 : \"13:00 ~ 14:59\",\n",
        "\t6 : \"15:00 ~ 16:59\",\n",
        "\t7 : \"17:00 ~ 18:59\",\n",
        "\t8 : \"19:00 ~ 20:59\",\n",
        "\t9 : \"21:00 ~ 22:59\",\n",
        "\t10 : \"23:00~ 23:59\"\n",
        "}\n",
        "\n",
        "# 행정동별 시간대별 카드사 소분류 업종별 매출액 평균\n",
        "admi_sales = sale_df.groupby(['admi_cty_no', 'hour', 'card_tpbuz_nm_3'])['amt'].mean().reset_index()\n",
        "admi_sh_sales = pd.merge(admi_sales, admi_shp, left_on='admi_cty_no', right_on='ADMI_CD', how='left')\n",
        "admi_sh_sales['hour2'] = admi_sh_sales['hour'].map(time_dic)\n",
        "\n",
        "# 행정동별 시간대별 카드사 중분류 업종별 매출액 평균\n",
        "admi_sales = sale_df.groupby(['admi_cty_no', 'hour', 'card_tpbuz_nm_2'])['amt'].mean().reset_index()\n",
        "admi_mh_sales = pd.merge(admi_sales, admi_shp, left_on='admi_cty_no', right_on='ADMI_CD', how='left')\n",
        "admi_mh_sales['hour2'] = admi_mh_sales['hour'].map(time_dic)\n",
        "\n",
        "# 행정동별 시간대별 카드사 대분류 업종별 매출액 평균\n",
        "admi_sales = sale_df.groupby(['admi_cty_no', 'hour', 'card_tpbuz_nm_1'])['amt'].mean().reset_index()\n",
        "admi_lh_sales = pd.merge(admi_sales, admi_shp, left_on='admi_cty_no', right_on='ADMI_CD', how='left')\n",
        "admi_lh_sales['hour2'] = admi_lh_sales['hour'].map(time_dic)\n",
        "\n",
        "# 시군구별 시간대별 카드사 소분류 업종별 매출액 평균\n",
        "cty_sales = sale_df.groupby(['cty_rgn_no', 'hour', 'card_tpbuz_nm_3'])['amt'].mean().reset_index()\n",
        "cty_sh_sales = pd.merge(cty_sales, cty_shp, left_on='cty_rgn_no', right_on='SGG_CD', how='left')\n",
        "cty_sh_sales['hour2'] = cty_sh_sales['hour'].map(time_dic)\n",
        "\n",
        "# 시군구별 시간대별 카드사 중분류 업종별 매출액 평균\n",
        "cty_sales = sale_df.groupby(['cty_rgn_no', 'hour', 'card_tpbuz_nm_2'])['amt'].mean().reset_index()\n",
        "cty_mh_sales = pd.merge(cty_sales, cty_shp, left_on='cty_rgn_no', right_on='SGG_CD', how='left')\n",
        "cty_mh_sales['hour2'] = cty_mh_sales['hour'].map(time_dic)\n",
        "\n",
        "# 시군구별 시간대별 카드사 대분류 업종별 매출액 평균\n",
        "cty_sales = sale_df.groupby(['cty_rgn_no', 'hour', 'card_tpbuz_nm_1'])['amt'].mean().reset_index()\n",
        "cty_lh_sales = pd.merge(cty_sales, cty_shp, left_on='cty_rgn_no', right_on='SGG_CD')\n",
        "cty_lh_sales['hour2'] = cty_lh_sales['hour'].map(time_dic)\n",
        "\n",
        "# 가장 많은 상위 3개 카테고리\n",
        "top_cate_1 = cty_lh_sales.groupby('card_tpbuz_nm_1')['amt'].sum().sort_values(ascending=False).reset_index()['card_tpbuz_nm_1'].to_list()[:top]\n",
        "top_cate_2 = cty_mh_sales.groupby('card_tpbuz_nm_2')['amt'].sum().sort_values(ascending=False).reset_index()['card_tpbuz_nm_2'].to_list()[:top]\n",
        "top_cate_3 = cty_sh_sales.groupby('card_tpbuz_nm_3')['amt'].sum().sort_values(ascending=False).reset_index()['card_tpbuz_nm_3'].to_list()[:top]\n",
        "top_sido = cty_lh_sales.groupby('SGG_NM')['amt'].sum().sort_values(ascending=False).reset_index()['SGG_NM'].to_list()[:top]\n"
      ],
      "metadata": {
        "id": "JC4P1zjWAyj1"
      },
      "execution_count": null,
      "outputs": []
    },
    {
      "cell_type": "code",
      "source": [
        "for sido in top_sido:\n",
        "  visual_data = cty_lh_sales[cty_lh_sales['SGG_NM'] == sido]\n",
        "  visual_data = visual_data[visual_data['card_tpbuz_nm_1'].isin(top_cate_1)]\n",
        "  create_lineplot(visual_data, 'hour2', 'amt', title=f'{sido} 업종별(TOP {top}) 평균 매출액', xlabel='시간', ylabel='평균 매출액', legend='card_tpbuz_nm_1')"
      ],
      "metadata": {
        "id": "F19BpULdBI4F"
      },
      "execution_count": null,
      "outputs": []
    },
    {
      "cell_type": "code",
      "source": [
        "for sido in top_sido:\n",
        "  visual_data = cty_mh_sales[cty_mh_sales['SGG_NM'] == sido]\n",
        "  visual_data = visual_data[visual_data['card_tpbuz_nm_2'].isin(top_cate_2)]\n",
        "  create_lineplot(visual_data, 'hour2', 'amt', title=f'{sido} 업종별(TOP {top}) 평균 매출액', xlabel='시간', ylabel='평균 매출액', legend='card_tpbuz_nm_2')"
      ],
      "metadata": {
        "id": "qth5M65yBI_M"
      },
      "execution_count": null,
      "outputs": []
    },
    {
      "cell_type": "code",
      "source": [
        "for sido in top_sido:\n",
        "  visual_data = cty_sh_sales[cty_sh_sales['SGG_NM'] == sido]\n",
        "  visual_data = visual_data[visual_data['card_tpbuz_nm_3'].isin(top_cate_3)]\n",
        "  create_lineplot(visual_data, 'hour2', 'amt', title=f'{sido} 업종별(TOP {top}) 평균 매출액', xlabel='시간', ylabel='평균 매출액', legend='card_tpbuz_nm_3')"
      ],
      "metadata": {
        "id": "CUuH17bZBJDI"
      },
      "execution_count": null,
      "outputs": []
    },
    {
      "cell_type": "markdown",
      "source": [
        "## 시군구별 카드사 업종별 매출액 평균"
      ],
      "metadata": {
        "id": "UdbNNLOJ7IAe"
      }
    },
    {
      "cell_type": "code",
      "source": [
        "chunk_size = 1000000\n",
        "chunks = []\n",
        "\n",
        "use_col = ['cty_rgn_no', 'admi_cty_no', 'card_tpbuz_cd', 'card_tpbuz_nm_1', 'card_tpbuz_nm_2', 'card_tpbuz_nm_3', 'inflow_cd', 'sex', 'age', 'day', 'amt', 'cnt']\n",
        "\n",
        "for chunk in pd.read_csv('/content/drive/MyDrive/data/nice데이터/카드데이터/tbsh_gyeonggi_day_inflow_2401.csv',\n",
        "                         encoding = 'euc-kr',\n",
        "                         usecols = use_col,\n",
        "                         chunksize=chunk_size):\n",
        "    chunks.append(chunk)\n",
        "\n",
        "inflow_df = pd.concat(chunks, ignore_index=True) # 유입지별 매출 데이터 load\n",
        "top = 1 # 상위 1개"
      ],
      "metadata": {
        "id": "cl4TPjkc2qoA"
      },
      "execution_count": null,
      "outputs": []
    },
    {
      "cell_type": "code",
      "source": [
        "inflow_df.loc[inflow_df['cty_rgn_no'].isin([41194, 41192, 41196]), 'cty_rgn_no'] = 41190\n",
        "\n",
        "# 행정동별 카드사 소분류 업종별 매출액 평균\n",
        "admi_sales = inflow_df.groupby(['admi_cty_no', 'card_tpbuz_cd', 'card_tpbuz_nm_3'])['amt'].mean().reset_index()\n",
        "admi_s_sales = pd.merge(admi_sales, admi_shp, left_on='admi_cty_no', right_on='ADMI_CD', how='left')\n",
        "\n",
        "# 행정동별 카드사 중분류 업종별 매출액 평균\n",
        "admi_sales = inflow_df.groupby(['admi_cty_no', 'card_tpbuz_cd', 'card_tpbuz_nm_2'])['amt'].mean().reset_index()\n",
        "admi_m_sales = pd.merge(admi_sales, admi_shp, left_on='admi_cty_no', right_on='ADMI_CD', how='left')\n",
        "\n",
        "# 행정동별 카드사 대분류 업종별 매출액 평균\n",
        "admi_sales = inflow_df.groupby(['admi_cty_no', 'card_tpbuz_cd', 'card_tpbuz_nm_1'])['amt'].mean().reset_index()\n",
        "admi_L_sales = pd.merge(admi_sales, admi_shp, left_on='admi_cty_no', right_on='ADMI_CD', how='left')\n",
        "\n",
        "# 시군구별 카드사 소분류 업종별 매출액 평균\n",
        "cty_sales = inflow_df.groupby(['cty_rgn_no', 'card_tpbuz_cd', 'card_tpbuz_nm_3'])['amt'].mean().reset_index()\n",
        "cty_s_sales = pd.merge(cty_sales, cty_shp, left_on='cty_rgn_no', right_on='SGG_CD', how='left')\n",
        "\n",
        "# 시군구별 카드사 중분류 업종별 매출액 평균\n",
        "cty_sales = inflow_df.groupby(['cty_rgn_no', 'card_tpbuz_nm_2'])['amt'].mean().reset_index()\n",
        "cty_m_sales = pd.merge(cty_sales, cty_shp, left_on='cty_rgn_no', right_on='SGG_CD', how='left')\n",
        "\n",
        "# 시군구별 카드사 대분류 업종별 매출액 평균\n",
        "cty_sales = inflow_df.groupby(['cty_rgn_no',  'card_tpbuz_nm_1'])['amt'].mean().reset_index()\n",
        "cty_L_sales = pd.merge(cty_sales, cty_shp, left_on='cty_rgn_no', right_on='SGG_CD', how='left')"
      ],
      "metadata": {
        "id": "5Cm3BQr87DdM"
      },
      "execution_count": null,
      "outputs": []
    },
    {
      "cell_type": "code",
      "source": [
        "# 가장 많은 상위 1개 카테고리\n",
        "top_cate_1 = cty_L_sales.groupby('card_tpbuz_nm_1')['amt'].sum().sort_values(ascending=False).reset_index()['card_tpbuz_nm_1'].to_list()[:top]\n",
        "top_cate_2 = cty_m_sales.groupby('card_tpbuz_nm_2')['amt'].sum().sort_values(ascending=False).reset_index()['card_tpbuz_nm_2'].to_list()[:top]\n",
        "top_cate_3 = cty_s_sales.groupby('card_tpbuz_nm_3')['amt'].sum().sort_values(ascending=False).reset_index()['card_tpbuz_nm_3'].to_list()[:top]\n",
        "top_sido = cty_L_sales.groupby('SGG_NM')['amt'].sum().sort_values(ascending=False).reset_index()['SGG_NM'].to_list()[:top]"
      ],
      "metadata": {
        "id": "yuFYh5KK7Dgu"
      },
      "execution_count": null,
      "outputs": []
    },
    {
      "cell_type": "markdown",
      "source": [
        "## 시군구별 가장 많은 업종(대,중,소) 평균 매출액"
      ],
      "metadata": {
        "id": "aos5K2au_IOj"
      }
    },
    {
      "cell_type": "code",
      "source": [
        "# visual_data = cty_L_sales[cty_L_sales['SGG_NM'] == top_sido[0]]\n",
        "visual_data = cty_L_sales[cty_L_sales['card_tpbuz_nm_1'].isin(top_cate_1)]\n",
        "\n",
        "\n",
        "visual_data.loc[visual_data['SGG_NM'].isin(['부천시소사구', '부천시원미구', '부천시오정구']), 'CTY_NM'] = '부천시'\n",
        "visual_data['geometry'] = visual_data['GEOMETRY'].apply(lambda wkt: loads(wkt))\n",
        "visual_data = gpd.GeoDataFrame(visual_data, geometry = 'geometry').set_crs(\"EPSG:5181\")\n",
        "visual_data = visual_data.drop(columns = ['GEOMETRY'])\n",
        "visual_data = visual_data.to_crs(\"EPSG:4326\")\n",
        "\n",
        "\n",
        "# create_lineplot(visual_data, 'hour2', 'amt', title=f'{sido} 업종별(TOP {top}) 평균 매출액', xlabel='시간', ylabel='평균 매출액', legend='card_tpbuz_nm_1')\n",
        "visual_data.explore(column=\"amt\", categorical=False, cmap='YlOrRd')"
      ],
      "metadata": {
        "id": "s_aejwvm7Qth"
      },
      "execution_count": null,
      "outputs": []
    },
    {
      "cell_type": "code",
      "source": [
        "visual_data = cty_m_sales[cty_m_sales['card_tpbuz_nm_2'].isin(top_cate_2)]\n",
        "\n",
        "visual_data.loc[visual_data['SGG_NM'].isin(['부천시소사구', '부천시원미구', '부천시오정구']), 'CTY_NM'] = '부천시'\n",
        "visual_data['geometry'] = visual_data['GEOMETRY'].apply(lambda wkt: loads(wkt))\n",
        "visual_data = gpd.GeoDataFrame(visual_data, geometry = 'geometry').set_crs(\"EPSG:5181\")\n",
        "visual_data = visual_data.drop(columns = ['GEOMETRY'])\n",
        "visual_data = visual_data.to_crs(\"EPSG:4326\")\n",
        "\n",
        "# create_lineplot(visual_data, 'hour2', 'amt', title=f'{sido} 업종별(TOP {top}) 평균 매출액', xlabel='시간', ylabel='평균 매출액', legend='card_tpbuz_nm_1')\n",
        "visual_data.explore(column=\"amt\", categorical=False, cmap='YlOrRd')"
      ],
      "metadata": {
        "id": "cooKDiUx7QwJ"
      },
      "execution_count": null,
      "outputs": []
    },
    {
      "cell_type": "code",
      "source": [
        "visual_data = cty_s_sales[cty_s_sales['card_tpbuz_nm_3'].isin(top_cate_3)]\n",
        "\n",
        "visual_data.loc[visual_data['SGG_NM'].isin(['부천시소사구', '부천시원미구', '부천시오정구']), 'CTY_NM'] = '부천시'\n",
        "visual_data['geometry'] = visual_data['GEOMETRY'].apply(lambda wkt: loads(wkt))\n",
        "visual_data = gpd.GeoDataFrame(visual_data, geometry = 'geometry').set_crs(\"EPSG:5181\")\n",
        "visual_data = visual_data.drop(columns = ['GEOMETRY'])\n",
        "visual_data = visual_data.to_crs(\"EPSG:4326\")\n",
        "\n",
        "# create_lineplot(visual_data, 'hour2', 'amt', title=f'{sido} 업종별(TOP {top}) 평균 매출액', xlabel='시간', ylabel='평균 매출액', legend='card_tpbuz_nm_1')\n",
        "visual_data.explore(column=\"amt\", categorical=False, cmap='YlOrRd')"
      ],
      "metadata": {
        "id": "F3fG27e8-peF"
      },
      "execution_count": null,
      "outputs": []
    },
    {
      "cell_type": "code",
      "source": [],
      "metadata": {
        "id": "f4T8pM7B-pg5"
      },
      "execution_count": null,
      "outputs": []
    },
    {
      "cell_type": "code",
      "source": [],
      "metadata": {
        "id": "u9Zl_r0U-pjR"
      },
      "execution_count": null,
      "outputs": []
    },
    {
      "cell_type": "markdown",
      "source": [
        "## 시군구별 성·연령별 업종별 매출액 평균"
      ],
      "metadata": {
        "id": "SJVLdWCs7Q48"
      }
    },
    {
      "cell_type": "code",
      "source": [
        "def map_age_group(age):\n",
        "    if age < 3:\n",
        "        return '10대 미만'\n",
        "    elif age < 5:\n",
        "        return '10대'\n",
        "    elif age < 7:\n",
        "        return '20대'\n",
        "    elif age < 9:\n",
        "        return '30대'\n",
        "    elif age < 11:\n",
        "        return '40대'\n",
        "    elif age < 13:\n",
        "        return '50대'\n",
        "    elif age < 15:\n",
        "        return '60대'\n",
        "    elif age < 17:\n",
        "        return '70대'\n",
        "    elif age < 19:\n",
        "        return '80대'\n",
        "    elif age < 21:\n",
        "        return '90대'\n",
        "    else:\n",
        "      return '100세 이상'\n",
        "\n",
        "# 'age' 구분값 변경\n",
        "inflow_df['age'] = inflow_df['age'].apply(map_age_group)\n",
        "\n",
        "# 시군구별 성,연령별 카드사 소분류 업종별 매출액 평균\n",
        "cty_sales = inflow_df.groupby(['cty_rgn_no', 'sex', 'age', 'card_tpbuz_cd', 'card_tpbuz_nm_3'])['amt'].mean().reset_index()\n",
        "cty_sas_sales = pd.merge(cty_sales, cty_shp, left_on='cty_rgn_no', right_on='SGG_CD', how='left')\n",
        "\n",
        "# 시군구별 성,연령별 카드사 중분류 업종별 매출액 평균\n",
        "cty_sales = inflow_df.groupby(['cty_rgn_no', 'sex', 'age', 'card_tpbuz_nm_2'])['amt'].mean().reset_index()\n",
        "cty_sam_sales = pd.merge(cty_sales, cty_shp, left_on='cty_rgn_no', right_on='SGG_CD', how='left')\n",
        "\n",
        "# 시군구별 성,연령별 카드사 대분류 업종별 매출액 평균\n",
        "cty_sales = inflow_df.groupby(['cty_rgn_no', 'sex', 'age', 'card_tpbuz_nm_1'])['amt'].mean().reset_index()\n",
        "cty_sal_sales = pd.merge(cty_sales, cty_shp, left_on='cty_rgn_no', right_on='SGG_CD', how='left')"
      ],
      "metadata": {
        "id": "csQGv9xq7Dje"
      },
      "execution_count": null,
      "outputs": []
    },
    {
      "cell_type": "code",
      "source": [
        "# sido = top_sido[0]\n",
        "# visual_data = cty_sal_sales[cty_sal_sales['SGG_NM'] == sido]\n",
        "# cate = top_cate_1[1]\n",
        "# visual_data = visual_data[visual_data['card_tpbuz_nm_1'] == cate]\n",
        "visual_data"
      ],
      "metadata": {
        "id": "VWVIx_OfolVm"
      },
      "execution_count": null,
      "outputs": []
    },
    {
      "cell_type": "code",
      "source": [
        "visual_data_temp = cty_sal_sales[cty_sal_sales['SGG_NM'] == top_sido[0]]\n",
        "visual_date = visual_data_temp[visual_data_temp['card_tpbuz_nm_1'] == top_cate_1[0]]\n",
        "visual_date"
      ],
      "metadata": {
        "id": "xlFGCKTOr3pp"
      },
      "execution_count": null,
      "outputs": []
    },
    {
      "cell_type": "code",
      "source": [
        "top = 3 # 상위 3개\n",
        "\n",
        "# 가장 많은 상위 3개 카테고리\n",
        "top_cate_1 = cty_sal_sales.groupby('card_tpbuz_nm_1')['amt'].sum().sort_values(ascending=False).reset_index()['card_tpbuz_nm_1'].to_list()[:top]\n",
        "top_cate_2 = cty_sam_sales.groupby('card_tpbuz_nm_2')['amt'].sum().sort_values(ascending=False).reset_index()['card_tpbuz_nm_2'].to_list()[:top]\n",
        "top_cate_3 = cty_sas_sales.groupby('card_tpbuz_nm_3')['amt'].sum().sort_values(ascending=False).reset_index()['card_tpbuz_nm_3'].to_list()[:top]\n",
        "top_sido = cty_sal_sales.groupby('SGG_NM')['amt'].sum().sort_values(ascending=False).reset_index()['SGG_NM'].to_list()[:top]"
      ],
      "metadata": {
        "id": "8M0P_Q3j7d0z"
      },
      "execution_count": null,
      "outputs": []
    },
    {
      "cell_type": "code",
      "source": [
        "for sido in top_sido:\n",
        "  visual_data_temp = cty_sal_sales[cty_sal_sales['SGG_NM'] == sido]\n",
        "  for cate in top_cate_1:\n",
        "    visual_date = visual_data_temp[visual_data_temp['card_tpbuz_nm_1'] == cate]\n",
        "    # create_lineplot(visual_data, 'hour2', 'amt', title=f'{sido} 업종별(TOP {top}) 평균 매출액', xlabel='시간', ylabel='평균 매출액', legend='card_tpbuz_nm_1')\n",
        "    create_barplot(visual_date, 'age', 'amt',  title=f'{sido} {cate}업종 연령별 카드사 평균 매출액', xlabel='연령별', ylabel='평균 매출액', legend='sex')"
      ],
      "metadata": {
        "id": "EkKeEhT47d3b"
      },
      "execution_count": null,
      "outputs": []
    },
    {
      "cell_type": "markdown",
      "source": [
        "## 요일별카드사 업종별 매출액 평균"
      ],
      "metadata": {
        "id": "kTB-p9Kl7eEr"
      }
    },
    {
      "cell_type": "code",
      "source": [
        "week_dic = {\n",
        "  1 : '월',\n",
        "  2 : '화',\n",
        "  3 : '수',\n",
        "  4 : '목',\n",
        "  5 : '금',\n",
        "  6 : '토',\n",
        "  7 : '일'\n",
        "}\n",
        "\n",
        "inflow_df['day_2'] = inflow_df['day'].map(week_dic)\n",
        "\n",
        "# 시군구별 요일별 카드사 소분류 업종별 매출액 평균\n",
        "cty_day = inflow_df.groupby(['cty_rgn_no', 'day_2', 'card_tpbuz_cd', 'card_tpbuz_nm_3'])['amt'].mean().reset_index()\n",
        "cty_day_s = pd.merge(cty_day, cty_shp, left_on='cty_rgn_no', right_on='SGG_CD', how='left')\n",
        "\n",
        "# 시군구별 요일별 카드사 중분류 업종별 매출액 평균\n",
        "cty_day = inflow_df.groupby(['cty_rgn_no', 'day_2', 'card_tpbuz_nm_2'])['amt'].mean().reset_index()\n",
        "cty_day_m = pd.merge(cty_day, cty_shp, left_on='cty_rgn_no', right_on='SGG_CD', how='left')\n",
        "\n",
        "# 시군구별 요일별 카드사 대분류 업종별 매출액 평균\n",
        "cty_day = inflow_df.groupby(['cty_rgn_no', 'day_2', 'card_tpbuz_nm_1'])['amt'].mean().reset_index()\n",
        "cty_day_l = pd.merge(cty_day, cty_shp, left_on='cty_rgn_no', right_on='SGG_CD', how='left')"
      ],
      "metadata": {
        "id": "gawC3XC67ioC"
      },
      "execution_count": null,
      "outputs": []
    },
    {
      "cell_type": "code",
      "source": [
        "top = 3 # 상위 3개\n",
        "\n",
        "# 가장 많은 상위 3개 카테고리\n",
        "top_cate_1 = cty_day_l.groupby('card_tpbuz_nm_1')['amt'].sum().sort_values(ascending=False).reset_index()['card_tpbuz_nm_1'].to_list()[:top]\n",
        "top_cate_2 = cty_day_m.groupby('card_tpbuz_nm_2')['amt'].sum().sort_values(ascending=False).reset_index()['card_tpbuz_nm_2'].to_list()[:top]\n",
        "top_cate_3 = cty_day_s.groupby('card_tpbuz_nm_3')['amt'].sum().sort_values(ascending=False).reset_index()['card_tpbuz_nm_3'].to_list()[:top]\n",
        "top_sido = cty_day_l.groupby('SGG_NM')['amt'].sum().sort_values(ascending=False).reset_index()['SGG_NM'].to_list()[:top]"
      ],
      "metadata": {
        "id": "IcOMVY2RZm8y"
      },
      "execution_count": null,
      "outputs": []
    },
    {
      "cell_type": "code",
      "source": [
        "for sido in top_sido:\n",
        "  visual_data_temp = cty_day_l[cty_day_l['SGG_NM'] == sido]\n",
        "  visual_data = visual_data_temp[visual_data_temp['card_tpbuz_nm_1'].isin(top_cate_1)]\n",
        "  create_lineplot(visual_data, 'day_2', 'amt', title=f'{sido} 대분류 업종별(TOP {top}) 평균 매출액', xlabel='요일', ylabel='평균 매출액', legend='card_tpbuz_nm_1')"
      ],
      "metadata": {
        "id": "PjFJel_NZm_R"
      },
      "execution_count": null,
      "outputs": []
    },
    {
      "cell_type": "code",
      "source": [
        "for sido in top_sido:\n",
        "  visual_data_temp = cty_day_m[cty_day_m['SGG_NM'] == sido]\n",
        "  visual_data = visual_data_temp[visual_data_temp['card_tpbuz_nm_2'].isin(top_cate_2)]\n",
        "  create_lineplot(visual_data, 'day_2', 'amt', title=f'{sido} 중분류 업종별(TOP {top}) 평균 매출액', xlabel='요일', ylabel='평균 매출액', legend='card_tpbuz_nm_2')"
      ],
      "metadata": {
        "id": "h3GAAmmQZnBz"
      },
      "execution_count": null,
      "outputs": []
    },
    {
      "cell_type": "code",
      "source": [
        "for sido in top_sido:\n",
        "  visual_data_temp = cty_day_s[cty_day_s['SGG_NM'] == sido]\n",
        "  visual_data = visual_data_temp[visual_data_temp['card_tpbuz_nm_3'].isin(top_cate_3)]\n",
        "  create_lineplot(visual_data, 'day_2', 'amt', title=f'{sido} 소분류 업종별(TOP {top}) 평균 매출액', xlabel='요일', ylabel='평균 매출액', legend='card_tpbuz_nm_3')"
      ],
      "metadata": {
        "id": "qL33dXZX7lM2"
      },
      "execution_count": null,
      "outputs": []
    },
    {
      "cell_type": "markdown",
      "source": [
        "#기업신용"
      ],
      "metadata": {
        "id": "FjSWIvAC75QE"
      }
    },
    {
      "cell_type": "code",
      "source": [
        "col = [\"stdr_ym\", \"unq_cd\", \"entrps_nm\", \"bizno\", \"crpno\", \"eprdatastsdivcd\", \"eprmdydivcd\", \"scaledivcd\", \"eprdtldivcd\", \"ltgmktdivcd\", \"amnisuyn\",\n",
        "       \"etl_ipc_yn\", \"comp_fnd_date\", \"comp_close\", \"emp_pay_YM\", \"employees\", \"pay_avg\", \"mm_clby_gjob_tnpnum\", \"mmly_rtm_tnpnum\", \"loc_zip\",\n",
        "       \"sido_nm\", \"sigun_nm\", \"admi_nm\", \"admi2_nm\", \"gis_x\", \"gis_y\", \"noaddr\", \"rdnmaddr\", \"induty_pri_cd\", \"induty_pri_nm\", \"induty_med_cd\", \"induty_med_nm\",\n",
        "       \"watch_grade\", \"acct_dt\", \"pi_captial\", \"kiscon\", \"repr\", \"repr_birth\", \"cert_venture\", \"cert_innobiz\", \"cert_mainbiz\", \"cert_rndcntr\", \"cert_rnddpt\",\n",
        "       \"cert_net\", \"cert_nep\", \"cert_mct\"]\n",
        "\n",
        "hqmaster = pd.read_csv('/content/drive/MyDrive/data/nice데이터/기업데이터/202401/gg_corp1_hqmaster_202401.txt',\n",
        "                   encoding='cp949',\n",
        "                   sep='|',\n",
        "                   header=None,\n",
        "                   names=col)\n",
        "cty_shp = pd.read_csv('/content/drive/MyDrive/시군구 경계/TBSHP_LH_CTY_202404081545.csv') # 시군구 경계 load\n",
        "cty_shp['geometry'] = cty_shp['GEOMETRY'].apply(lambda wkt: loads(wkt))\n",
        "cty_shp = gpd.GeoDataFrame(cty_shp, geometry = 'geometry').set_crs(\"EPSG:5181\")\n",
        "# cty_shp = cty_shp.drop(columns = ['GEOMETRY'])\n",
        "cty_shp = cty_shp.to_crs(\"EPSG:4326\")"
      ],
      "metadata": {
        "id": "X9iQGFLk76Su"
      },
      "execution_count": null,
      "outputs": []
    },
    {
      "cell_type": "code",
      "source": [
        "#geodataframe 변환\n",
        "hqmaster_gdf = gpd.GeoDataFrame(hqmaster, geometry=gpd.points_from_xy(hqmaster.gis_x, hqmaster.gis_y)).set_crs(\"EPSG:5181\")\n",
        "hqmaster_gdf = hqmaster_gdf.to_crs(\"EPSG:4326\")\n",
        "hqmaster_gdf = gpd.sjoin(hqmaster_gdf, cty_shp, how='left', predicate='within').to_crs(\"EPSG:4326\")\n",
        "hqmaster_gdf = hqmaster_gdf.dropna(subset=['GEOMETRY'])\n",
        "hqmaster_gdf = hqmaster_gdf.drop(columns=['geometry'])\n",
        "\n",
        "hqmaster_gdf['gg_check'] = hqmaster_gdf['SGG_CD'].astype(str).str.slice(0,2)\n",
        "hqmaster_gdf = hqmaster_gdf[hqmaster_gdf['gg_check'] == '41']\n",
        "hqmaster_gdf['scaledivcd'] = hqmaster_gdf['scaledivcd'].replace({1: '대기업', 2: '중소기업', 3: '중견기업', 0: '대상아님'})"
      ],
      "metadata": {
        "id": "h9eJnxIP79c8"
      },
      "execution_count": null,
      "outputs": []
    },
    {
      "cell_type": "markdown",
      "source": [
        "## 시군구별 기업 규모별 업체수"
      ],
      "metadata": {
        "id": "uvwtLXFUAFWW"
      }
    },
    {
      "cell_type": "code",
      "source": [
        "hqmaster_gdf['scaledivcd'] = hqmaster_gdf['scaledivcd'].replace({1: '대기업', 2: '중소기업', 3: '중견기업', 0: '대상아님'})\n",
        "visual_data = hqmaster_gdf[hqmaster_gdf['scaledivcd'] == '대기업']\n",
        "visual_data = visual_data.groupby(['SGG_CD', 'SGG_NM', 'GEOMETRY', 'scaledivcd'])['entrps_nm'].count().reset_index()\n",
        "visual_data.loc[visual_data['SGG_NM'].isin(['부천시 소사구', '부천시 원미구', '부천시 오정구']), 'SGG_NM'] = '부천시'\n",
        "visual_data.loc[visual_data['SGG_NM'].isin(['부천시소사구', '부천시원미구', '부천시오정구']), 'SGG_NM'] = '부천시'\n",
        "visual_data.loc[visual_data['SGG_CD'].isin([41194, 41192, 41196]), 'SGG_CD'] = 41190\n",
        "visual_data['geometry'] = visual_data['GEOMETRY'].apply(lambda wkt: loads(wkt))\n",
        "visual_data = gpd.GeoDataFrame(visual_data, geometry = 'geometry').set_crs(\"EPSG:5181\")\n",
        "visual_data = visual_data.drop(columns = ['GEOMETRY'])\n",
        "visual_data = visual_data.to_crs(\"EPSG:4326\")\n",
        "visual_data.explore(column=\"entrps_nm\", categorical=False, cmap='YlOrRd')"
      ],
      "metadata": {
        "id": "gEWKAWQKAE6z"
      },
      "execution_count": null,
      "outputs": []
    },
    {
      "cell_type": "code",
      "source": [
        "visual_data = hqmaster_gdf[hqmaster_gdf['scaledivcd'] == '중소기업']\n",
        "visual_data = visual_data.groupby(['SGG_CD', 'SGG_NM', 'GEOMETRY', 'scaledivcd'])['entrps_nm'].count().reset_index()\n",
        "visual_data.loc[visual_data['SGG_NM'].isin(['부천시 소사구', '부천시 원미구', '부천시 오정구']), 'SGG_NM'] = '부천시'\n",
        "visual_data.loc[visual_data['SGG_NM'].isin(['부천시소사구', '부천시원미구', '부천시오정구']), 'SGG_NM'] = '부천시'\n",
        "visual_data.loc[visual_data['SGG_CD'].isin([41194, 41192, 41196]), 'SGG_CD'] = 41190\n",
        "visual_data['geometry'] = visual_data['GEOMETRY'].apply(lambda wkt: loads(wkt))\n",
        "visual_data = gpd.GeoDataFrame(visual_data, geometry = 'geometry').set_crs(\"EPSG:5181\")\n",
        "visual_data = visual_data.drop(columns = ['GEOMETRY'])\n",
        "visual_data = visual_data.to_crs(\"EPSG:4326\")\n",
        "visual_data.explore(column=\"entrps_nm\", categorical=False, cmap='YlOrRd')"
      ],
      "metadata": {
        "id": "6cZ0RCpeuB1i"
      },
      "execution_count": null,
      "outputs": []
    },
    {
      "cell_type": "code",
      "source": [
        "hqmaster_gdf['scaledivcd'] = hqmaster_gdf['scaledivcd'].replace({1: '대기업', 2: '중소기업', 3: '중견기업', 0: '대상아님'})\n",
        "visual_data = hqmaster_gdf[hqmaster_gdf['scaledivcd'] == '중견기업']\n",
        "visual_data = visual_data.groupby(['SGG_CD', 'SGG_NM', 'GEOMETRY', 'scaledivcd'])['entrps_nm'].count().reset_index()\n",
        "visual_data.loc[visual_data['SGG_NM'].isin(['부천시 소사구', '부천시 원미구', '부천시 오정구']), 'SGG_NM'] = '부천시'\n",
        "visual_data.loc[visual_data['SGG_NM'].isin(['부천시소사구', '부천시원미구', '부천시오정구']), 'SGG_NM'] = '부천시'\n",
        "visual_data.loc[visual_data['SGG_CD'].isin([41194, 41192, 41196]), 'SGG_CD'] = 41190\n",
        "visual_data['geometry'] = visual_data['GEOMETRY'].apply(lambda wkt: loads(wkt))\n",
        "visual_data = gpd.GeoDataFrame(visual_data, geometry = 'geometry').set_crs(\"EPSG:5181\")\n",
        "visual_data = visual_data.drop(columns = ['GEOMETRY'])\n",
        "visual_data = visual_data.to_crs(\"EPSG:4326\")\n",
        "visual_data.explore(column=\"entrps_nm\", categorical=False, cmap='YlOrRd')"
      ],
      "metadata": {
        "id": "saUKyKPEuA1U"
      },
      "execution_count": null,
      "outputs": []
    },
    {
      "cell_type": "markdown",
      "source": [
        "## 시군구별(TOP 5) 기업 규모별 입사자/퇴사자 수\n"
      ],
      "metadata": {
        "id": "VBkvjk4cvY6J"
      }
    },
    {
      "cell_type": "code",
      "source": [
        "# 시군구별 기업규모별 평균 종업원수, 입사자수, 퇴사자수\n",
        "# h_emp = hqmaster_gdf.groupby(['sigun_nm', 'scaledivcd'])[['employees', 'mm_clby_gjob_tnpnum', 'mmly_rtm_tnpnum']].mean().reset_index()\n",
        "\n",
        "visual_data = hqmaster_gdf[hqmaster_gdf['scaledivcd'] == '대기업']\n",
        "visual_data = visual_data.groupby(['SGG_CD', 'SGG_NM', 'GEOMETRY', 'scaledivcd'])[['mm_clby_gjob_tnpnum', 'mmly_rtm_tnpnum']].mean().reset_index()\n",
        "visual_data.loc[visual_data['SGG_NM'].isin(['부천시 소사구', '부천시 원미구', '부천시 오정구']), 'SGG_NM'] = '부천시'\n",
        "visual_data.loc[visual_data['SGG_NM'].isin(['부천시소사구', '부천시원미구', '부천시오정구']), 'SGG_NM'] = '부천시'\n",
        "visual_data.loc[visual_data['SGG_CD'].isin([41194, 41192, 41196]), 'SGG_CD'] = 41190\n",
        "\n",
        "visual_data = visual_data.melt(id_vars=['SGG_CD', 'SGG_NM'],\n",
        "                    value_vars=['mm_clby_gjob_tnpnum', 'mmly_rtm_tnpnum'])\n",
        "top_5_visual_data = visual_data.sort_values(['value'], ascending=False)\n",
        "top_5__list = top_5_visual_data['SGG_NM'].unique().tolist()[:5]\n",
        "top_5_visual_data = top_5_visual_data[top_5_visual_data['SGG_NM'].isin(top_5__list)]\n",
        "top_5_visual_data.loc[top_5_visual_data['variable'] == 'mm_clby_gjob_tnpnum', 'variable'] = '입사자'\n",
        "top_5_visual_data.loc[top_5_visual_data['variable'] == 'mmly_rtm_tnpnum', 'variable'] = '퇴사자'\n",
        "\n",
        "create_barplot(top_5_visual_data, 'SGG_NM', 'value',  title=f'대기업 시군구별 평균 입사자/퇴사자 수', xlabel='시군구', ylabel='수', legend='variable')"
      ],
      "metadata": {
        "id": "8gRNfABD8WHQ"
      },
      "execution_count": null,
      "outputs": []
    },
    {
      "cell_type": "code",
      "source": [
        "# 시군구별 기업규모별 평균 종업원수, 입사자수, 퇴사자수\n",
        "# h_emp = hqmaster_gdf.groupby(['sigun_nm', 'scaledivcd'])[['employees', 'mm_clby_gjob_tnpnum', 'mmly_rtm_tnpnum']].mean().reset_index()\n",
        "\n",
        "visual_data = hqmaster_gdf[hqmaster_gdf['scaledivcd'] == '중소기업']\n",
        "visual_data = visual_data.groupby(['SGG_CD', 'SGG_NM', 'GEOMETRY', 'scaledivcd'])[['mm_clby_gjob_tnpnum', 'mmly_rtm_tnpnum']].mean().reset_index()\n",
        "visual_data.loc[visual_data['SGG_NM'].isin(['부천시 소사구', '부천시 원미구', '부천시 오정구']), 'SGG_NM'] = '부천시'\n",
        "visual_data.loc[visual_data['SGG_NM'].isin(['부천시소사구', '부천시원미구', '부천시오정구']), 'SGG_NM'] = '부천시'\n",
        "visual_data.loc[visual_data['SGG_CD'].isin([41194, 41192, 41196]), 'SGG_CD'] = 41190\n",
        "\n",
        "visual_data = visual_data.melt(id_vars=['SGG_CD', 'SGG_NM'],\n",
        "                    value_vars=['mm_clby_gjob_tnpnum', 'mmly_rtm_tnpnum'])\n",
        "top_5_visual_data = visual_data.sort_values(['value'], ascending=False)\n",
        "top_5__list = top_5_visual_data['SGG_NM'].unique().tolist()[:5]\n",
        "top_5_visual_data = top_5_visual_data[top_5_visual_data['SGG_NM'].isin(top_5__list)]\n",
        "top_5_visual_data.loc[top_5_visual_data['variable'] == 'mm_clby_gjob_tnpnum', 'variable'] = '입사자'\n",
        "top_5_visual_data.loc[top_5_visual_data['variable'] == 'mmly_rtm_tnpnum', 'variable'] = '퇴사자'\n",
        "\n",
        "create_barplot(top_5_visual_data, 'SGG_NM', 'value',  title=f'중소기업 시군구별 평균 입사자/퇴사자 수', xlabel='시군구', ylabel='수', legend='variable')"
      ],
      "metadata": {
        "id": "3Br_aA5W8WJ4"
      },
      "execution_count": null,
      "outputs": []
    },
    {
      "cell_type": "code",
      "source": [
        "   # 시군구별 기업규모별 평균 종업원수, 입사자수, 퇴사자수\n",
        "# h_emp = hqmaster_gdf.groupby(['sigun_nm', 'scaledivcd'])[['employees', 'mm_clby_gjob_tnpnum', 'mmly_rtm_tnpnum']].mean().reset_index()\n",
        "\n",
        "visual_data = hqmaster_gdf[hqmaster_gdf['scaledivcd'] == '중견기업']\n",
        "visual_data = visual_data.groupby(['SGG_CD', 'SGG_NM', 'GEOMETRY', 'scaledivcd'])[['mm_clby_gjob_tnpnum', 'mmly_rtm_tnpnum']].mean().reset_index()\n",
        "visual_data.loc[visual_data['SGG_NM'].isin(['부천시 소사구', '부천시 원미구', '부천시 오정구']), 'sigun_nm'] = '부천시'\n",
        "visual_data.loc[visual_data['SGG_NM'].isin(['부천시소사구', '부천시원미구', '부천시오정구']), 'sigun_nm'] = '부천시'\n",
        "visual_data.loc[visual_data['SGG_CD'].isin([41194, 41192, 41196]), 'cty_rgn_no'] = 41190\n",
        "\n",
        "visual_data = visual_data.melt(id_vars=['SGG_CD', 'SGG_NM'],\n",
        "                    value_vars=['mm_clby_gjob_tnpnum', 'mmly_rtm_tnpnum'])\n",
        "top_5_visual_data = visual_data.sort_values(['value'], ascending=False)\n",
        "top_5__list = top_5_visual_data['SGG_NM'].unique().tolist()[:5]\n",
        "top_5_visual_data = top_5_visual_data[top_5_visual_data['SGG_NM'].isin(top_5__list)]\n",
        "top_5_visual_data.loc[top_5_visual_data['variable'] == 'mm_clby_gjob_tnpnum', 'variable'] = '입사자'\n",
        "top_5_visual_data.loc[top_5_visual_data['variable'] == 'mmly_rtm_tnpnum', 'variable'] = '퇴사자'\n",
        "\n",
        "create_barplot(top_5_visual_data, 'SGG_NM', 'value',  title=f'중견기업 시군구별 평균 입사자/퇴사자 수', xlabel='시군구', ylabel='수', legend='variable')"
      ],
      "metadata": {
        "id": "Rfi8cwXU8WNI"
      },
      "execution_count": null,
      "outputs": []
    },
    {
      "cell_type": "markdown",
      "source": [
        "## 시군구별(TOP 5) 대분류(TOP 5) 업종별 평균 급료"
      ],
      "metadata": {
        "id": "1izUrQz37DfL"
      }
    },
    {
      "cell_type": "code",
      "source": [
        "visual_data = hqmaster_gdf.groupby(['SGG_CD', 'SGG_NM', 'induty_pri_nm'])[['pay_avg']].mean().reset_index()\n",
        "visual_data.loc[visual_data['SGG_NM'].isin(['부천시 소사구', '부천시 원미구', '부천시 오정구']), 'sigun_nm'] = '부천시'\n",
        "visual_data.loc[visual_data['SGG_NM'].isin(['부천시소사구', '부천시원미구', '부천시오정구']), 'sigun_nm'] = '부천시'\n",
        "visual_data.loc[visual_data['SGG_CD'].isin([41194, 41192, 41196]), 'cty_rgn_no'] = 41190\n",
        "\n",
        "top_5_visual_data = visual_data.sort_values(['pay_avg'], ascending=False)\n",
        "cate_top_5_list = top_5_visual_data['induty_pri_nm'].drop_duplicates().tolist()[:5]\n",
        "sido_top_5_list = top_5_visual_data['SGG_NM'].drop_duplicates().tolist()[:5]\n",
        "\n",
        "cate_sido_top5_data = top_5_visual_data[top_5_visual_data['induty_pri_nm'].isin(cate_top_5_list)]\n",
        "cate_sido_top5_data = cate_sido_top5_data[cate_sido_top5_data['SGG_NM'].isin(sido_top_5_list)]\n",
        "cate_sido_top5_data['pay_avg'] = cate_sido_top5_data['pay_avg'].fillna(0)\n",
        "create_barplot(cate_sido_top5_data, 'SGG_NM', 'pay_avg',  title=f'시군구별(TOP 5) 대분류(TOP 5) 업종별 평균 급료', xlabel='시군구', ylabel='평균 급료', legend='induty_pri_nm')"
      ],
      "metadata": {
        "id": "lm5UopNs7C85"
      },
      "execution_count": null,
      "outputs": []
    },
    {
      "cell_type": "code",
      "source": [],
      "metadata": {
        "id": "l345dLo17DGo"
      },
      "execution_count": null,
      "outputs": []
    },
    {
      "cell_type": "markdown",
      "source": [
        "## 시군구(TOP 5) 대분류 업종별(TOP 5) 평균 입사자/퇴사자 수"
      ],
      "metadata": {
        "id": "IHMVj1ki9_Hh"
      }
    },
    {
      "cell_type": "code",
      "source": [
        "# 시군구별 대분류 업종별 평균 종업원수, 입사자수, 퇴사자수\n",
        "h_pemp = hqmaster_gdf.groupby(['SGG_CD', 'SGG_NM', 'induty_pri_nm'])[['mm_clby_gjob_tnpnum', 'mmly_rtm_tnpnum']].mean().reset_index()\n",
        "cty_h_pemp = pd.merge(h_pemp, cty_shp, left_on='sigun_nm', right_on='SGG_NM', how='left')\n",
        "cty_h_pemp = cty_h_pemp[['SGG_CD', 'sigun_nm', 'induty_pri_cd', 'induty_pri_nm', 'employees', 'mm_clby_gjob_tnpnum', 'mmly_rtm_tnpnum', 'GEOMETRY']]"
      ],
      "metadata": {
        "id": "5F9BSvCZ-Msb"
      },
      "execution_count": null,
      "outputs": []
    },
    {
      "cell_type": "code",
      "source": [
        "visual_data = hqmaster_gdf.groupby(['SGG_CD', 'SGG_NM', 'induty_pri_nm'])[['mm_clby_gjob_tnpnum', 'mmly_rtm_tnpnum']].mean().reset_index()\n",
        "visual_data.loc[visual_data['SGG_NM'].isin(['부천시 소사구', '부천시 원미구', '부천시 오정구']), 'sigun_nm'] = '부천시'\n",
        "visual_data.loc[visual_data['SGG_NM'].isin(['부천시소사구', '부천시원미구', '부천시오정구']), 'sigun_nm'] = '부천시'\n",
        "visual_data.loc[visual_data['SGG_CD'].isin([41194, 41192, 41196]), 'cty_rgn_no'] = 41190\n",
        "visual_data['mm_clby_gjob_tnpnum'] = visual_data['mm_clby_gjob_tnpnum'].fillna(0)\n",
        "visual_data['mmly_rtm_tnpnum'] = visual_data['mmly_rtm_tnpnum'].fillna(0)\n",
        "visual_data['total'] = visual_data['mm_clby_gjob_tnpnum'] + visual_data['mmly_rtm_tnpnum']\n",
        "visual_data = visual_data.sort_values(['total'], ascending=False)\n",
        "\n",
        "top_5_sido_list = visual_data['SGG_NM'].drop_duplicates().tolist()[:5]\n",
        "top_5_cate_list = visual_data['induty_pri_nm'].drop_duplicates().tolist()[:5]\n",
        "\n",
        "visual_top5_data = visual_data[visual_data['SGG_NM'].isin(top_5_sido_list)]\n",
        "visual_top5_data = visual_top5_data[visual_top5_data['induty_pri_nm'].isin(top_5_cate_list)]\n",
        "\n",
        "visual_top5_data = visual_top5_data.melt(id_vars=['SGG_CD', 'SGG_NM', 'induty_pri_nm'],\n",
        "                    value_vars=['mm_clby_gjob_tnpnum', 'mmly_rtm_tnpnum'])\n",
        "visual_top5_data = visual_top5_data.sort_values(['value'], ascending=False)\n",
        "\n",
        "visual_top5_data.loc[visual_top5_data['variable'] == 'mm_clby_gjob_tnpnum', 'variable'] = '입사자'\n",
        "visual_top5_data.loc[visual_top5_data['variable'] == 'mmly_rtm_tnpnum', 'variable'] = '퇴사자'\n",
        "\n",
        "# visual_top5_data\n",
        "\n",
        "for cate in top_5_cate_list:\n",
        "  visual_data_temp = visual_top5_data[visual_top5_data['induty_pri_nm'] == cate]\n",
        "  create_barplot(visual_data_temp, 'SGG_NM', 'value',  title=f'{cate} 업종 시군구별 입사자/퇴사자 평균수', xlabel='시군구', ylabel='평균 수', legend='variable')\n",
        "\n"
      ],
      "metadata": {
        "id": "OUaXJM-R-Mus"
      },
      "execution_count": null,
      "outputs": []
    },
    {
      "cell_type": "code",
      "source": [],
      "metadata": {
        "id": "ZHNfZN-H-Mwz"
      },
      "execution_count": null,
      "outputs": []
    },
    {
      "cell_type": "markdown",
      "source": [
        "## 시군구별 업종별 신설법인 기업수"
      ],
      "metadata": {
        "id": "ugniPlGv8DS2"
      }
    },
    {
      "cell_type": "code",
      "source": [
        "col = ['stdr_ym', 'sido_nm', 'sigun_nm', 'admi_nm', 'induty_pri_cd', 'induty_pri_nm', 'induty_med_cd', 'induty_med_nm', 'ncr_crp_comp_cn']\n",
        "\n",
        "new_comp = pd.read_csv('/content/drive/MyDrive/data/nice데이터/기업데이터/202401/gg_corp4_new_202401.txt',\n",
        "                   encoding='cp949',\n",
        "                   sep='|',\n",
        "                   header=None,\n",
        "                   names=col)\n",
        "new_comp"
      ],
      "metadata": {
        "id": "xvlUOPhr79qx"
      },
      "execution_count": null,
      "outputs": []
    },
    {
      "cell_type": "code",
      "source": [
        "# 시군구별 대분류 업종별 신설법인 기업수\n",
        "cty_new_pcomp = new_comp.groupby(['sigun_nm', 'induty_pri_cd', 'induty_pri_nm'])['ncr_crp_comp_cn'].sum().reset_index()\n",
        "cty_new_pcomp = pd.merge(cty_new_pcomp, cty_shp, left_on='sigun_nm', right_on='SGG_NM', how='left')\n",
        "cty_new_pcomp = cty_new_pcomp[['SGG_CD', 'sigun_nm',  'induty_pri_cd', 'induty_pri_nm', 'ncr_crp_comp_cn', 'GEOMETRY']]\n",
        "\n",
        "# 시군구별 중분류 업종별 신설법인 기업수\n",
        "cty_new_mcomp = new_comp.groupby(['sigun_nm',  'induty_med_cd', 'induty_med_nm'])['ncr_crp_comp_cn'].sum().reset_index()\n",
        "cty_new_mcomp = pd.merge(cty_new_mcomp, cty_shp, left_on='sigun_nm', right_on='SGG_NM', how='left')\n",
        "cty_new_mcomp = cty_new_mcomp[['SGG_CD', 'sigun_nm',  'induty_med_cd', 'induty_med_nm', 'ncr_crp_comp_cn', 'GEOMETRY']]"
      ],
      "metadata": {
        "id": "btuoBB3L79tS"
      },
      "execution_count": null,
      "outputs": []
    },
    {
      "cell_type": "code",
      "source": [],
      "metadata": {
        "id": "J7Nusm288xMp"
      },
      "execution_count": null,
      "outputs": []
    },
    {
      "cell_type": "code",
      "source": [],
      "metadata": {
        "id": "e1cAsknz8xPl"
      },
      "execution_count": null,
      "outputs": []
    },
    {
      "cell_type": "code",
      "source": [],
      "metadata": {
        "id": "ygxPWCag8xUX"
      },
      "execution_count": null,
      "outputs": []
    },
    {
      "cell_type": "code",
      "source": [],
      "metadata": {
        "id": "-w336rMs8xWt"
      },
      "execution_count": null,
      "outputs": []
    },
    {
      "cell_type": "markdown",
      "source": [
        "# 개인신용"
      ],
      "metadata": {
        "id": "9RlMjBn-8whL"
      }
    },
    {
      "cell_type": "code",
      "source": [
        "chunk_size = 1000000\n",
        "chunks = []\n",
        "\n",
        "# use_col = ['cty_rgn_no', 'admi_cty_no', 'card_tpbuz_cd', 'card_tpbuz_nm_1', 'card_tpbuz_nm_2', 'card_tpbuz_nm_3', 'inflow_cd', 'sex', 'age', 'day', 'amt', 'cnt']\n",
        "\n",
        "# 법정동리단위 소득, 소비, 부채, 인구통계 데이터 load\n",
        "for chunk in pd.read_csv('/content/drive/MyDrive/data/nice데이터/개인데이터/NICE평가정보_개인신용익명정보 산출파일_202401_202402.zip (Unzipped Files)/GYEONGGI_BCD_STAT_2401.csv',\n",
        "                         encoding = 'euc-kr',\n",
        "                         chunksize=chunk_size):\n",
        "                        #  usecols = use_col,\n",
        "                        #  chunksize=chunk_size):\n",
        "    chunks.append(chunk)\n",
        "\n",
        "stat_df = pd.concat(chunks, ignore_index=True) # 유입지별 매출 데이터 load\n",
        "stat_df"
      ],
      "metadata": {
        "id": "cVZROWGn8zJf"
      },
      "execution_count": null,
      "outputs": []
    },
    {
      "cell_type": "code",
      "source": [],
      "metadata": {
        "id": "shi5EREY8319"
      },
      "execution_count": null,
      "outputs": []
    },
    {
      "cell_type": "markdown",
      "source": [
        "## 시군구별 데이터 분석"
      ],
      "metadata": {
        "id": "v3Ni8Cj284dd"
      }
    },
    {
      "cell_type": "code",
      "source": [
        "# age 10대 단위로 매핑\n",
        "def map_age_group(age):\n",
        "    if age < 20:\n",
        "        return '10대'\n",
        "    elif age < 30:\n",
        "        return '20대'\n",
        "    elif age < 40:\n",
        "        return '30대'\n",
        "    elif age < 50:\n",
        "        return '40대'\n",
        "    elif age < 60:\n",
        "        return '50대'\n",
        "    elif age < 70:\n",
        "        return '60대'\n",
        "    else:\n",
        "      return '70대 이상'\n",
        "\n",
        "# 'age' 구분값 변경\n",
        "stat_df['AGE'] = stat_df['AGE'].apply(map_age_group)\n",
        "\n",
        "# 행정동 컬럼 생성\n",
        "stat_df['ADMI'] = stat_df['BCD'].astype(str).str[:8].astype(int)\n",
        "\n",
        "# 시군구 컬럼 생성\n",
        "stat_df['CTY'] = stat_df['BCD'].astype(str).str[:5].astype(int)\n",
        "\n",
        "# 행정동별 연령별 월소득평균\n",
        "bcd_age = stat_df.groupby(['ADMI', 'AGE'])['AVG_INC'].mean().reset_index()\n",
        "admi_bcd_age = pd.merge(bcd_age, admi_shp, left_on='ADMI', right_on='ADMI_CD', how='left')\n",
        "\n",
        "# 행정동별 연령별 신용카드 이용금액 평균\n",
        "bcd_cred = stat_df.groupby(['ADMI', 'AGE'])['AVG_CRED'].mean().reset_index()\n",
        "admi_bcd_cred = pd.merge(bcd_cred, admi_shp, left_on='ADMI', right_on='ADMI_CD', how='left')\n",
        "\n",
        "# 행정동별 연령별 체크카드 이용금액 평균\n",
        "bcd_chk = stat_df.groupby(['ADMI', 'AGE'])['AVG_CHECK'].mean().reset_index()\n",
        "admi_bcd_chk = pd.merge(bcd_chk, admi_shp, left_on='ADMI', right_on='ADMI_CD', how='left')\n",
        "\n",
        "# 행정동별 연령별 카드 총 이용금액 평균\n",
        "bcd_card = stat_df.groupby(['ADMI', 'AGE'])['AVG_CARD'].mean().reset_index()\n",
        "admi_bcd_card = pd.merge(bcd_card, admi_shp, left_on='ADMI', right_on='ADMI_CD', how='left')\n",
        "\n",
        "# 시군구별 연령별 대출, 은행업권대출, 비은행업권대출, 신용대출, 주택담보대출, 예적금 유가 담보대출, 정책자금 대출 보유자 수\n",
        "bcd_loan = stat_df.groupby(['ADMI', 'AGE'])['LOAN_CNT', 'LOAN1_CNT', 'LOAN2_CNT', 'CRED_LOAN_CNT', 'HOUS_LOAN_CNT', 'BANK_LOAN_CNT', 'POL_LOAN_CNT'].sum().reset_index()\n",
        "admi_bcd_loan = pd.merge(bcd_loan, admi_shp, left_on='ADMI', right_on='ADMI_CD', how='left')\n",
        "\n",
        "# 행정동별 연령별 신용평점 평균\n",
        "bcd_score = stat_df.groupby(['ADMI', 'AGE'])['AVG_SCORE'].mean().reset_index()\n",
        "admi_bcd_score = pd.merge(bcd_score, admi_shp, left_on='ADMI', right_on='ADMI_CD', how='left')"
      ],
      "metadata": {
        "id": "QchccQO984k9"
      },
      "execution_count": null,
      "outputs": []
    },
    {
      "cell_type": "code",
      "source": [],
      "metadata": {
        "id": "_ifMulT89A9Q"
      },
      "execution_count": null,
      "outputs": []
    },
    {
      "cell_type": "code",
      "source": [],
      "metadata": {
        "id": "3gjzz6cg9BaV"
      },
      "execution_count": null,
      "outputs": []
    },
    {
      "cell_type": "code",
      "source": [],
      "metadata": {
        "id": "auQbas2a9BfB"
      },
      "execution_count": null,
      "outputs": []
    },
    {
      "cell_type": "code",
      "source": [],
      "metadata": {
        "id": "RGSgvx-a9Bkm"
      },
      "execution_count": null,
      "outputs": []
    },
    {
      "cell_type": "code",
      "source": [
        "# 시군구별 연령별 월소득평균\n",
        "bcd_age = stat_df.groupby(['CTY', 'AGE'])['AVG_INC'].mean().reset_index()\n",
        "cty_bcd_age = pd.merge(bcd_age, cty_shp, left_on='CTY', right_on='SGG_CD', how='left')\n",
        "\n",
        "# 시군구별 연령별 신용카드 이용금액 평균\n",
        "bcd_cred = stat_df.groupby(['CTY', 'AGE'])['AVG_CRED'].mean().reset_index()\n",
        "cty_bcd_cred = pd.merge(bcd_cred, cty_shp, left_on='CTY', right_on='SGG_CD', how='left')\n",
        "\n",
        "# 시군구별 연령별 체크카드 이용금액 평균\n",
        "bcd_chk = stat_df.groupby(['CTY', 'AGE'])['AVG_CHECK'].mean().reset_index()\n",
        "cty_bcd_chk = pd.merge(bcd_chk, cty_shp, left_on='CTY', right_on='SGG_CD', how='left')\n",
        "\n",
        "# 시군구별 연령별 카드 총 이용금액 평균\n",
        "bcd_card = stat_df.groupby(['CTY', 'AGE'])['AVG_CARD'].mean().reset_index()\n",
        "cty_bcd_card = pd.merge(bcd_card, cty_shp, left_on='CTY', right_on='SGG_CD', how='left')\n",
        "\n",
        "# 시군구별 연령별 대출, 은행업권대출, 비은행업권대출, 신용대출, 주택담보대출, 예적금 유가 담보대출, 정책자금 대출 보유자 수\n",
        "bcd_loan = stat_df.groupby(['CTY', 'AGE'])['LOAN_CNT', 'LOAN1_CNT', 'LOAN2_CNT', 'CRED_LOAN_CNT', 'HOUS_LOAN_CNT', 'BANK_LOAN_CNT', 'POL_LOAN_CNT'].sum().reset_index()\n",
        "cty_bcd_loan = pd.merge(bcd_loan, cty_shp, left_on='CTY', right_on='SGG_CD', how='left')\n",
        "\n",
        "# 시군구별 연령별 신용평점 평균\n",
        "bcd_score = stat_df.groupby(['CTY', 'AGE'])['AVG_SCORE'].mean().reset_index()\n",
        "cty_bcd_score = pd.merge(bcd_score, cty_shp, left_on='CTY', right_on='SGG_CD', how='left')"
      ],
      "metadata": {
        "id": "OYhWmnQg9BnQ"
      },
      "execution_count": null,
      "outputs": []
    },
    {
      "cell_type": "code",
      "source": [],
      "metadata": {
        "id": "kdzVzeR69Ilc"
      },
      "execution_count": null,
      "outputs": []
    },
    {
      "cell_type": "code",
      "source": [],
      "metadata": {
        "id": "wZIu3n269In8"
      },
      "execution_count": null,
      "outputs": []
    },
    {
      "cell_type": "code",
      "source": [],
      "metadata": {
        "id": "ZKu2bLMU9Iqd"
      },
      "execution_count": null,
      "outputs": []
    },
    {
      "cell_type": "code",
      "source": [
        "# 시군구별 연령별 아파트, 비아파트 거주자수\n",
        "apt_nonapt = stat_df.groupby(['CTY', 'AGE'])['APT_CNT', 'NAPT_CNT'].sum().reset_index()\n",
        "cty_apt = pd.merge(apt_nonapt, cty_shp, left_on='CTY', right_on='SGG_CD', how='left')\n",
        "\n",
        "# 시군구별 연령별 자가, 비자가 거주자수\n",
        "own_rent = stat_df.groupby(['CTY', 'AGE'])['OWN_HOUS_CNT', 'NOWN_HOUS_CNT'].sum().reset_index()\n",
        "cty_own = pd.merge(own_rent, cty_shp, left_on='CTY', right_on='SGG_CD', how='left')\n",
        "\n",
        "# 시군구별 연령별 평균 출퇴근 거리\n",
        "dist = stat_df.groupby(['CTY', 'AGE'])['AVG_DIST'].mean().reset_index()\n",
        "cty_dist = pd.merge(dist, cty_shp, left_on='CTY', right_on='SGG_CD', how='left')"
      ],
      "metadata": {
        "id": "ARA16sQO9Iwa"
      },
      "execution_count": null,
      "outputs": []
    },
    {
      "cell_type": "code",
      "source": [],
      "metadata": {
        "id": "IlCzg4Hf9RCS"
      },
      "execution_count": null,
      "outputs": []
    },
    {
      "cell_type": "code",
      "source": [],
      "metadata": {
        "id": "sLd_HNsw9REu"
      },
      "execution_count": null,
      "outputs": []
    },
    {
      "cell_type": "code",
      "source": [],
      "metadata": {
        "id": "t3RGhF_S9RIN"
      },
      "execution_count": null,
      "outputs": []
    },
    {
      "cell_type": "code",
      "source": [],
      "metadata": {
        "id": "D49jhYcM9RK4"
      },
      "execution_count": null,
      "outputs": []
    },
    {
      "cell_type": "code",
      "source": [],
      "metadata": {
        "id": "gJootlt29RNL"
      },
      "execution_count": null,
      "outputs": []
    },
    {
      "cell_type": "markdown",
      "source": [
        "## 전입데이터(서울->경기도) 분석"
      ],
      "metadata": {
        "id": "YMQNqFIP9VJP"
      }
    },
    {
      "cell_type": "code",
      "source": [
        "# 전입\n",
        "in_df = pd.read_csv('/content/drive/MyDrive/data/nice데이터/개인데이터/NICE평가정보_개인신용익명정보 산출파일_202401_202402.zip (Unzipped Files)/GYEONGGI_IN_STAT_2401.csv', encoding='euc-kr')\n",
        "# 기준시점 시도 컬럼 생성\n",
        "in_df['BS_SIDO'] = in_df['BS_SIGNGU'].astype(str).str[:2]\n",
        "# 행정동 컬럼 생성\n",
        "in_df['ADMI'] = in_df['BS_HCD'].astype(str).str[:8].astype(int)"
      ],
      "metadata": {
        "id": "wpgD78q09npn"
      },
      "execution_count": null,
      "outputs": []
    },
    {
      "cell_type": "code",
      "source": [
        "# 서울특별시에서 경기도로 전입한 사람들의 월소득 평균 (행정동 단위)\n",
        "sg = in_df[(in_df['BF_SIDO'] == 11) & (in_df['BS_SIDO'] == '41')]\n",
        "sg_inc = sg.groupby(['BF_SIDO', 'BS_SIDO', 'ADMI'])['AVG_INC'].mean().reset_index()\n",
        "admi_inc = pd.merge(sg_inc, admi_shp, left_on='ADMI', right_on='ADMI_CD', how='left')\n",
        "\n",
        "# 서울특별시에서 경기도로 전입한 사람들의 카드 총 이용금액 평균 (행정동 단위)\n",
        "sg_card = sg.groupby(['BF_SIDO', 'BS_SIDO', 'ADMI'])['AVG_CARD'].mean().reset_index()\n",
        "admi_card = pd.merge(sg_card, admi_shp, left_on='ADMI', right_on='ADMI_CD', how='left')\n",
        "\n",
        "# 서울특별시에서 경기도로 전입한 사람들의 대출 평균 잔액 (행정동 단위)\n",
        "sg_loan = sg.groupby(['BF_SIDO', 'BS_SIDO', 'ADMI'])['AVG_LOAN'].mean().reset_index()\n",
        "admi_loan = pd.merge(sg_loan, admi_shp, left_on='ADMI', right_on='ADMI_CD', how='left')"
      ],
      "metadata": {
        "id": "pAKyuOhC9UCV"
      },
      "execution_count": null,
      "outputs": []
    },
    {
      "cell_type": "markdown",
      "source": [
        "## 전출데이터(경기도->서울) 분석"
      ],
      "metadata": {
        "id": "HAoxCo7q9kd7"
      }
    },
    {
      "cell_type": "code",
      "source": [
        "# 전출\n",
        "out_df = pd.read_csv('/content/drive/MyDrive/data/nice데이터/개인데이터/NICE평가정보_개인신용익명정보 산출파일_202401_202402.zip (Unzipped Files)/GYEONGGI_OUT_STAT_2401.csv', encoding='euc-kr')\n",
        "# 기준시점 시도 컬럼 생성\n",
        "out_df['BS_SIDO'] = out_df['BS_SIGNGU'].astype(str).str[:2]\n",
        "# 행정동 컬럼 생성\n",
        "out_df['ADMI'] = out_df['BS_HCD'].astype(str).str[:8].astype(int)"
      ],
      "metadata": {
        "id": "pzViK9FI9k7k"
      },
      "execution_count": null,
      "outputs": []
    },
    {
      "cell_type": "code",
      "source": [
        "# 경기도에서 서울특별시로 월소득 평균 (행정동 단위)\n",
        "gs = out_df[(out_df['BS_SIDO'] == '41') & (out_df['AF_SIDO'] == 11)]\n",
        "gs_inc = gs.groupby(['BS_SIDO', 'AF_SIDO','ADMI'])['AVG_INC'].mean().reset_index()\n",
        "admi_inc = pd.merge(gs_inc, admi_shp, left_on='ADMI', right_on='ADMI_CD', how='left')\n",
        "\n",
        "# 경기도에서 서울특별시로 카드 총 이용금액 평균 (행정동 단위)\n",
        "gs_card = gs.groupby(['BS_SIDO', 'AF_SIDO','ADMI'])['AVG_CARD'].mean().reset_index()\n",
        "admi_card = pd.merge(gs_card, admi_shp, left_on='ADMI', right_on='ADMI_CD', how='left')\n",
        "\n",
        "# 경기도에서 서울특별시로 대출 평균 잔액 (행정동 단위)\n",
        "gs_loan = gs.groupby(['BS_SIDO', 'AF_SIDO','ADMI'])['AVG_LOAN'].mean().reset_index()\n",
        "admi_loan = pd.merge(gs_loan, admi_shp, left_on='ADMI', right_on='ADMI_CD', how='left')"
      ],
      "metadata": {
        "id": "AnsQtD8x9k-c"
      },
      "execution_count": null,
      "outputs": []
    }
  ]
}